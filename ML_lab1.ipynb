{
  "cells": [
    {
      "cell_type": "code",
      "execution_count": 18,
      "metadata": {
        "id": "AkbZgUzDX-QD"
      },
      "outputs": [],
      "source": [
        "import numpy as np              # Одномерные и многомерные массивы (array)\n",
        "import pandas as pd             # Таблицы и временные ряды (dataframe, series)\n",
        "import matplotlib.pyplot as plt # Научная графика\n",
        "import seaborn as sns           # Еще больше красивой графики для визуализации данных\n",
        "import sklearn                  # Алгоритмы машинного обучения"
      ]
    },
    {
      "cell_type": "markdown",
      "metadata": {
        "id": "xvirzCgvehEL"
      },
      "source": [
        "#**Прогнозирование сердечных заболеваний**\n",
        "---\n",
        "\n",
        "###Как известно сердечно-сосудистые заболевания остаются одной из ведущих причин смерти по всему миру. Данный датасет предоставляет возможность провести анализ факторов, влияющих на здоровье сердечно-сосудистой системы человека, что может помочь в разработке эффективных стратегий профилактики и лечения. Теперь давайте более детально рассмотрим структуру и содержание этого датасета.\n",
        "\n",
        "##**Задача**\n",
        "\n",
        "Научиться прогнозировать возможное возникновение сердечно-сосудистых заболеваний методами машинного обучения\n",
        "\n",
        "##**Описание датасета**\n",
        "\n",
        "\n",
        "\n",
        "\n",
        "*   Объем данных: **445132** записи\n",
        "*   Количество признаков: **40**\n",
        "*   Количество классов: **2**\n",
        "*   Типы и описание признаков:\n",
        "  *   `State` (Штат, в котором проживает человек) - категориальный\n",
        "  *   `Sex` (Пол человека) - категориальный\n",
        "  *   `GeneralHealth` (Общее состояние здоровья, часто оцениваемое на основе самоотчетов) - категориальный\n",
        "  *   `PhysicalHealthDays` (Количество дней, когда физическое здоровье было плохим за последние 30 дней, опять же на основе самоотчетов) - количественный\n",
        "  *   `MentalHealthDays` (Количество дней, когда психическое здоровье было плохим за последние 30 дней, опять же на основе самоотчетов) - количественный\n",
        "  *   `LastCheckupTime` (Когда был последний медицинский осмотр) - категориальный\n",
        "  *   `PhysicalActivities` (Активный ли образ жизни) - бинарный\n",
        "  *   `SleepHours` (Количество часов сна в среднем за ночь) - количественный\n",
        "  *   `RemovedTeeth` (Количество удаленных зубов) - категориальный\n",
        "  *   `HadHeartAttack` (Был ли сердечный приступ) - бинарный\n",
        "  *   `HadAngina` (Была ли стенокардия) - бинарный\n",
        "  *   `HadStroke` (Был ли инсульт) - бинарный\n",
        "  *   `HadAsthma` (Была ли астма) - бинарный\n",
        "  *   `HadSkinCancer` (Был ли рак кожи) - бинарный\n",
        "  *   `HadCOPD` (Была ли хроническая обструктивная болезнь легких (ХОБЛ)) - бинарный\n",
        "  *   `HadDepressiveDisorder` (Было ли депрессивное расстройство) - бинарный\n",
        "  *   `HadKidneyDisease` (Была ли болезнь почек) - бинарный\n",
        "  *   `adArthritis` (Был ли артрит) - бинарный\n",
        "  *   `HadDiabetes` (Был ли диабет) - категориальный\n",
        "  *   `DeafOrHardOfHearing` (Есть ли проблемы со слухом) - бинарный\n",
        "  *   `BlindOrVisionDifficulty` (Имеет ли проблемы со зрением или слепоту) - бинарный\n",
        "  *   `DifficultyConcentrating` (Есть ли трудности с концентрацией) - бинарный\n",
        "  *   `DifficultyWalking` (Есть ли трудности с ходьбой) - бинарный\n",
        "  *   `DifficultyDressingBathing` (Есть ли трудности с одеванием/купанием) - бинарный\n",
        "  *   `DifficultyErrands` (Есть ли трудности с выполнением повседневных дел) - бинарный\n",
        "  *   `SmokerStatus` (Статус курильщика (например, курит, бросил)) - категориальный\n",
        "  *   `ECigaretteUsage` (Использует ли электронные сигареты) - категориальный\n",
        "  *   `ChestScan` (Делал ли сканирование грудной клетки) - бинарный\n",
        "  *   `RaceEthnicityCategory` (Категория расы и этнической принадлежности) - категориальный\n",
        "  *   `AgeCategory` (Категория возраста) - категориальный\n",
        "  *   `HeightInMeters` (Рост в метрах) - количественный\n",
        "  *   `WeightInKilograms` (Вес в килограммах) - количественный\n",
        "  *   `BMI` (Индекс массы тела) - количественный\n",
        "  *   `AlcoholDrinkers` (Пьет ли алкоголь) - бинарный\n",
        "  *   `HIVTesting` (Делал ли тестирование на ВИЧ) - бинарный\n",
        "  *   `FluVaxLast12` (Делал ли прививку от гриппа за последние 12 месяцев) - бинарный\n",
        "  *   `PneumoVaxEver` (Делал ли прививку от пневмококка когда-либо) - бинарный\n",
        "  *   `TetanusLast10Tdap` (Делал ли прививку от столбняка за последние 10 лет) - категориальный\n",
        "  *   `HighRiskLastYear` (Был ли в высокой группе риска в течение последнего года) - бинарный\n",
        "  *   `CovidPos` (Положительный ли результат теста на COVID-19) - категориальный\n",
        "* **Есть** пропущенные значения\n",
        "* Классы **несбалансированы**\n",
        "\n",
        "\n",
        "\n",
        "\n",
        "\n",
        "\n",
        "\n",
        "\n",
        "\n",
        "\n"
      ]
    },
    {
      "cell_type": "markdown",
      "metadata": {
        "id": "CSgzYo3SMZnY"
      },
      "source": [
        "## Чтение данных"
      ]
    },
    {
      "cell_type": "code",
      "execution_count": 9,
      "metadata": {
        "id": "WmVgnSNKi0rS"
      },
      "outputs": [],
      "source": [
        "# С google disk\n",
        "#  data_raw = pd.read_csv('/content/<path>/heart_2022_with_nans.csv')\n",
        "\n",
        "#\n",
        "# url = \"https://media.githubusercontent.com/media/DDYunin/ML_course_NNGU/main/heart_2022_with_nans.csv\"\n",
        "url = \"https://media.githubusercontent.com/media/DDYunin/ML_master_course/refs/heads/main/heart_2022_with_nans.csv\"\n",
        "data_raw = pd.read_csv(url)"
      ]
    },
    {
      "cell_type": "code",
      "execution_count": 3,
      "metadata": {
        "colab": {
          "base_uri": "https://localhost:8080/",
          "height": 38
        },
        "id": "Odsl6G8NX6xo",
        "outputId": "16574c6d-ebc3-40f0-e148-f5ff66487a49"
      },
      "outputs": [
        {
          "ename": "ModuleNotFoundError",
          "evalue": "No module named 'google'",
          "output_type": "error",
          "traceback": [
            "\u001b[1;31m---------------------------------------------------------------------------\u001b[0m",
            "\u001b[1;31mModuleNotFoundError\u001b[0m                       Traceback (most recent call last)",
            "Cell \u001b[1;32mIn[3], line 1\u001b[0m\n\u001b[1;32m----> 1\u001b[0m \u001b[38;5;28;01mfrom\u001b[39;00m \u001b[38;5;21;01mgoogle\u001b[39;00m\u001b[38;5;21;01m.\u001b[39;00m\u001b[38;5;21;01mcolab\u001b[39;00m \u001b[38;5;28;01mimport\u001b[39;00m files\n\u001b[0;32m      2\u001b[0m uploaded \u001b[38;5;241m=\u001b[39m files\u001b[38;5;241m.\u001b[39mupload()\n",
            "\u001b[1;31mModuleNotFoundError\u001b[0m: No module named 'google'"
          ]
        }
      ],
      "source": [
        "from google.colab import files\n",
        "uploaded = files.upload()"
      ]
    },
    {
      "cell_type": "code",
      "execution_count": 2,
      "metadata": {
        "colab": {
          "base_uri": "https://localhost:8080/",
          "height": 198
        },
        "id": "gA0AXqfeYTma",
        "outputId": "712e26af-9c9e-434f-a5c1-f931da68aea1"
      },
      "outputs": [
        {
          "ename": "NameError",
          "evalue": "name 'uploaded' is not defined",
          "output_type": "error",
          "traceback": [
            "\u001b[1;31m---------------------------------------------------------------------------\u001b[0m",
            "\u001b[1;31mNameError\u001b[0m                                 Traceback (most recent call last)",
            "Cell \u001b[1;32mIn[2], line 2\u001b[0m\n\u001b[0;32m      1\u001b[0m \u001b[38;5;28;01mimport\u001b[39;00m \u001b[38;5;21;01mio\u001b[39;00m\n\u001b[1;32m----> 2\u001b[0m data_raw \u001b[38;5;241m=\u001b[39m pd\u001b[38;5;241m.\u001b[39mread_csv(io\u001b[38;5;241m.\u001b[39mBytesIO(\u001b[43muploaded\u001b[49m[\u001b[38;5;124m'\u001b[39m\u001b[38;5;124mheart_2022_with_nans.csv\u001b[39m\u001b[38;5;124m'\u001b[39m]))\n",
            "\u001b[1;31mNameError\u001b[0m: name 'uploaded' is not defined"
          ]
        }
      ],
      "source": [
        "import io\n",
        "data_raw = pd.read_csv(io.BytesIO(uploaded['heart_2022_with_nans.csv']))"
      ]
    },
    {
      "cell_type": "code",
      "execution_count": 19,
      "metadata": {
        "colab": {
          "base_uri": "https://localhost:8080/",
          "height": 790
        },
        "id": "dZ6cR6QYdmpF",
        "outputId": "641a2594-63f3-4762-91ba-f902b46369e1"
      },
      "outputs": [
        {
          "data": {
            "text/html": [
              "<div>\n",
              "<style scoped>\n",
              "    .dataframe tbody tr th:only-of-type {\n",
              "        vertical-align: middle;\n",
              "    }\n",
              "\n",
              "    .dataframe tbody tr th {\n",
              "        vertical-align: top;\n",
              "    }\n",
              "\n",
              "    .dataframe thead th {\n",
              "        text-align: right;\n",
              "    }\n",
              "</style>\n",
              "<table border=\"1\" class=\"dataframe\">\n",
              "  <thead>\n",
              "    <tr style=\"text-align: right;\">\n",
              "      <th></th>\n",
              "      <th>State</th>\n",
              "      <th>Sex</th>\n",
              "      <th>GeneralHealth</th>\n",
              "      <th>PhysicalHealthDays</th>\n",
              "      <th>MentalHealthDays</th>\n",
              "      <th>LastCheckupTime</th>\n",
              "      <th>PhysicalActivities</th>\n",
              "      <th>SleepHours</th>\n",
              "      <th>RemovedTeeth</th>\n",
              "      <th>HadHeartAttack</th>\n",
              "      <th>...</th>\n",
              "      <th>HeightInMeters</th>\n",
              "      <th>WeightInKilograms</th>\n",
              "      <th>BMI</th>\n",
              "      <th>AlcoholDrinkers</th>\n",
              "      <th>HIVTesting</th>\n",
              "      <th>FluVaxLast12</th>\n",
              "      <th>PneumoVaxEver</th>\n",
              "      <th>TetanusLast10Tdap</th>\n",
              "      <th>HighRiskLastYear</th>\n",
              "      <th>CovidPos</th>\n",
              "    </tr>\n",
              "  </thead>\n",
              "  <tbody>\n",
              "    <tr>\n",
              "      <th>0</th>\n",
              "      <td>Alabama</td>\n",
              "      <td>Female</td>\n",
              "      <td>Very good</td>\n",
              "      <td>0.0</td>\n",
              "      <td>0.0</td>\n",
              "      <td>Within past year (anytime less than 12 months ...</td>\n",
              "      <td>No</td>\n",
              "      <td>8.0</td>\n",
              "      <td>NaN</td>\n",
              "      <td>No</td>\n",
              "      <td>...</td>\n",
              "      <td>NaN</td>\n",
              "      <td>NaN</td>\n",
              "      <td>NaN</td>\n",
              "      <td>No</td>\n",
              "      <td>No</td>\n",
              "      <td>Yes</td>\n",
              "      <td>No</td>\n",
              "      <td>Yes, received tetanus shot but not sure what type</td>\n",
              "      <td>No</td>\n",
              "      <td>No</td>\n",
              "    </tr>\n",
              "    <tr>\n",
              "      <th>1</th>\n",
              "      <td>Alabama</td>\n",
              "      <td>Female</td>\n",
              "      <td>Excellent</td>\n",
              "      <td>0.0</td>\n",
              "      <td>0.0</td>\n",
              "      <td>NaN</td>\n",
              "      <td>No</td>\n",
              "      <td>6.0</td>\n",
              "      <td>NaN</td>\n",
              "      <td>No</td>\n",
              "      <td>...</td>\n",
              "      <td>1.60</td>\n",
              "      <td>68.04</td>\n",
              "      <td>26.57</td>\n",
              "      <td>No</td>\n",
              "      <td>No</td>\n",
              "      <td>No</td>\n",
              "      <td>No</td>\n",
              "      <td>No, did not receive any tetanus shot in the pa...</td>\n",
              "      <td>No</td>\n",
              "      <td>No</td>\n",
              "    </tr>\n",
              "    <tr>\n",
              "      <th>2</th>\n",
              "      <td>Alabama</td>\n",
              "      <td>Female</td>\n",
              "      <td>Very good</td>\n",
              "      <td>2.0</td>\n",
              "      <td>3.0</td>\n",
              "      <td>Within past year (anytime less than 12 months ...</td>\n",
              "      <td>Yes</td>\n",
              "      <td>5.0</td>\n",
              "      <td>NaN</td>\n",
              "      <td>No</td>\n",
              "      <td>...</td>\n",
              "      <td>1.57</td>\n",
              "      <td>63.50</td>\n",
              "      <td>25.61</td>\n",
              "      <td>No</td>\n",
              "      <td>No</td>\n",
              "      <td>No</td>\n",
              "      <td>No</td>\n",
              "      <td>NaN</td>\n",
              "      <td>No</td>\n",
              "      <td>Yes</td>\n",
              "    </tr>\n",
              "    <tr>\n",
              "      <th>3</th>\n",
              "      <td>Alabama</td>\n",
              "      <td>Female</td>\n",
              "      <td>Excellent</td>\n",
              "      <td>0.0</td>\n",
              "      <td>0.0</td>\n",
              "      <td>Within past year (anytime less than 12 months ...</td>\n",
              "      <td>Yes</td>\n",
              "      <td>7.0</td>\n",
              "      <td>NaN</td>\n",
              "      <td>No</td>\n",
              "      <td>...</td>\n",
              "      <td>1.65</td>\n",
              "      <td>63.50</td>\n",
              "      <td>23.30</td>\n",
              "      <td>No</td>\n",
              "      <td>No</td>\n",
              "      <td>Yes</td>\n",
              "      <td>Yes</td>\n",
              "      <td>No, did not receive any tetanus shot in the pa...</td>\n",
              "      <td>No</td>\n",
              "      <td>No</td>\n",
              "    </tr>\n",
              "    <tr>\n",
              "      <th>4</th>\n",
              "      <td>Alabama</td>\n",
              "      <td>Female</td>\n",
              "      <td>Fair</td>\n",
              "      <td>2.0</td>\n",
              "      <td>0.0</td>\n",
              "      <td>Within past year (anytime less than 12 months ...</td>\n",
              "      <td>Yes</td>\n",
              "      <td>9.0</td>\n",
              "      <td>NaN</td>\n",
              "      <td>No</td>\n",
              "      <td>...</td>\n",
              "      <td>1.57</td>\n",
              "      <td>53.98</td>\n",
              "      <td>21.77</td>\n",
              "      <td>Yes</td>\n",
              "      <td>No</td>\n",
              "      <td>No</td>\n",
              "      <td>Yes</td>\n",
              "      <td>No, did not receive any tetanus shot in the pa...</td>\n",
              "      <td>No</td>\n",
              "      <td>No</td>\n",
              "    </tr>\n",
              "    <tr>\n",
              "      <th>...</th>\n",
              "      <td>...</td>\n",
              "      <td>...</td>\n",
              "      <td>...</td>\n",
              "      <td>...</td>\n",
              "      <td>...</td>\n",
              "      <td>...</td>\n",
              "      <td>...</td>\n",
              "      <td>...</td>\n",
              "      <td>...</td>\n",
              "      <td>...</td>\n",
              "      <td>...</td>\n",
              "      <td>...</td>\n",
              "      <td>...</td>\n",
              "      <td>...</td>\n",
              "      <td>...</td>\n",
              "      <td>...</td>\n",
              "      <td>...</td>\n",
              "      <td>...</td>\n",
              "      <td>...</td>\n",
              "      <td>...</td>\n",
              "      <td>...</td>\n",
              "    </tr>\n",
              "    <tr>\n",
              "      <th>445127</th>\n",
              "      <td>Virgin Islands</td>\n",
              "      <td>Female</td>\n",
              "      <td>Good</td>\n",
              "      <td>0.0</td>\n",
              "      <td>3.0</td>\n",
              "      <td>Within past 2 years (1 year but less than 2 ye...</td>\n",
              "      <td>Yes</td>\n",
              "      <td>6.0</td>\n",
              "      <td>None of them</td>\n",
              "      <td>No</td>\n",
              "      <td>...</td>\n",
              "      <td>1.65</td>\n",
              "      <td>69.85</td>\n",
              "      <td>25.63</td>\n",
              "      <td>NaN</td>\n",
              "      <td>Yes</td>\n",
              "      <td>No</td>\n",
              "      <td>No</td>\n",
              "      <td>No, did not receive any tetanus shot in the pa...</td>\n",
              "      <td>No</td>\n",
              "      <td>Yes</td>\n",
              "    </tr>\n",
              "    <tr>\n",
              "      <th>445128</th>\n",
              "      <td>Virgin Islands</td>\n",
              "      <td>Female</td>\n",
              "      <td>Excellent</td>\n",
              "      <td>2.0</td>\n",
              "      <td>2.0</td>\n",
              "      <td>Within past year (anytime less than 12 months ...</td>\n",
              "      <td>Yes</td>\n",
              "      <td>7.0</td>\n",
              "      <td>None of them</td>\n",
              "      <td>No</td>\n",
              "      <td>...</td>\n",
              "      <td>1.70</td>\n",
              "      <td>83.01</td>\n",
              "      <td>28.66</td>\n",
              "      <td>No</td>\n",
              "      <td>Yes</td>\n",
              "      <td>Yes</td>\n",
              "      <td>No</td>\n",
              "      <td>Yes, received tetanus shot but not sure what type</td>\n",
              "      <td>No</td>\n",
              "      <td>No</td>\n",
              "    </tr>\n",
              "    <tr>\n",
              "      <th>445129</th>\n",
              "      <td>Virgin Islands</td>\n",
              "      <td>Female</td>\n",
              "      <td>Poor</td>\n",
              "      <td>30.0</td>\n",
              "      <td>30.0</td>\n",
              "      <td>5 or more years ago</td>\n",
              "      <td>No</td>\n",
              "      <td>5.0</td>\n",
              "      <td>1 to 5</td>\n",
              "      <td>No</td>\n",
              "      <td>...</td>\n",
              "      <td>1.70</td>\n",
              "      <td>49.90</td>\n",
              "      <td>17.23</td>\n",
              "      <td>NaN</td>\n",
              "      <td>No</td>\n",
              "      <td>No</td>\n",
              "      <td>No</td>\n",
              "      <td>No, did not receive any tetanus shot in the pa...</td>\n",
              "      <td>No</td>\n",
              "      <td>No</td>\n",
              "    </tr>\n",
              "    <tr>\n",
              "      <th>445130</th>\n",
              "      <td>Virgin Islands</td>\n",
              "      <td>Male</td>\n",
              "      <td>Very good</td>\n",
              "      <td>0.0</td>\n",
              "      <td>0.0</td>\n",
              "      <td>Within past year (anytime less than 12 months ...</td>\n",
              "      <td>No</td>\n",
              "      <td>5.0</td>\n",
              "      <td>None of them</td>\n",
              "      <td>Yes</td>\n",
              "      <td>...</td>\n",
              "      <td>1.83</td>\n",
              "      <td>108.86</td>\n",
              "      <td>32.55</td>\n",
              "      <td>No</td>\n",
              "      <td>Yes</td>\n",
              "      <td>Yes</td>\n",
              "      <td>Yes</td>\n",
              "      <td>No, did not receive any tetanus shot in the pa...</td>\n",
              "      <td>No</td>\n",
              "      <td>Yes</td>\n",
              "    </tr>\n",
              "    <tr>\n",
              "      <th>445131</th>\n",
              "      <td>Virgin Islands</td>\n",
              "      <td>Male</td>\n",
              "      <td>Very good</td>\n",
              "      <td>0.0</td>\n",
              "      <td>1.0</td>\n",
              "      <td>NaN</td>\n",
              "      <td>Yes</td>\n",
              "      <td>5.0</td>\n",
              "      <td>None of them</td>\n",
              "      <td>No</td>\n",
              "      <td>...</td>\n",
              "      <td>1.68</td>\n",
              "      <td>63.50</td>\n",
              "      <td>22.60</td>\n",
              "      <td>Yes</td>\n",
              "      <td>No</td>\n",
              "      <td>No</td>\n",
              "      <td>No</td>\n",
              "      <td>Yes, received tetanus shot but not sure what type</td>\n",
              "      <td>No</td>\n",
              "      <td>No</td>\n",
              "    </tr>\n",
              "  </tbody>\n",
              "</table>\n",
              "<p>445132 rows × 40 columns</p>\n",
              "</div>"
            ],
            "text/plain": [
              "                 State     Sex GeneralHealth  PhysicalHealthDays  \\\n",
              "0              Alabama  Female     Very good                 0.0   \n",
              "1              Alabama  Female     Excellent                 0.0   \n",
              "2              Alabama  Female     Very good                 2.0   \n",
              "3              Alabama  Female     Excellent                 0.0   \n",
              "4              Alabama  Female          Fair                 2.0   \n",
              "...                ...     ...           ...                 ...   \n",
              "445127  Virgin Islands  Female          Good                 0.0   \n",
              "445128  Virgin Islands  Female     Excellent                 2.0   \n",
              "445129  Virgin Islands  Female          Poor                30.0   \n",
              "445130  Virgin Islands    Male     Very good                 0.0   \n",
              "445131  Virgin Islands    Male     Very good                 0.0   \n",
              "\n",
              "        MentalHealthDays                                    LastCheckupTime  \\\n",
              "0                    0.0  Within past year (anytime less than 12 months ...   \n",
              "1                    0.0                                                NaN   \n",
              "2                    3.0  Within past year (anytime less than 12 months ...   \n",
              "3                    0.0  Within past year (anytime less than 12 months ...   \n",
              "4                    0.0  Within past year (anytime less than 12 months ...   \n",
              "...                  ...                                                ...   \n",
              "445127               3.0  Within past 2 years (1 year but less than 2 ye...   \n",
              "445128               2.0  Within past year (anytime less than 12 months ...   \n",
              "445129              30.0                                5 or more years ago   \n",
              "445130               0.0  Within past year (anytime less than 12 months ...   \n",
              "445131               1.0                                                NaN   \n",
              "\n",
              "       PhysicalActivities  SleepHours  RemovedTeeth HadHeartAttack  ...  \\\n",
              "0                      No         8.0           NaN             No  ...   \n",
              "1                      No         6.0           NaN             No  ...   \n",
              "2                     Yes         5.0           NaN             No  ...   \n",
              "3                     Yes         7.0           NaN             No  ...   \n",
              "4                     Yes         9.0           NaN             No  ...   \n",
              "...                   ...         ...           ...            ...  ...   \n",
              "445127                Yes         6.0  None of them             No  ...   \n",
              "445128                Yes         7.0  None of them             No  ...   \n",
              "445129                 No         5.0        1 to 5             No  ...   \n",
              "445130                 No         5.0  None of them            Yes  ...   \n",
              "445131                Yes         5.0  None of them             No  ...   \n",
              "\n",
              "       HeightInMeters WeightInKilograms    BMI AlcoholDrinkers HIVTesting  \\\n",
              "0                 NaN               NaN    NaN              No         No   \n",
              "1                1.60             68.04  26.57              No         No   \n",
              "2                1.57             63.50  25.61              No         No   \n",
              "3                1.65             63.50  23.30              No         No   \n",
              "4                1.57             53.98  21.77             Yes         No   \n",
              "...               ...               ...    ...             ...        ...   \n",
              "445127           1.65             69.85  25.63             NaN        Yes   \n",
              "445128           1.70             83.01  28.66              No        Yes   \n",
              "445129           1.70             49.90  17.23             NaN         No   \n",
              "445130           1.83            108.86  32.55              No        Yes   \n",
              "445131           1.68             63.50  22.60             Yes         No   \n",
              "\n",
              "       FluVaxLast12 PneumoVaxEver  \\\n",
              "0               Yes            No   \n",
              "1                No            No   \n",
              "2                No            No   \n",
              "3               Yes           Yes   \n",
              "4                No           Yes   \n",
              "...             ...           ...   \n",
              "445127           No            No   \n",
              "445128          Yes            No   \n",
              "445129           No            No   \n",
              "445130          Yes           Yes   \n",
              "445131           No            No   \n",
              "\n",
              "                                        TetanusLast10Tdap HighRiskLastYear  \\\n",
              "0       Yes, received tetanus shot but not sure what type               No   \n",
              "1       No, did not receive any tetanus shot in the pa...               No   \n",
              "2                                                     NaN               No   \n",
              "3       No, did not receive any tetanus shot in the pa...               No   \n",
              "4       No, did not receive any tetanus shot in the pa...               No   \n",
              "...                                                   ...              ...   \n",
              "445127  No, did not receive any tetanus shot in the pa...               No   \n",
              "445128  Yes, received tetanus shot but not sure what type               No   \n",
              "445129  No, did not receive any tetanus shot in the pa...               No   \n",
              "445130  No, did not receive any tetanus shot in the pa...               No   \n",
              "445131  Yes, received tetanus shot but not sure what type               No   \n",
              "\n",
              "       CovidPos  \n",
              "0            No  \n",
              "1            No  \n",
              "2           Yes  \n",
              "3            No  \n",
              "4            No  \n",
              "...         ...  \n",
              "445127      Yes  \n",
              "445128       No  \n",
              "445129       No  \n",
              "445130      Yes  \n",
              "445131       No  \n",
              "\n",
              "[445132 rows x 40 columns]"
            ]
          },
          "execution_count": 19,
          "metadata": {},
          "output_type": "execute_result"
        }
      ],
      "source": [
        "data_raw"
      ]
    },
    {
      "cell_type": "code",
      "execution_count": 20,
      "metadata": {
        "colab": {
          "base_uri": "https://localhost:8080/"
        },
        "id": "UTlE8QcWgeA3",
        "outputId": "3dddb3d9-7399-423d-873f-5ddffb4835a6"
      },
      "outputs": [
        {
          "data": {
            "text/plain": [
              "array(['Age 80 or older', 'Age 55 to 59', nan, 'Age 40 to 44',\n",
              "       'Age 75 to 79', 'Age 70 to 74', 'Age 65 to 69', 'Age 60 to 64',\n",
              "       'Age 50 to 54', 'Age 45 to 49', 'Age 35 to 39', 'Age 25 to 29',\n",
              "       'Age 30 to 34', 'Age 18 to 24'], dtype=object)"
            ]
          },
          "execution_count": 20,
          "metadata": {},
          "output_type": "execute_result"
        }
      ],
      "source": [
        "# Посмотреть столбец отдельно на уникальные значения\n",
        "data_raw['AgeCategory'].unique()"
      ]
    },
    {
      "cell_type": "code",
      "execution_count": 22,
      "metadata": {
        "colab": {
          "base_uri": "https://localhost:8080/"
        },
        "id": "Y7_cYJG4IrFJ",
        "outputId": "db74adb8-e80c-4ea7-dec1-5e97f74a51be"
      },
      "outputs": [
        {
          "name": "stdout",
          "output_type": "stream",
          "text": [
            "<class 'pandas.core.frame.DataFrame'>\n",
            "RangeIndex: 445132 entries, 0 to 445131\n",
            "Data columns (total 40 columns):\n",
            " #   Column                     Non-Null Count   Dtype  \n",
            "---  ------                     --------------   -----  \n",
            " 0   State                      445132 non-null  object \n",
            " 1   Sex                        445132 non-null  object \n",
            " 2   GeneralHealth              443934 non-null  object \n",
            " 3   PhysicalHealthDays         434205 non-null  float64\n",
            " 4   MentalHealthDays           436065 non-null  float64\n",
            " 5   LastCheckupTime            436824 non-null  object \n",
            " 6   PhysicalActivities         444039 non-null  object \n",
            " 7   SleepHours                 439679 non-null  float64\n",
            " 8   RemovedTeeth               433772 non-null  object \n",
            " 9   HadHeartAttack             442067 non-null  object \n",
            " 10  HadAngina                  440727 non-null  object \n",
            " 11  HadStroke                  443575 non-null  object \n",
            " 12  HadAsthma                  443359 non-null  object \n",
            " 13  HadSkinCancer              441989 non-null  object \n",
            " 14  HadCOPD                    442913 non-null  object \n",
            " 15  HadDepressiveDisorder      442320 non-null  object \n",
            " 16  HadKidneyDisease           443206 non-null  object \n",
            " 17  HadArthritis               442499 non-null  object \n",
            " 18  HadDiabetes                444045 non-null  object \n",
            " 19  DeafOrHardOfHearing        424485 non-null  object \n",
            " 20  BlindOrVisionDifficulty    423568 non-null  object \n",
            " 21  DifficultyConcentrating    420892 non-null  object \n",
            " 22  DifficultyWalking          421120 non-null  object \n",
            " 23  DifficultyDressingBathing  421217 non-null  object \n",
            " 24  DifficultyErrands          419476 non-null  object \n",
            " 25  SmokerStatus               409670 non-null  object \n",
            " 26  ECigaretteUsage            409472 non-null  object \n",
            " 27  ChestScan                  389086 non-null  object \n",
            " 28  RaceEthnicityCategory      431075 non-null  object \n",
            " 29  AgeCategory                436053 non-null  object \n",
            " 30  HeightInMeters             416480 non-null  float64\n",
            " 31  WeightInKilograms          403054 non-null  float64\n",
            " 32  BMI                        396326 non-null  float64\n",
            " 33  AlcoholDrinkers            398558 non-null  object \n",
            " 34  HIVTesting                 379005 non-null  object \n",
            " 35  FluVaxLast12               398011 non-null  object \n",
            " 36  PneumoVaxEver              368092 non-null  object \n",
            " 37  TetanusLast10Tdap          362616 non-null  object \n",
            " 38  HighRiskLastYear           394509 non-null  object \n",
            " 39  CovidPos                   394368 non-null  object \n",
            "dtypes: float64(6), object(34)\n",
            "memory usage: 135.8+ MB\n"
          ]
        }
      ],
      "source": [
        "data_raw.info()"
      ]
    },
    {
      "cell_type": "markdown",
      "metadata": {
        "id": "WqIGbAZSMkXo"
      },
      "source": [
        "## Визуализация данных, основные значения"
      ]
    },
    {
      "cell_type": "code",
      "execution_count": 23,
      "metadata": {
        "colab": {
          "base_uri": "https://localhost:8080/",
          "height": 300
        },
        "id": "VSoDiEUUeYdn",
        "outputId": "4a3f7dde-3ec3-4420-e637-06399c07e838"
      },
      "outputs": [
        {
          "data": {
            "text/html": [
              "<div>\n",
              "<style scoped>\n",
              "    .dataframe tbody tr th:only-of-type {\n",
              "        vertical-align: middle;\n",
              "    }\n",
              "\n",
              "    .dataframe tbody tr th {\n",
              "        vertical-align: top;\n",
              "    }\n",
              "\n",
              "    .dataframe thead th {\n",
              "        text-align: right;\n",
              "    }\n",
              "</style>\n",
              "<table border=\"1\" class=\"dataframe\">\n",
              "  <thead>\n",
              "    <tr style=\"text-align: right;\">\n",
              "      <th></th>\n",
              "      <th>PhysicalHealthDays</th>\n",
              "      <th>MentalHealthDays</th>\n",
              "      <th>SleepHours</th>\n",
              "      <th>HeightInMeters</th>\n",
              "      <th>WeightInKilograms</th>\n",
              "      <th>BMI</th>\n",
              "    </tr>\n",
              "  </thead>\n",
              "  <tbody>\n",
              "    <tr>\n",
              "      <th>count</th>\n",
              "      <td>434205.000000</td>\n",
              "      <td>436065.000000</td>\n",
              "      <td>439679.000000</td>\n",
              "      <td>416480.000000</td>\n",
              "      <td>403054.000000</td>\n",
              "      <td>396326.000000</td>\n",
              "    </tr>\n",
              "    <tr>\n",
              "      <th>mean</th>\n",
              "      <td>4.347919</td>\n",
              "      <td>4.382649</td>\n",
              "      <td>7.022983</td>\n",
              "      <td>1.702691</td>\n",
              "      <td>83.074470</td>\n",
              "      <td>28.529842</td>\n",
              "    </tr>\n",
              "    <tr>\n",
              "      <th>std</th>\n",
              "      <td>8.688912</td>\n",
              "      <td>8.387475</td>\n",
              "      <td>1.502425</td>\n",
              "      <td>0.107177</td>\n",
              "      <td>21.448173</td>\n",
              "      <td>6.554889</td>\n",
              "    </tr>\n",
              "    <tr>\n",
              "      <th>min</th>\n",
              "      <td>0.000000</td>\n",
              "      <td>0.000000</td>\n",
              "      <td>1.000000</td>\n",
              "      <td>0.910000</td>\n",
              "      <td>22.680000</td>\n",
              "      <td>12.020000</td>\n",
              "    </tr>\n",
              "    <tr>\n",
              "      <th>25%</th>\n",
              "      <td>0.000000</td>\n",
              "      <td>0.000000</td>\n",
              "      <td>6.000000</td>\n",
              "      <td>1.630000</td>\n",
              "      <td>68.040000</td>\n",
              "      <td>24.130000</td>\n",
              "    </tr>\n",
              "    <tr>\n",
              "      <th>50%</th>\n",
              "      <td>0.000000</td>\n",
              "      <td>0.000000</td>\n",
              "      <td>7.000000</td>\n",
              "      <td>1.700000</td>\n",
              "      <td>80.740000</td>\n",
              "      <td>27.440000</td>\n",
              "    </tr>\n",
              "    <tr>\n",
              "      <th>75%</th>\n",
              "      <td>3.000000</td>\n",
              "      <td>5.000000</td>\n",
              "      <td>8.000000</td>\n",
              "      <td>1.780000</td>\n",
              "      <td>95.250000</td>\n",
              "      <td>31.750000</td>\n",
              "    </tr>\n",
              "    <tr>\n",
              "      <th>max</th>\n",
              "      <td>30.000000</td>\n",
              "      <td>30.000000</td>\n",
              "      <td>24.000000</td>\n",
              "      <td>2.410000</td>\n",
              "      <td>292.570000</td>\n",
              "      <td>99.640000</td>\n",
              "    </tr>\n",
              "  </tbody>\n",
              "</table>\n",
              "</div>"
            ],
            "text/plain": [
              "       PhysicalHealthDays  MentalHealthDays     SleepHours  HeightInMeters  \\\n",
              "count       434205.000000     436065.000000  439679.000000   416480.000000   \n",
              "mean             4.347919          4.382649       7.022983        1.702691   \n",
              "std              8.688912          8.387475       1.502425        0.107177   \n",
              "min              0.000000          0.000000       1.000000        0.910000   \n",
              "25%              0.000000          0.000000       6.000000        1.630000   \n",
              "50%              0.000000          0.000000       7.000000        1.700000   \n",
              "75%              3.000000          5.000000       8.000000        1.780000   \n",
              "max             30.000000         30.000000      24.000000        2.410000   \n",
              "\n",
              "       WeightInKilograms            BMI  \n",
              "count      403054.000000  396326.000000  \n",
              "mean           83.074470      28.529842  \n",
              "std            21.448173       6.554889  \n",
              "min            22.680000      12.020000  \n",
              "25%            68.040000      24.130000  \n",
              "50%            80.740000      27.440000  \n",
              "75%            95.250000      31.750000  \n",
              "max           292.570000      99.640000  "
            ]
          },
          "execution_count": 23,
          "metadata": {},
          "output_type": "execute_result"
        }
      ],
      "source": [
        "data_raw.describe()"
      ]
    },
    {
      "cell_type": "code",
      "execution_count": 24,
      "metadata": {
        "colab": {
          "base_uri": "https://localhost:8080/",
          "height": 237
        },
        "id": "siynBqfFeYa2",
        "outputId": "04036a83-f477-44de-b6f1-fdb8ae3fc2cb"
      },
      "outputs": [
        {
          "data": {
            "text/html": [
              "<div>\n",
              "<style scoped>\n",
              "    .dataframe tbody tr th:only-of-type {\n",
              "        vertical-align: middle;\n",
              "    }\n",
              "\n",
              "    .dataframe tbody tr th {\n",
              "        vertical-align: top;\n",
              "    }\n",
              "\n",
              "    .dataframe thead th {\n",
              "        text-align: right;\n",
              "    }\n",
              "</style>\n",
              "<table border=\"1\" class=\"dataframe\">\n",
              "  <thead>\n",
              "    <tr style=\"text-align: right;\">\n",
              "      <th></th>\n",
              "      <th>PhysicalHealthDays</th>\n",
              "      <th>MentalHealthDays</th>\n",
              "      <th>SleepHours</th>\n",
              "      <th>HeightInMeters</th>\n",
              "      <th>WeightInKilograms</th>\n",
              "      <th>BMI</th>\n",
              "    </tr>\n",
              "  </thead>\n",
              "  <tbody>\n",
              "    <tr>\n",
              "      <th>PhysicalHealthDays</th>\n",
              "      <td>1.000000</td>\n",
              "      <td>0.321349</td>\n",
              "      <td>-0.055906</td>\n",
              "      <td>-0.050867</td>\n",
              "      <td>0.072838</td>\n",
              "      <td>0.112865</td>\n",
              "    </tr>\n",
              "    <tr>\n",
              "      <th>MentalHealthDays</th>\n",
              "      <td>0.321349</td>\n",
              "      <td>1.000000</td>\n",
              "      <td>-0.129075</td>\n",
              "      <td>-0.049473</td>\n",
              "      <td>0.040345</td>\n",
              "      <td>0.075891</td>\n",
              "    </tr>\n",
              "    <tr>\n",
              "      <th>SleepHours</th>\n",
              "      <td>-0.055906</td>\n",
              "      <td>-0.129075</td>\n",
              "      <td>1.000000</td>\n",
              "      <td>-0.014668</td>\n",
              "      <td>-0.053521</td>\n",
              "      <td>-0.050805</td>\n",
              "    </tr>\n",
              "    <tr>\n",
              "      <th>HeightInMeters</th>\n",
              "      <td>-0.050867</td>\n",
              "      <td>-0.049473</td>\n",
              "      <td>-0.014668</td>\n",
              "      <td>1.000000</td>\n",
              "      <td>0.467892</td>\n",
              "      <td>-0.028349</td>\n",
              "    </tr>\n",
              "    <tr>\n",
              "      <th>WeightInKilograms</th>\n",
              "      <td>0.072838</td>\n",
              "      <td>0.040345</td>\n",
              "      <td>-0.053521</td>\n",
              "      <td>0.467892</td>\n",
              "      <td>1.000000</td>\n",
              "      <td>0.859557</td>\n",
              "    </tr>\n",
              "    <tr>\n",
              "      <th>BMI</th>\n",
              "      <td>0.112865</td>\n",
              "      <td>0.075891</td>\n",
              "      <td>-0.050805</td>\n",
              "      <td>-0.028349</td>\n",
              "      <td>0.859557</td>\n",
              "      <td>1.000000</td>\n",
              "    </tr>\n",
              "  </tbody>\n",
              "</table>\n",
              "</div>"
            ],
            "text/plain": [
              "                    PhysicalHealthDays  MentalHealthDays  SleepHours  \\\n",
              "PhysicalHealthDays            1.000000          0.321349   -0.055906   \n",
              "MentalHealthDays              0.321349          1.000000   -0.129075   \n",
              "SleepHours                   -0.055906         -0.129075    1.000000   \n",
              "HeightInMeters               -0.050867         -0.049473   -0.014668   \n",
              "WeightInKilograms             0.072838          0.040345   -0.053521   \n",
              "BMI                           0.112865          0.075891   -0.050805   \n",
              "\n",
              "                    HeightInMeters  WeightInKilograms       BMI  \n",
              "PhysicalHealthDays       -0.050867           0.072838  0.112865  \n",
              "MentalHealthDays         -0.049473           0.040345  0.075891  \n",
              "SleepHours               -0.014668          -0.053521 -0.050805  \n",
              "HeightInMeters            1.000000           0.467892 -0.028349  \n",
              "WeightInKilograms         0.467892           1.000000  0.859557  \n",
              "BMI                      -0.028349           0.859557  1.000000  "
            ]
          },
          "execution_count": 24,
          "metadata": {},
          "output_type": "execute_result"
        }
      ],
      "source": [
        "corr_matrix = data_raw.corr(numeric_only=True)\n",
        "corr_matrix"
      ]
    },
    {
      "cell_type": "code",
      "execution_count": 25,
      "metadata": {
        "colab": {
          "base_uri": "https://localhost:8080/",
          "height": 558
        },
        "id": "Sx-by8gxeYYO",
        "outputId": "051648c3-1898-4501-c128-ade9b045b5f6"
      },
      "outputs": [
        {
          "data": {
            "image/png": "[encoded data removed]",
            "text/plain": [
              "<Figure size 640x480 with 2 Axes>"
            ]
          },
          "metadata": {},
          "output_type": "display_data"
        }
      ],
      "source": [
        "sns.heatmap(corr_matrix, square=True, annot=True, fmt='.2f', vmin=-1, vmax=1, cmap='coolwarm')\n",
        "pass"
      ]
    },
    {
      "cell_type": "markdown",
      "metadata": {
        "id": "YkVoDhh-K7yJ"
      },
      "source": [
        "Исходя из вида данной матрицы, можно сделать следующие выводы:\n",
        "\n",
        "* Наблюдается немалая корреляция между физическим и психическим состоянием\n",
        "* Индекс массы тела напрямую зависит от веса, что очевидно\n",
        "* Психическое состояние отрицательно коррелирует с показателелем количество часов сна\n",
        "* Есть некая корреляция между физическим состоянием и индексом массы тела\n"
      ]
    },
    {
      "cell_type": "markdown",
      "metadata": {
        "id": "IofUZSxCiIHc"
      },
      "source": [
        "### Продолжение визуализации и интерпретации некоторых данных\n",
        "\n",
        "Зависимость наличия сердечных заболеваний от возраста:"
      ]
    },
    {
      "cell_type": "code",
      "execution_count": 26,
      "metadata": {
        "colab": {
          "base_uri": "https://localhost:8080/",
          "height": 864
        },
        "id": "MCDSrss0sRr1",
        "outputId": "238e4a61-7da3-4126-8578-3b66f23eab0d"
      },
      "outputs": [
        {
          "data": {
            "text/html": [
              "<div>\n",
              "<style scoped>\n",
              "    .dataframe tbody tr th:only-of-type {\n",
              "        vertical-align: middle;\n",
              "    }\n",
              "\n",
              "    .dataframe tbody tr th {\n",
              "        vertical-align: top;\n",
              "    }\n",
              "\n",
              "    .dataframe thead th {\n",
              "        text-align: right;\n",
              "    }\n",
              "</style>\n",
              "<table border=\"1\" class=\"dataframe\">\n",
              "  <thead>\n",
              "    <tr style=\"text-align: right;\">\n",
              "      <th></th>\n",
              "      <th>AgeCategory</th>\n",
              "      <th>HadHeartAttack</th>\n",
              "      <th>n</th>\n",
              "    </tr>\n",
              "  </thead>\n",
              "  <tbody>\n",
              "    <tr>\n",
              "      <th>0</th>\n",
              "      <td>Age 18 to 24</td>\n",
              "      <td>No</td>\n",
              "      <td>26676</td>\n",
              "    </tr>\n",
              "    <tr>\n",
              "      <th>1</th>\n",
              "      <td>Age 18 to 24</td>\n",
              "      <td>Yes</td>\n",
              "      <td>122</td>\n",
              "    </tr>\n",
              "    <tr>\n",
              "      <th>2</th>\n",
              "      <td>Age 25 to 29</td>\n",
              "      <td>No</td>\n",
              "      <td>21782</td>\n",
              "    </tr>\n",
              "    <tr>\n",
              "      <th>3</th>\n",
              "      <td>Age 25 to 29</td>\n",
              "      <td>Yes</td>\n",
              "      <td>119</td>\n",
              "    </tr>\n",
              "    <tr>\n",
              "      <th>4</th>\n",
              "      <td>Age 30 to 34</td>\n",
              "      <td>No</td>\n",
              "      <td>25508</td>\n",
              "    </tr>\n",
              "    <tr>\n",
              "      <th>5</th>\n",
              "      <td>Age 30 to 34</td>\n",
              "      <td>Yes</td>\n",
              "      <td>187</td>\n",
              "    </tr>\n",
              "    <tr>\n",
              "      <th>6</th>\n",
              "      <td>Age 35 to 39</td>\n",
              "      <td>No</td>\n",
              "      <td>28067</td>\n",
              "    </tr>\n",
              "    <tr>\n",
              "      <th>7</th>\n",
              "      <td>Age 35 to 39</td>\n",
              "      <td>Yes</td>\n",
              "      <td>318</td>\n",
              "    </tr>\n",
              "    <tr>\n",
              "      <th>8</th>\n",
              "      <td>Age 40 to 44</td>\n",
              "      <td>No</td>\n",
              "      <td>29347</td>\n",
              "    </tr>\n",
              "    <tr>\n",
              "      <th>9</th>\n",
              "      <td>Age 40 to 44</td>\n",
              "      <td>Yes</td>\n",
              "      <td>445</td>\n",
              "    </tr>\n",
              "    <tr>\n",
              "      <th>10</th>\n",
              "      <td>Age 45 to 49</td>\n",
              "      <td>No</td>\n",
              "      <td>27677</td>\n",
              "    </tr>\n",
              "    <tr>\n",
              "      <th>11</th>\n",
              "      <td>Age 45 to 49</td>\n",
              "      <td>Yes</td>\n",
              "      <td>728</td>\n",
              "    </tr>\n",
              "    <tr>\n",
              "      <th>12</th>\n",
              "      <td>Age 50 to 54</td>\n",
              "      <td>No</td>\n",
              "      <td>32211</td>\n",
              "    </tr>\n",
              "    <tr>\n",
              "      <th>13</th>\n",
              "      <td>Age 50 to 54</td>\n",
              "      <td>Yes</td>\n",
              "      <td>1250</td>\n",
              "    </tr>\n",
              "    <tr>\n",
              "      <th>14</th>\n",
              "      <td>Age 55 to 59</td>\n",
              "      <td>No</td>\n",
              "      <td>34668</td>\n",
              "    </tr>\n",
              "    <tr>\n",
              "      <th>15</th>\n",
              "      <td>Age 55 to 59</td>\n",
              "      <td>Yes</td>\n",
              "      <td>1960</td>\n",
              "    </tr>\n",
              "    <tr>\n",
              "      <th>16</th>\n",
              "      <td>Age 60 to 64</td>\n",
              "      <td>No</td>\n",
              "      <td>41318</td>\n",
              "    </tr>\n",
              "    <tr>\n",
              "      <th>17</th>\n",
              "      <td>Age 60 to 64</td>\n",
              "      <td>Yes</td>\n",
              "      <td>2890</td>\n",
              "    </tr>\n",
              "    <tr>\n",
              "      <th>18</th>\n",
              "      <td>Age 65 to 69</td>\n",
              "      <td>No</td>\n",
              "      <td>43108</td>\n",
              "    </tr>\n",
              "    <tr>\n",
              "      <th>19</th>\n",
              "      <td>Age 65 to 69</td>\n",
              "      <td>Yes</td>\n",
              "      <td>3700</td>\n",
              "    </tr>\n",
              "    <tr>\n",
              "      <th>20</th>\n",
              "      <td>Age 70 to 74</td>\n",
              "      <td>No</td>\n",
              "      <td>38983</td>\n",
              "    </tr>\n",
              "    <tr>\n",
              "      <th>21</th>\n",
              "      <td>Age 70 to 74</td>\n",
              "      <td>Yes</td>\n",
              "      <td>4216</td>\n",
              "    </tr>\n",
              "    <tr>\n",
              "      <th>22</th>\n",
              "      <td>Age 75 to 79</td>\n",
              "      <td>No</td>\n",
              "      <td>28453</td>\n",
              "    </tr>\n",
              "    <tr>\n",
              "      <th>23</th>\n",
              "      <td>Age 75 to 79</td>\n",
              "      <td>Yes</td>\n",
              "      <td>3789</td>\n",
              "    </tr>\n",
              "    <tr>\n",
              "      <th>24</th>\n",
              "      <td>Age 80 or older</td>\n",
              "      <td>No</td>\n",
              "      <td>30714</td>\n",
              "    </tr>\n",
              "    <tr>\n",
              "      <th>25</th>\n",
              "      <td>Age 80 or older</td>\n",
              "      <td>Yes</td>\n",
              "      <td>5024</td>\n",
              "    </tr>\n",
              "  </tbody>\n",
              "</table>\n",
              "</div>"
            ],
            "text/plain": [
              "        AgeCategory HadHeartAttack      n\n",
              "0      Age 18 to 24             No  26676\n",
              "1      Age 18 to 24            Yes    122\n",
              "2      Age 25 to 29             No  21782\n",
              "3      Age 25 to 29            Yes    119\n",
              "4      Age 30 to 34             No  25508\n",
              "5      Age 30 to 34            Yes    187\n",
              "6      Age 35 to 39             No  28067\n",
              "7      Age 35 to 39            Yes    318\n",
              "8      Age 40 to 44             No  29347\n",
              "9      Age 40 to 44            Yes    445\n",
              "10     Age 45 to 49             No  27677\n",
              "11     Age 45 to 49            Yes    728\n",
              "12     Age 50 to 54             No  32211\n",
              "13     Age 50 to 54            Yes   1250\n",
              "14     Age 55 to 59             No  34668\n",
              "15     Age 55 to 59            Yes   1960\n",
              "16     Age 60 to 64             No  41318\n",
              "17     Age 60 to 64            Yes   2890\n",
              "18     Age 65 to 69             No  43108\n",
              "19     Age 65 to 69            Yes   3700\n",
              "20     Age 70 to 74             No  38983\n",
              "21     Age 70 to 74            Yes   4216\n",
              "22     Age 75 to 79             No  28453\n",
              "23     Age 75 to 79            Yes   3789\n",
              "24  Age 80 or older             No  30714\n",
              "25  Age 80 or older            Yes   5024"
            ]
          },
          "execution_count": 26,
          "metadata": {},
          "output_type": "execute_result"
        }
      ],
      "source": [
        "HadHeartAttack_AgeCategory = data_raw.groupby(['AgeCategory', 'HadHeartAttack'], as_index=False).agg(n = ('AgeCategory', 'count'))\n",
        "HadHeartAttack_AgeCategory"
      ]
    },
    {
      "cell_type": "code",
      "execution_count": 27,
      "metadata": {
        "colab": {
          "base_uri": "https://localhost:8080/",
          "height": 485
        },
        "id": "8pO6FvfGeYVs",
        "outputId": "aa4bf928-f2ff-400d-aef5-293c89d0592b"
      },
      "outputs": [
        {
          "data": {
            "image/png": "[encoded data removed]",
            "text/plain": [
              "<Figure size 640x480 with 1 Axes>"
            ]
          },
          "metadata": {},
          "output_type": "display_data"
        }
      ],
      "source": [
        "plt.xticks(rotation=20, ha='right')\n",
        "sns.barplot(data=HadHeartAttack_AgeCategory, x='AgeCategory', y='n', hue=\"HadHeartAttack\", palette='bright')\n",
        "pass"
      ]
    },
    {
      "cell_type": "markdown",
      "metadata": {
        "id": "jmDZkgbQvTlv"
      },
      "source": [
        "Итоги:\n",
        "* Чем выше возраст, тем большее число людей страдают от сердечных заболеваний\n",
        "* Наблюдается активный рост сердечных заболеваний после 40"
      ]
    },
    {
      "cell_type": "code",
      "execution_count": 28,
      "metadata": {
        "colab": {
          "base_uri": "https://localhost:8080/",
          "height": 449
        },
        "id": "5FjZUjyDw_hX",
        "outputId": "235184fc-dd85-4780-ae9a-f70359facbf7"
      },
      "outputs": [
        {
          "data": {
            "image/png": "[encoded data removed]",
            "text/plain": [
              "<Figure size 640x480 with 1 Axes>"
            ]
          },
          "metadata": {},
          "output_type": "display_data"
        }
      ],
      "source": [
        "sns.countplot(data=data_raw, x='Sex', hue='HadHeartAttack', palette='bright')\n",
        "pass"
      ]
    },
    {
      "cell_type": "markdown",
      "metadata": {
        "id": "7Mj2glAyxMWB"
      },
      "source": [
        "Итоги:\n",
        "* Мужчины больше подвержены сердечным заболеванием, чем женщины"
      ]
    },
    {
      "cell_type": "code",
      "execution_count": 29,
      "metadata": {
        "colab": {
          "base_uri": "https://localhost:8080/",
          "height": 449
        },
        "id": "c7WWe-hRxm88",
        "outputId": "900d9745-7e54-4bda-be00-e1667be12cdf"
      },
      "outputs": [
        {
          "data": {
            "image/png": "[encoded data removed]",
            "text/plain": [
              "<Figure size 640x480 with 1 Axes>"
            ]
          },
          "metadata": {},
          "output_type": "display_data"
        }
      ],
      "source": [
        "sns.countplot(data=data_raw, x='AlcoholDrinkers', hue='HadHeartAttack', palette='bright')\n",
        "pass"
      ]
    },
    {
      "cell_type": "markdown",
      "metadata": {
        "id": "Xa50STaZyAqW"
      },
      "source": [
        "Итоги:\n",
        "* Меньшая часть выпивающих людей подтвергаются риску сердечных заболеваний"
      ]
    },
    {
      "cell_type": "code",
      "execution_count": 30,
      "metadata": {
        "colab": {
          "base_uri": "https://localhost:8080/",
          "height": 546
        },
        "id": "-ha7S9e7yUvS",
        "outputId": "5fd81bd7-ee92-49e5-c89d-6b187b86ef38"
      },
      "outputs": [
        {
          "data": {
            "image/png": "[encoded data removed]",
            "text/plain": [
              "<Figure size 640x480 with 1 Axes>"
            ]
          },
          "metadata": {},
          "output_type": "display_data"
        }
      ],
      "source": [
        "plt.xticks(rotation=20, ha='right')\n",
        "sns.countplot(data=data_raw, x='SmokerStatus', hue='HadHeartAttack', palette='bright')\n",
        "pass"
      ]
    },
    {
      "cell_type": "markdown",
      "metadata": {
        "id": "M7IIZUTdyZDP"
      },
      "source": [
        "Итоги:\n",
        "* У курящих людей риск сердечных заболеваний значительно выше тех, кто не курит\n"
      ]
    },
    {
      "cell_type": "code",
      "execution_count": 31,
      "metadata": {
        "colab": {
          "base_uri": "https://localhost:8080/",
          "height": 449
        },
        "id": "_ZswYCOoyZXN",
        "outputId": "204d7e04-d7b9-4e2f-8211-c83c3f9b4449"
      },
      "outputs": [
        {
          "data": {
            "image/png": "[encoded data removed]",
            "text/plain": [
              "<Figure size 640x480 with 1 Axes>"
            ]
          },
          "metadata": {},
          "output_type": "display_data"
        }
      ],
      "source": [
        "sns.countplot(data=data_raw, x='HadStroke', hue='HadHeartAttack', palette='bright')\n",
        "pass"
      ]
    },
    {
      "cell_type": "markdown",
      "metadata": {
        "id": "-BNW7p2dydLS"
      },
      "source": [
        "Итоги:\n",
        "* Около трети людей, у кого случался инсульт, страдают от сердечно-сосудистых заболеваний"
      ]
    },
    {
      "cell_type": "code",
      "execution_count": 32,
      "metadata": {
        "colab": {
          "base_uri": "https://localhost:8080/",
          "height": 573
        },
        "id": "pG276qY2Tztu",
        "outputId": "e291dd51-655c-4153-f4f5-155d525f719c"
      },
      "outputs": [
        {
          "data": {
            "image/png": "[encoded data removed]",
            "text/plain": [
              "<Figure size 640x480 with 1 Axes>"
            ]
          },
          "metadata": {},
          "output_type": "display_data"
        }
      ],
      "source": [
        "plt.xticks(rotation=90, ha='right')\n",
        "sns.set(rc={'figure.figsize':(15,8.27)})\n",
        "sns.boxplot(x=\"State\", y=\"BMI\", data=data_raw)\n",
        "pass"
      ]
    },
    {
      "cell_type": "markdown",
      "metadata": {
        "id": "jIepf2Mrgq-g"
      },
      "source": [
        "Итоги:\n",
        "\n",
        "* Наибольший индекс тела имеют люди из штата Миссисипи\n",
        "* Наименьший индекс тела имеют люди из штата Гаваи и Район Колумбии"
      ]
    },
    {
      "cell_type": "markdown",
      "metadata": {
        "id": "WBPQBZEkPQUf"
      },
      "source": [
        "## Борьба с пропущенными значениями\n",
        "\n",
        "Проверка пропущенных значений"
      ]
    },
    {
      "cell_type": "code",
      "execution_count": 33,
      "metadata": {
        "colab": {
          "base_uri": "https://localhost:8080/"
        },
        "id": "nU1qR0M0eYS2",
        "outputId": "6d11799a-abb8-43d2-e6bc-75ce4c7442e5"
      },
      "outputs": [
        {
          "data": {
            "text/plain": [
              "State                            0\n",
              "Sex                              0\n",
              "GeneralHealth                 1198\n",
              "PhysicalHealthDays           10927\n",
              "MentalHealthDays              9067\n",
              "LastCheckupTime               8308\n",
              "PhysicalActivities            1093\n",
              "SleepHours                    5453\n",
              "RemovedTeeth                 11360\n",
              "HadHeartAttack                3065\n",
              "HadAngina                     4405\n",
              "HadStroke                     1557\n",
              "HadAsthma                     1773\n",
              "HadSkinCancer                 3143\n",
              "HadCOPD                       2219\n",
              "HadDepressiveDisorder         2812\n",
              "HadKidneyDisease              1926\n",
              "HadArthritis                  2633\n",
              "HadDiabetes                   1087\n",
              "DeafOrHardOfHearing          20647\n",
              "BlindOrVisionDifficulty      21564\n",
              "DifficultyConcentrating      24240\n",
              "DifficultyWalking            24012\n",
              "DifficultyDressingBathing    23915\n",
              "DifficultyErrands            25656\n",
              "SmokerStatus                 35462\n",
              "ECigaretteUsage              35660\n",
              "ChestScan                    56046\n",
              "RaceEthnicityCategory        14057\n",
              "AgeCategory                   9079\n",
              "HeightInMeters               28652\n",
              "WeightInKilograms            42078\n",
              "BMI                          48806\n",
              "AlcoholDrinkers              46574\n",
              "HIVTesting                   66127\n",
              "FluVaxLast12                 47121\n",
              "PneumoVaxEver                77040\n",
              "TetanusLast10Tdap            82516\n",
              "HighRiskLastYear             50623\n",
              "CovidPos                     50764\n",
              "dtype: int64"
            ]
          },
          "execution_count": 33,
          "metadata": {},
          "output_type": "execute_result"
        }
      ],
      "source": [
        "data_raw.isna().sum()"
      ]
    },
    {
      "cell_type": "markdown",
      "metadata": {
        "id": "egf-TEWX0kjC"
      },
      "source": [
        "Избавимся от строк, у которых колонка HadHeartAttack имеет пропущенное значение, так как мы не можем корректно заполнить данное поле"
      ]
    },
    {
      "cell_type": "code",
      "execution_count": 42,
      "metadata": {
        "id": "4zQH7RJFeYQF"
      },
      "outputs": [],
      "source": [
        "data = data_raw.dropna(subset=['HadHeartAttack'])\n",
        "data = data.dropna(subset=['RaceEthnicityCategory'])\n",
        "data = data.dropna(subset=['AgeCategory'])\n",
        "data = data.dropna(subset=['HighRiskLastYear'])"
      ]
    },
    {
      "cell_type": "code",
      "execution_count": 43,
      "metadata": {},
      "outputs": [
        {
          "data": {
            "text/html": [
              "<div>\n",
              "<style scoped>\n",
              "    .dataframe tbody tr th:only-of-type {\n",
              "        vertical-align: middle;\n",
              "    }\n",
              "\n",
              "    .dataframe tbody tr th {\n",
              "        vertical-align: top;\n",
              "    }\n",
              "\n",
              "    .dataframe thead th {\n",
              "        text-align: right;\n",
              "    }\n",
              "</style>\n",
              "<table border=\"1\" class=\"dataframe\">\n",
              "  <thead>\n",
              "    <tr style=\"text-align: right;\">\n",
              "      <th></th>\n",
              "      <th>State</th>\n",
              "      <th>Sex</th>\n",
              "      <th>GeneralHealth</th>\n",
              "      <th>PhysicalHealthDays</th>\n",
              "      <th>MentalHealthDays</th>\n",
              "      <th>LastCheckupTime</th>\n",
              "      <th>PhysicalActivities</th>\n",
              "      <th>SleepHours</th>\n",
              "      <th>RemovedTeeth</th>\n",
              "      <th>HadHeartAttack</th>\n",
              "      <th>...</th>\n",
              "      <th>HeightInMeters</th>\n",
              "      <th>WeightInKilograms</th>\n",
              "      <th>BMI</th>\n",
              "      <th>AlcoholDrinkers</th>\n",
              "      <th>HIVTesting</th>\n",
              "      <th>FluVaxLast12</th>\n",
              "      <th>PneumoVaxEver</th>\n",
              "      <th>TetanusLast10Tdap</th>\n",
              "      <th>HighRiskLastYear</th>\n",
              "      <th>CovidPos</th>\n",
              "    </tr>\n",
              "  </thead>\n",
              "  <tbody>\n",
              "    <tr>\n",
              "      <th>0</th>\n",
              "      <td>Alabama</td>\n",
              "      <td>Female</td>\n",
              "      <td>Very good</td>\n",
              "      <td>0.0</td>\n",
              "      <td>0.0</td>\n",
              "      <td>Within past year (anytime less than 12 months ...</td>\n",
              "      <td>No</td>\n",
              "      <td>8.0</td>\n",
              "      <td>NaN</td>\n",
              "      <td>No</td>\n",
              "      <td>...</td>\n",
              "      <td>NaN</td>\n",
              "      <td>NaN</td>\n",
              "      <td>NaN</td>\n",
              "      <td>No</td>\n",
              "      <td>No</td>\n",
              "      <td>Yes</td>\n",
              "      <td>No</td>\n",
              "      <td>Yes, received tetanus shot but not sure what type</td>\n",
              "      <td>No</td>\n",
              "      <td>No</td>\n",
              "    </tr>\n",
              "    <tr>\n",
              "      <th>1</th>\n",
              "      <td>Alabama</td>\n",
              "      <td>Female</td>\n",
              "      <td>Excellent</td>\n",
              "      <td>0.0</td>\n",
              "      <td>0.0</td>\n",
              "      <td>NaN</td>\n",
              "      <td>No</td>\n",
              "      <td>6.0</td>\n",
              "      <td>NaN</td>\n",
              "      <td>No</td>\n",
              "      <td>...</td>\n",
              "      <td>1.60</td>\n",
              "      <td>68.04</td>\n",
              "      <td>26.57</td>\n",
              "      <td>No</td>\n",
              "      <td>No</td>\n",
              "      <td>No</td>\n",
              "      <td>No</td>\n",
              "      <td>No, did not receive any tetanus shot in the pa...</td>\n",
              "      <td>No</td>\n",
              "      <td>No</td>\n",
              "    </tr>\n",
              "    <tr>\n",
              "      <th>2</th>\n",
              "      <td>Alabama</td>\n",
              "      <td>Female</td>\n",
              "      <td>Very good</td>\n",
              "      <td>2.0</td>\n",
              "      <td>3.0</td>\n",
              "      <td>Within past year (anytime less than 12 months ...</td>\n",
              "      <td>Yes</td>\n",
              "      <td>5.0</td>\n",
              "      <td>NaN</td>\n",
              "      <td>No</td>\n",
              "      <td>...</td>\n",
              "      <td>1.57</td>\n",
              "      <td>63.50</td>\n",
              "      <td>25.61</td>\n",
              "      <td>No</td>\n",
              "      <td>No</td>\n",
              "      <td>No</td>\n",
              "      <td>No</td>\n",
              "      <td>NaN</td>\n",
              "      <td>No</td>\n",
              "      <td>Yes</td>\n",
              "    </tr>\n",
              "    <tr>\n",
              "      <th>4</th>\n",
              "      <td>Alabama</td>\n",
              "      <td>Female</td>\n",
              "      <td>Fair</td>\n",
              "      <td>2.0</td>\n",
              "      <td>0.0</td>\n",
              "      <td>Within past year (anytime less than 12 months ...</td>\n",
              "      <td>Yes</td>\n",
              "      <td>9.0</td>\n",
              "      <td>NaN</td>\n",
              "      <td>No</td>\n",
              "      <td>...</td>\n",
              "      <td>1.57</td>\n",
              "      <td>53.98</td>\n",
              "      <td>21.77</td>\n",
              "      <td>Yes</td>\n",
              "      <td>No</td>\n",
              "      <td>No</td>\n",
              "      <td>Yes</td>\n",
              "      <td>No, did not receive any tetanus shot in the pa...</td>\n",
              "      <td>No</td>\n",
              "      <td>No</td>\n",
              "    </tr>\n",
              "    <tr>\n",
              "      <th>5</th>\n",
              "      <td>Alabama</td>\n",
              "      <td>Male</td>\n",
              "      <td>Poor</td>\n",
              "      <td>1.0</td>\n",
              "      <td>0.0</td>\n",
              "      <td>Within past year (anytime less than 12 months ...</td>\n",
              "      <td>No</td>\n",
              "      <td>7.0</td>\n",
              "      <td>NaN</td>\n",
              "      <td>Yes</td>\n",
              "      <td>...</td>\n",
              "      <td>1.80</td>\n",
              "      <td>84.82</td>\n",
              "      <td>26.08</td>\n",
              "      <td>No</td>\n",
              "      <td>No</td>\n",
              "      <td>No</td>\n",
              "      <td>Yes</td>\n",
              "      <td>No, did not receive any tetanus shot in the pa...</td>\n",
              "      <td>No</td>\n",
              "      <td>No</td>\n",
              "    </tr>\n",
              "    <tr>\n",
              "      <th>...</th>\n",
              "      <td>...</td>\n",
              "      <td>...</td>\n",
              "      <td>...</td>\n",
              "      <td>...</td>\n",
              "      <td>...</td>\n",
              "      <td>...</td>\n",
              "      <td>...</td>\n",
              "      <td>...</td>\n",
              "      <td>...</td>\n",
              "      <td>...</td>\n",
              "      <td>...</td>\n",
              "      <td>...</td>\n",
              "      <td>...</td>\n",
              "      <td>...</td>\n",
              "      <td>...</td>\n",
              "      <td>...</td>\n",
              "      <td>...</td>\n",
              "      <td>...</td>\n",
              "      <td>...</td>\n",
              "      <td>...</td>\n",
              "      <td>...</td>\n",
              "    </tr>\n",
              "    <tr>\n",
              "      <th>445126</th>\n",
              "      <td>Virgin Islands</td>\n",
              "      <td>Male</td>\n",
              "      <td>Good</td>\n",
              "      <td>0.0</td>\n",
              "      <td>0.0</td>\n",
              "      <td>Within past 2 years (1 year but less than 2 ye...</td>\n",
              "      <td>Yes</td>\n",
              "      <td>8.0</td>\n",
              "      <td>None of them</td>\n",
              "      <td>No</td>\n",
              "      <td>...</td>\n",
              "      <td>1.83</td>\n",
              "      <td>104.33</td>\n",
              "      <td>31.19</td>\n",
              "      <td>Yes</td>\n",
              "      <td>NaN</td>\n",
              "      <td>No</td>\n",
              "      <td>No</td>\n",
              "      <td>NaN</td>\n",
              "      <td>No</td>\n",
              "      <td>Yes</td>\n",
              "    </tr>\n",
              "    <tr>\n",
              "      <th>445127</th>\n",
              "      <td>Virgin Islands</td>\n",
              "      <td>Female</td>\n",
              "      <td>Good</td>\n",
              "      <td>0.0</td>\n",
              "      <td>3.0</td>\n",
              "      <td>Within past 2 years (1 year but less than 2 ye...</td>\n",
              "      <td>Yes</td>\n",
              "      <td>6.0</td>\n",
              "      <td>None of them</td>\n",
              "      <td>No</td>\n",
              "      <td>...</td>\n",
              "      <td>1.65</td>\n",
              "      <td>69.85</td>\n",
              "      <td>25.63</td>\n",
              "      <td>NaN</td>\n",
              "      <td>Yes</td>\n",
              "      <td>No</td>\n",
              "      <td>No</td>\n",
              "      <td>No, did not receive any tetanus shot in the pa...</td>\n",
              "      <td>No</td>\n",
              "      <td>Yes</td>\n",
              "    </tr>\n",
              "    <tr>\n",
              "      <th>445128</th>\n",
              "      <td>Virgin Islands</td>\n",
              "      <td>Female</td>\n",
              "      <td>Excellent</td>\n",
              "      <td>2.0</td>\n",
              "      <td>2.0</td>\n",
              "      <td>Within past year (anytime less than 12 months ...</td>\n",
              "      <td>Yes</td>\n",
              "      <td>7.0</td>\n",
              "      <td>None of them</td>\n",
              "      <td>No</td>\n",
              "      <td>...</td>\n",
              "      <td>1.70</td>\n",
              "      <td>83.01</td>\n",
              "      <td>28.66</td>\n",
              "      <td>No</td>\n",
              "      <td>Yes</td>\n",
              "      <td>Yes</td>\n",
              "      <td>No</td>\n",
              "      <td>Yes, received tetanus shot but not sure what type</td>\n",
              "      <td>No</td>\n",
              "      <td>No</td>\n",
              "    </tr>\n",
              "    <tr>\n",
              "      <th>445130</th>\n",
              "      <td>Virgin Islands</td>\n",
              "      <td>Male</td>\n",
              "      <td>Very good</td>\n",
              "      <td>0.0</td>\n",
              "      <td>0.0</td>\n",
              "      <td>Within past year (anytime less than 12 months ...</td>\n",
              "      <td>No</td>\n",
              "      <td>5.0</td>\n",
              "      <td>None of them</td>\n",
              "      <td>Yes</td>\n",
              "      <td>...</td>\n",
              "      <td>1.83</td>\n",
              "      <td>108.86</td>\n",
              "      <td>32.55</td>\n",
              "      <td>No</td>\n",
              "      <td>Yes</td>\n",
              "      <td>Yes</td>\n",
              "      <td>Yes</td>\n",
              "      <td>No, did not receive any tetanus shot in the pa...</td>\n",
              "      <td>No</td>\n",
              "      <td>Yes</td>\n",
              "    </tr>\n",
              "    <tr>\n",
              "      <th>445131</th>\n",
              "      <td>Virgin Islands</td>\n",
              "      <td>Male</td>\n",
              "      <td>Very good</td>\n",
              "      <td>0.0</td>\n",
              "      <td>1.0</td>\n",
              "      <td>NaN</td>\n",
              "      <td>Yes</td>\n",
              "      <td>5.0</td>\n",
              "      <td>None of them</td>\n",
              "      <td>No</td>\n",
              "      <td>...</td>\n",
              "      <td>1.68</td>\n",
              "      <td>63.50</td>\n",
              "      <td>22.60</td>\n",
              "      <td>Yes</td>\n",
              "      <td>No</td>\n",
              "      <td>No</td>\n",
              "      <td>No</td>\n",
              "      <td>Yes, received tetanus shot but not sure what type</td>\n",
              "      <td>No</td>\n",
              "      <td>No</td>\n",
              "    </tr>\n",
              "  </tbody>\n",
              "</table>\n",
              "<p>376000 rows × 40 columns</p>\n",
              "</div>"
            ],
            "text/plain": [
              "                 State     Sex GeneralHealth  PhysicalHealthDays  \\\n",
              "0              Alabama  Female     Very good                 0.0   \n",
              "1              Alabama  Female     Excellent                 0.0   \n",
              "2              Alabama  Female     Very good                 2.0   \n",
              "4              Alabama  Female          Fair                 2.0   \n",
              "5              Alabama    Male          Poor                 1.0   \n",
              "...                ...     ...           ...                 ...   \n",
              "445126  Virgin Islands    Male          Good                 0.0   \n",
              "445127  Virgin Islands  Female          Good                 0.0   \n",
              "445128  Virgin Islands  Female     Excellent                 2.0   \n",
              "445130  Virgin Islands    Male     Very good                 0.0   \n",
              "445131  Virgin Islands    Male     Very good                 0.0   \n",
              "\n",
              "        MentalHealthDays                                    LastCheckupTime  \\\n",
              "0                    0.0  Within past year (anytime less than 12 months ...   \n",
              "1                    0.0                                                NaN   \n",
              "2                    3.0  Within past year (anytime less than 12 months ...   \n",
              "4                    0.0  Within past year (anytime less than 12 months ...   \n",
              "5                    0.0  Within past year (anytime less than 12 months ...   \n",
              "...                  ...                                                ...   \n",
              "445126               0.0  Within past 2 years (1 year but less than 2 ye...   \n",
              "445127               3.0  Within past 2 years (1 year but less than 2 ye...   \n",
              "445128               2.0  Within past year (anytime less than 12 months ...   \n",
              "445130               0.0  Within past year (anytime less than 12 months ...   \n",
              "445131               1.0                                                NaN   \n",
              "\n",
              "       PhysicalActivities  SleepHours  RemovedTeeth HadHeartAttack  ...  \\\n",
              "0                      No         8.0           NaN             No  ...   \n",
              "1                      No         6.0           NaN             No  ...   \n",
              "2                     Yes         5.0           NaN             No  ...   \n",
              "4                     Yes         9.0           NaN             No  ...   \n",
              "5                      No         7.0           NaN            Yes  ...   \n",
              "...                   ...         ...           ...            ...  ...   \n",
              "445126                Yes         8.0  None of them             No  ...   \n",
              "445127                Yes         6.0  None of them             No  ...   \n",
              "445128                Yes         7.0  None of them             No  ...   \n",
              "445130                 No         5.0  None of them            Yes  ...   \n",
              "445131                Yes         5.0  None of them             No  ...   \n",
              "\n",
              "       HeightInMeters WeightInKilograms    BMI AlcoholDrinkers HIVTesting  \\\n",
              "0                 NaN               NaN    NaN              No         No   \n",
              "1                1.60             68.04  26.57              No         No   \n",
              "2                1.57             63.50  25.61              No         No   \n",
              "4                1.57             53.98  21.77             Yes         No   \n",
              "5                1.80             84.82  26.08              No         No   \n",
              "...               ...               ...    ...             ...        ...   \n",
              "445126           1.83            104.33  31.19             Yes        NaN   \n",
              "445127           1.65             69.85  25.63             NaN        Yes   \n",
              "445128           1.70             83.01  28.66              No        Yes   \n",
              "445130           1.83            108.86  32.55              No        Yes   \n",
              "445131           1.68             63.50  22.60             Yes         No   \n",
              "\n",
              "       FluVaxLast12 PneumoVaxEver  \\\n",
              "0               Yes            No   \n",
              "1                No            No   \n",
              "2                No            No   \n",
              "4                No           Yes   \n",
              "5                No           Yes   \n",
              "...             ...           ...   \n",
              "445126           No            No   \n",
              "445127           No            No   \n",
              "445128          Yes            No   \n",
              "445130          Yes           Yes   \n",
              "445131           No            No   \n",
              "\n",
              "                                        TetanusLast10Tdap HighRiskLastYear  \\\n",
              "0       Yes, received tetanus shot but not sure what type               No   \n",
              "1       No, did not receive any tetanus shot in the pa...               No   \n",
              "2                                                     NaN               No   \n",
              "4       No, did not receive any tetanus shot in the pa...               No   \n",
              "5       No, did not receive any tetanus shot in the pa...               No   \n",
              "...                                                   ...              ...   \n",
              "445126                                                NaN               No   \n",
              "445127  No, did not receive any tetanus shot in the pa...               No   \n",
              "445128  Yes, received tetanus shot but not sure what type               No   \n",
              "445130  No, did not receive any tetanus shot in the pa...               No   \n",
              "445131  Yes, received tetanus shot but not sure what type               No   \n",
              "\n",
              "       CovidPos  \n",
              "0            No  \n",
              "1            No  \n",
              "2           Yes  \n",
              "4            No  \n",
              "5            No  \n",
              "...         ...  \n",
              "445126      Yes  \n",
              "445127      Yes  \n",
              "445128       No  \n",
              "445130      Yes  \n",
              "445131       No  \n",
              "\n",
              "[376000 rows x 40 columns]"
            ]
          },
          "execution_count": 43,
          "metadata": {},
          "output_type": "execute_result"
        }
      ],
      "source": [
        "data"
      ]
    },
    {
      "cell_type": "markdown",
      "metadata": {
        "id": "_Ifr4prM2LFE"
      },
      "source": [
        "Борьба с пропущенными значениями количественных переменных: заполнение пропущенных значений медианой"
      ]
    },
    {
      "cell_type": "code",
      "execution_count": 47,
      "metadata": {
        "colab": {
          "base_uri": "https://localhost:8080/"
        },
        "id": "6f27R_wV2NE-",
        "outputId": "9a27c6b2-9a3a-48a0-82d0-f43906db9658"
      },
      "outputs": [],
      "source": [
        "numeric_data = data.select_dtypes(include=['number'])\n",
        "data[numeric_data.columns] = numeric_data.fillna(numeric_data.median(axis=0))\n",
        "\n",
        "# data = data.fillna(data.median(axis=0), axis=0)"
      ]
    },
    {
      "cell_type": "code",
      "execution_count": 48,
      "metadata": {
        "colab": {
          "base_uri": "https://localhost:8080/"
        },
        "id": "tAII5VTw24Dc",
        "outputId": "37035b19-5171-448b-821f-5ca3f769d757"
      },
      "outputs": [
        {
          "data": {
            "text/plain": [
              "State                        0\n",
              "Sex                          0\n",
              "GeneralHealth                0\n",
              "PhysicalHealthDays           0\n",
              "MentalHealthDays             0\n",
              "LastCheckupTime              0\n",
              "PhysicalActivities           0\n",
              "SleepHours                   0\n",
              "HadHeartAttack               0\n",
              "HadAngina                    0\n",
              "HadStroke                    0\n",
              "HadAsthma                    0\n",
              "HadSkinCancer                0\n",
              "HadCOPD                      0\n",
              "HadDepressiveDisorder        0\n",
              "HadKidneyDisease             0\n",
              "HadArthritis                 0\n",
              "HadDiabetes                  0\n",
              "DeafOrHardOfHearing          0\n",
              "BlindOrVisionDifficulty      0\n",
              "DifficultyConcentrating      0\n",
              "DifficultyWalking            0\n",
              "DifficultyDressingBathing    0\n",
              "DifficultyErrands            0\n",
              "SmokerStatus                 0\n",
              "ECigaretteUsage              0\n",
              "ChestScan                    0\n",
              "RaceEthnicityCategory        0\n",
              "AgeCategory                  0\n",
              "HeightInMeters               0\n",
              "WeightInKilograms            0\n",
              "BMI                          0\n",
              "AlcoholDrinkers              0\n",
              "HighRiskLastYear             0\n",
              "CovidPos                     0\n",
              "dtype: int64"
            ]
          },
          "execution_count": 48,
          "metadata": {},
          "output_type": "execute_result"
        }
      ],
      "source": [
        "data.isna().sum()"
      ]
    },
    {
      "cell_type": "markdown",
      "metadata": {
        "id": "P1hNZzTN3Nfa"
      },
      "source": [
        "Борьба с пропущенными значениями номинальных переменных: заполнение пропущеных значений модой"
      ]
    },
    {
      "cell_type": "code",
      "execution_count": 44,
      "metadata": {
        "id": "jKthsam23WCh"
      },
      "outputs": [],
      "source": [
        "# Признак - общий показатель здоровья\n",
        "data['GeneralHealth'].fillna(data['GeneralHealth'].mode().iloc[0], inplace=True)\n",
        "\n",
        "# Признак - последнее вермя проверки\n",
        "data['LastCheckupTime'].fillna(data['LastCheckupTime'].mode().iloc[0], inplace=True)\n",
        "\n",
        "# Признак - ведёт ли человек активный образ жизни\n",
        "data['PhysicalActivities'].fillna(data['PhysicalActivities'].mode().iloc[0], inplace=True)\n",
        "\n",
        "# Признак - была ли у человека стенокардия\n",
        "data['HadAngina'].fillna(data['HadAngina'].mode().iloc[0], inplace=True)\n",
        "\n",
        "# Признак - был ли у человека инсульт\n",
        "data['HadStroke'].fillna(data['HadStroke'].mode().iloc[0], inplace=True)\n",
        "\n",
        "# Признак - была ли у человека астма\n",
        "data['HadAsthma'].fillna(data['HadAsthma'].mode().iloc[0], inplace=True)\n",
        "\n",
        "# Признак - был ли у человека рак кожи\n",
        "data['HadSkinCancer'].fillna(data['HadSkinCancer'].mode().iloc[0], inplace=True)\n",
        "\n",
        "# Признак - был ли у человека заболеваний легких\n",
        "data['HadCOPD'].fillna(data['HadCOPD'].mode().iloc[0], inplace=True)\n",
        "\n",
        "# Признак - был ли у человека депрессивные расстройства\n",
        "data['HadDepressiveDisorder'].fillna(data['HadDepressiveDisorder'].mode().iloc[0], inplace=True)\n",
        "\n",
        "# Признак - было ли у человека заболевание почек\n",
        "data['HadKidneyDisease'].fillna(data['HadKidneyDisease'].mode().iloc[0], inplace=True)\n",
        "\n",
        "# Признак - был ли у человека артрит\n",
        "data['HadArthritis'].fillna(data['HadArthritis'].mode().iloc[0], inplace=True)\n",
        "\n",
        "# Признак - был ли диабет\n",
        "data['HadDiabetes'].fillna(data['HadDiabetes'].mode().iloc[0], inplace=True)\n",
        "\n",
        "# Признак - были ли проблемы со слухом\n",
        "data['DeafOrHardOfHearing'].fillna(data['DeafOrHardOfHearing'].mode().iloc[0], inplace=True)\n",
        "\n",
        "# Признак - были ли проблемы со зрением\n",
        "data['BlindOrVisionDifficulty'].fillna(data['BlindOrVisionDifficulty'].mode().iloc[0], inplace=True)\n",
        "\n",
        "# Признак - были ли проблемы с концентрацией\n",
        "data['DifficultyConcentrating'].fillna(data['DifficultyConcentrating'].mode().iloc[0], inplace=True)\n",
        "\n",
        "# Признак - трудности передвижения\n",
        "data['DifficultyWalking'].fillna(data['DifficultyWalking'].mode().iloc[0], inplace=True)\n",
        "\n",
        "# Признак - сложности с одеванием и мытьём\n",
        "data['DifficultyDressingBathing'].fillna(data['DifficultyDressingBathing'].mode().iloc[0], inplace=True)\n",
        "\n",
        "# Признак - сложности выполнения в повседневных делах\n",
        "data['DifficultyErrands'].fillna(data['DifficultyErrands'].mode().iloc[0], inplace=True)\n",
        "\n",
        "# Признак - статус курения\n",
        "data['SmokerStatus'].fillna(data['SmokerStatus'].mode().iloc[0], inplace=True)\n",
        "\n",
        "# Признак - Курит ли электронные сигареты\n",
        "data['ECigaretteUsage'].fillna(data['ECigaretteUsage'].mode().iloc[0], inplace=True)\n",
        "\n",
        "# Признак - проходил ли обследование грудной клетки\n",
        "data['ChestScan'].fillna(data['ChestScan'].mode().iloc[0], inplace=True)\n",
        "\n",
        "# Признак - пьёт ли алкоголь\n",
        "data['AlcoholDrinkers'].fillna(data['AlcoholDrinkers'].mode().iloc[0], inplace=True)\n",
        "\n",
        "# Признак - статус теста на ковид\n",
        "data['CovidPos'].fillna(data['CovidPos'].mode().iloc[0], inplace=True)"
      ]
    },
    {
      "cell_type": "markdown",
      "metadata": {
        "id": "EWBKNH6T4Ag7"
      },
      "source": [
        "Некоторые признаки можно удалить из наших данных, так как сильного эффекта они не будут давать, например, признак RemovedTeeth."
      ]
    },
    {
      "cell_type": "code",
      "execution_count": 45,
      "metadata": {
        "id": "OrI9D9zM4APT"
      },
      "outputs": [],
      "source": [
        "# Удалим столбец 'RemovedTeeth'\n",
        "data = data.drop('RemovedTeeth', axis=1)\n",
        "\n",
        "# Удалим столбец 'HIVTesting'\n",
        "data = data.drop('HIVTesting', axis=1)\n",
        "\n",
        "# Удалим столбец 'FluVaxLast12'\n",
        "data = data.drop('FluVaxLast12', axis=1)\n",
        "\n",
        "# Удалим столбец 'PneumoVaxEver'\n",
        "data = data.drop('PneumoVaxEver', axis=1)\n",
        "\n",
        "# Удалим столбец 'TetanusLast10Tdap'\n",
        "data = data.drop('TetanusLast10Tdap', axis=1)"
      ]
    },
    {
      "cell_type": "markdown",
      "metadata": {
        "id": "jk6jbXPM9_nm"
      },
      "source": [
        "Пропущенных значений не осталось:"
      ]
    },
    {
      "cell_type": "code",
      "execution_count": 49,
      "metadata": {
        "colab": {
          "base_uri": "https://localhost:8080/"
        },
        "id": "ZY3kmFge3cPm",
        "outputId": "39c928e2-3837-42bf-96e9-ec86579b7579"
      },
      "outputs": [
        {
          "data": {
            "text/plain": [
              "State                        0\n",
              "Sex                          0\n",
              "GeneralHealth                0\n",
              "PhysicalHealthDays           0\n",
              "MentalHealthDays             0\n",
              "LastCheckupTime              0\n",
              "PhysicalActivities           0\n",
              "SleepHours                   0\n",
              "HadHeartAttack               0\n",
              "HadAngina                    0\n",
              "HadStroke                    0\n",
              "HadAsthma                    0\n",
              "HadSkinCancer                0\n",
              "HadCOPD                      0\n",
              "HadDepressiveDisorder        0\n",
              "HadKidneyDisease             0\n",
              "HadArthritis                 0\n",
              "HadDiabetes                  0\n",
              "DeafOrHardOfHearing          0\n",
              "BlindOrVisionDifficulty      0\n",
              "DifficultyConcentrating      0\n",
              "DifficultyWalking            0\n",
              "DifficultyDressingBathing    0\n",
              "DifficultyErrands            0\n",
              "SmokerStatus                 0\n",
              "ECigaretteUsage              0\n",
              "ChestScan                    0\n",
              "RaceEthnicityCategory        0\n",
              "AgeCategory                  0\n",
              "HeightInMeters               0\n",
              "WeightInKilograms            0\n",
              "BMI                          0\n",
              "AlcoholDrinkers              0\n",
              "HighRiskLastYear             0\n",
              "CovidPos                     0\n",
              "dtype: int64"
            ]
          },
          "execution_count": 49,
          "metadata": {},
          "output_type": "execute_result"
        }
      ],
      "source": [
        "data.isna().sum()"
      ]
    },
    {
      "cell_type": "code",
      "execution_count": 50,
      "metadata": {
        "colab": {
          "base_uri": "https://localhost:8080/"
        },
        "id": "Lu9fsSdA-Cpq",
        "outputId": "22b732f8-5a7c-4b65-9918-5ccac30b30f4"
      },
      "outputs": [
        {
          "data": {
            "text/plain": [
              "Index(['State', 'Sex', 'GeneralHealth', 'PhysicalHealthDays',\n",
              "       'MentalHealthDays', 'LastCheckupTime', 'PhysicalActivities',\n",
              "       'SleepHours', 'HadHeartAttack', 'HadAngina', 'HadStroke', 'HadAsthma',\n",
              "       'HadSkinCancer', 'HadCOPD', 'HadDepressiveDisorder', 'HadKidneyDisease',\n",
              "       'HadArthritis', 'HadDiabetes', 'DeafOrHardOfHearing',\n",
              "       'BlindOrVisionDifficulty', 'DifficultyConcentrating',\n",
              "       'DifficultyWalking', 'DifficultyDressingBathing', 'DifficultyErrands',\n",
              "       'SmokerStatus', 'ECigaretteUsage', 'ChestScan', 'RaceEthnicityCategory',\n",
              "       'AgeCategory', 'HeightInMeters', 'WeightInKilograms', 'BMI',\n",
              "       'AlcoholDrinkers', 'HighRiskLastYear', 'CovidPos'],\n",
              "      dtype='object')"
            ]
          },
          "execution_count": 50,
          "metadata": {},
          "output_type": "execute_result"
        }
      ],
      "source": [
        "data.columns"
      ]
    },
    {
      "cell_type": "markdown",
      "metadata": {
        "id": "u_FdNjn3P2y5"
      },
      "source": [
        "## Бинаризация категориальных признаков"
      ]
    },
    {
      "cell_type": "markdown",
      "metadata": {
        "id": "HN4lVYCF_QI1"
      },
      "source": [
        "Необходимо закодировать категориальные признаки с помощью числовых, для дальнейшего применения методов машинного обучения библиотеки **scikit-learn**"
      ]
    },
    {
      "cell_type": "markdown",
      "metadata": {
        "id": "rFsI-aBmjTTS"
      },
      "source": [
        "Разделим наши признаки на категориальные и числовые"
      ]
    },
    {
      "cell_type": "code",
      "execution_count": 51,
      "metadata": {
        "colab": {
          "base_uri": "https://localhost:8080/"
        },
        "id": "GtppEhSEx4w9",
        "outputId": "c525fef8-1807-48ab-df8b-e77e7a991b7a"
      },
      "outputs": [
        {
          "name": "stdout",
          "output_type": "stream",
          "text": [
            "['State', 'Sex', 'GeneralHealth', 'LastCheckupTime', 'PhysicalActivities', 'HadHeartAttack', 'HadAngina', 'HadStroke', 'HadAsthma', 'HadSkinCancer', 'HadCOPD', 'HadDepressiveDisorder', 'HadKidneyDisease', 'HadArthritis', 'HadDiabetes', 'DeafOrHardOfHearing', 'BlindOrVisionDifficulty', 'DifficultyConcentrating', 'DifficultyWalking', 'DifficultyDressingBathing', 'DifficultyErrands', 'SmokerStatus', 'ECigaretteUsage', 'ChestScan', 'RaceEthnicityCategory', 'AgeCategory', 'AlcoholDrinkers', 'HighRiskLastYear', 'CovidPos']\n",
            "['PhysicalHealthDays', 'MentalHealthDays', 'SleepHours', 'HeightInMeters', 'WeightInKilograms', 'BMI']\n"
          ]
        }
      ],
      "source": [
        "categorical_columns = [c for c in data.columns if data[c].dtype.name == 'object']\n",
        "numerical_columns   = [c for c in data.columns if data[c].dtype.name != 'object']\n",
        "print(categorical_columns)\n",
        "print(numerical_columns)"
      ]
    },
    {
      "cell_type": "code",
      "execution_count": 52,
      "metadata": {
        "id": "fY13aFqryGdY"
      },
      "outputs": [],
      "source": [
        "data_describe = data.describe(include = [object])"
      ]
    },
    {
      "cell_type": "markdown",
      "metadata": {
        "id": "LUuK2Kdcje9y"
      },
      "source": [
        "Разделим категориальные признаки на бинарные и небинарные"
      ]
    },
    {
      "cell_type": "code",
      "execution_count": 53,
      "metadata": {
        "colab": {
          "base_uri": "https://localhost:8080/"
        },
        "id": "c1XqHcGdx0X1",
        "outputId": "fe0e8295-1b00-44b9-9ff9-7c17d3cbec4c"
      },
      "outputs": [
        {
          "name": "stdout",
          "output_type": "stream",
          "text": [
            "['Sex', 'PhysicalActivities', 'HadHeartAttack', 'HadAngina', 'HadStroke', 'HadAsthma', 'HadSkinCancer', 'HadCOPD', 'HadDepressiveDisorder', 'HadKidneyDisease', 'HadArthritis', 'DeafOrHardOfHearing', 'BlindOrVisionDifficulty', 'DifficultyConcentrating', 'DifficultyWalking', 'DifficultyDressingBathing', 'DifficultyErrands', 'ChestScan', 'AlcoholDrinkers', 'HighRiskLastYear'] ['State', 'GeneralHealth', 'LastCheckupTime', 'HadDiabetes', 'SmokerStatus', 'ECigaretteUsage', 'RaceEthnicityCategory', 'AgeCategory', 'CovidPos']\n"
          ]
        }
      ],
      "source": [
        "binary_columns    = [c for c in categorical_columns if data_describe[c]['unique'] == 2]\n",
        "nonbinary_columns = [c for c in categorical_columns if data_describe[c]['unique'] > 2]\n",
        "print(binary_columns, nonbinary_columns)"
      ]
    },
    {
      "cell_type": "code",
      "execution_count": 54,
      "metadata": {
        "colab": {
          "base_uri": "https://localhost:8080/"
        },
        "id": "zVgC6sOUeYNU",
        "outputId": "bfba25d7-1e8a-496e-9093-beb672561733"
      },
      "outputs": [
        {
          "name": "stdout",
          "output_type": "stream",
          "text": [
            "State  -  ['Alabama' 'Alaska' 'Arizona' 'Arkansas' 'California' 'Colorado'\n",
            " 'Connecticut' 'Delaware' 'District of Columbia' 'Florida' 'Georgia'\n",
            " 'Hawaii' 'Idaho' 'Illinois' 'Indiana' 'Iowa' 'Kansas' 'Kentucky'\n",
            " 'Louisiana' 'Maine' 'Maryland' 'Massachusetts' 'Michigan' 'Minnesota'\n",
            " 'Mississippi' 'Missouri' 'Montana' 'Nebraska' 'Nevada' 'New Hampshire'\n",
            " 'New Jersey' 'New Mexico' 'New York' 'North Carolina' 'North Dakota'\n",
            " 'Ohio' 'Oklahoma' 'Oregon' 'Pennsylvania' 'Rhode Island' 'South Carolina'\n",
            " 'South Dakota' 'Tennessee' 'Texas' 'Utah' 'Vermont' 'Virginia'\n",
            " 'Washington' 'West Virginia' 'Wisconsin' 'Wyoming' 'Guam' 'Puerto Rico'\n",
            " 'Virgin Islands'] \n",
            "\n",
            "Sex  -  ['Female' 'Male'] \n",
            "\n",
            "GeneralHealth  -  ['Very good' 'Excellent' 'Fair' 'Poor' 'Good'] \n",
            "\n",
            "PhysicalHealthDays  -  [ 0.  2.  1.  8.  5. 30.  4. 23. 14. 15.  3. 10.  7. 25.  6. 21. 20. 29.\n",
            " 16.  9. 27. 28. 12. 13. 11. 26. 17. 24. 18. 19. 22.] \n",
            "\n",
            "MentalHealthDays  -  [ 0.  3.  9.  5. 15. 20. 14. 10. 18.  1.  2. 30.  4.  6.  7. 25.  8. 27.\n",
            " 21. 12. 16. 13. 28. 29. 26. 22. 17. 11. 19. 24. 23.] \n",
            "\n",
            "LastCheckupTime  -  ['Within past year (anytime less than 12 months ago)'\n",
            " 'Within past 2 years (1 year but less than 2 years ago)'\n",
            " 'Within past 5 years (2 years but less than 5 years ago)'\n",
            " '5 or more years ago'] \n",
            "\n",
            "PhysicalActivities  -  ['No' 'Yes'] \n",
            "\n",
            "SleepHours  -  [ 8.  6.  5.  9.  7.  4. 10.  1. 12. 18.  3.  2. 11. 15. 13. 16. 14. 20.\n",
            " 23. 24. 19. 21. 17. 22.] \n",
            "\n",
            "HadHeartAttack  -  ['No' 'Yes'] \n",
            "\n",
            "HadAngina  -  ['No' 'Yes'] \n",
            "\n",
            "HadStroke  -  ['No' 'Yes'] \n",
            "\n",
            "HadAsthma  -  ['No' 'Yes'] \n",
            "\n",
            "HadSkinCancer  -  ['No' 'Yes'] \n",
            "\n",
            "HadCOPD  -  ['No' 'Yes'] \n",
            "\n",
            "HadDepressiveDisorder  -  ['No' 'Yes'] \n",
            "\n",
            "HadKidneyDisease  -  ['No' 'Yes'] \n",
            "\n",
            "HadArthritis  -  ['No' 'Yes'] \n",
            "\n",
            "HadDiabetes  -  ['Yes' 'No' 'No, pre-diabetes or borderline diabetes'\n",
            " 'Yes, but only during pregnancy (female)'] \n",
            "\n",
            "DeafOrHardOfHearing  -  ['No' 'Yes'] \n",
            "\n",
            "BlindOrVisionDifficulty  -  ['No' 'Yes'] \n",
            "\n",
            "DifficultyConcentrating  -  ['No' 'Yes'] \n",
            "\n",
            "DifficultyWalking  -  ['No' 'Yes'] \n",
            "\n",
            "DifficultyDressingBathing  -  ['No' 'Yes'] \n",
            "\n",
            "DifficultyErrands  -  ['No' 'Yes'] \n",
            "\n",
            "SmokerStatus  -  ['Never smoked' 'Former smoker' 'Current smoker - now smokes some days'\n",
            " 'Current smoker - now smokes every day'] \n",
            "\n",
            "ECigaretteUsage  -  ['Not at all (right now)' 'Never used e-cigarettes in my entire life'\n",
            " 'Use them every day' 'Use them some days'] \n",
            "\n",
            "ChestScan  -  ['No' 'Yes'] \n",
            "\n",
            "RaceEthnicityCategory  -  ['White only, Non-Hispanic' 'Black only, Non-Hispanic'\n",
            " 'Other race only, Non-Hispanic' 'Multiracial, Non-Hispanic' 'Hispanic'] \n",
            "\n",
            "AgeCategory  -  ['Age 80 or older' 'Age 55 to 59' 'Age 40 to 44' 'Age 75 to 79'\n",
            " 'Age 70 to 74' 'Age 65 to 69' 'Age 60 to 64' 'Age 50 to 54'\n",
            " 'Age 45 to 49' 'Age 35 to 39' 'Age 30 to 34' 'Age 25 to 29'\n",
            " 'Age 18 to 24'] \n",
            "\n",
            "HeightInMeters  -  [1.7  1.6  1.57 1.8  1.65 1.63 1.68 1.73 1.55 1.93 1.88 1.78 1.85 1.75\n",
            " 1.52 1.83 1.91 1.96 1.5  1.45 1.42 1.24 1.47 1.22 1.98 2.03 2.01 1.3\n",
            " 1.4  1.35 1.67 1.76 2.11 1.71 2.16 2.26 0.91 1.14 1.74 1.51 1.53 1.69\n",
            " 1.56 1.84 1.9  1.54 1.72 1.87 1.61 1.49 1.64 1.58 1.62 1.79 1.46 1.89\n",
            " 1.37 2.13 2.06 0.99 2.18 1.77 2.36 1.25 1.66 1.59 1.86 1.82 1.95 1.19\n",
            " 1.05 2.21 2.08 1.48 1.18 1.38 1.81 1.44 1.27 1.2  1.17 1.32 1.07 1.04\n",
            " 1.1  1.43 1.92 2.24 2.05 1.12 1.03 0.97 1.06 1.15 2.29 1.16 1.09 0.92\n",
            " 2.41 2.07 1.   1.08 1.02 2.   2.02 1.94 0.95 2.34] \n",
            "\n",
            "WeightInKilograms  -  [ 81.19  68.04  63.5   53.98  84.82  62.6   73.48  81.65  74.84  59.42\n",
            "  85.28 106.59  71.21  64.41  90.72  65.77  80.29  86.18 107.05  57.15\n",
            " 105.23  77.11  56.7   79.38 113.4  102.06  61.23  59.87 104.33  53.52\n",
            "  61.69 136.08  34.47  99.79 127.01  78.93  58.97  92.08  72.57  83.91\n",
            "  49.9  117.93  71.67 102.97  62.14  83.46  54.43  94.35  60.78 117.03\n",
            "  65.32  88.45  89.81  74.39  68.95  79.83 108.41  90.26  55.79  91.63\n",
            "  47.17  78.02  50.8   91.17  47.63  84.37 145.15  93.89 122.47  95.25\n",
            "  48.99  73.94  88.9   80.74 158.76  97.52  51.71  82.55  76.2   68.49\n",
            "  75.3   70.31  63.05  60.33 115.67  66.22  86.64 108.86  92.53 124.74\n",
            "  43.09  58.51  63.96  92.99  44.45 128.82  98.88  45.36 110.68  46.72\n",
            "  58.06  73.03  95.71 131.09  78.47  85.73  67.59 103.87 120.2   88.\n",
            "  54.88 111.58  52.16  77.56 126.55  94.8  123.83  89.36  75.75  69.85\n",
            " 112.49  82.1  106.14  57.61  70.76 148.78  96.16  67.13  48.08 163.29\n",
            " 109.77 100.7  142.88  64.86 111.13 121.11  55.34 101.6   93.44 117.48\n",
            " 120.66  66.68  44.91 132.   107.5  107.95  36.29 103.42  87.09  83.01\n",
            "  56.25  96.62  69.4   97.07  72.12  76.66  49.44 122.02  98.43 181.44\n",
            "  52.62 121.56 110.22  48.53 140.61 156.49 116.57  87.54 114.31  31.75\n",
            "  97.98 101.15 112.04 100.24 113.85 154.22 118.39 133.81 149.69  41.73\n",
            " 119.75 138.35 151.95 129.27 131.54 104.78 132.45 102.51 116.12  40.37\n",
            " 105.69 136.98 195.04  99.34  53.07 132.9  124.28 112.94 114.76  45.81\n",
            " 119.29 167.83  51.26 162.39  46.27 127.91 130.63 143.34 115.21 166.92\n",
            " 109.32 135.62 204.12 129.73 127.46 118.84 139.25 126.1   38.56 135.17\n",
            " 122.92 151.5  172.37 133.36  42.64  50.35 134.26 123.38  37.19 147.87\n",
            "  35.38 144.24 149.23  37.65  86.   147.42 281.   165.56 162.84 155.58\n",
            " 137.89 189.6  206.38 148.32  42.18 153.77  38.1   90.   176.9  191.87\n",
            " 249.48  67.    95.    82.   170.1   44.    40.82  53.   139.71 130.18\n",
            " 100.   165.11  64.    43.54  24.   134.72 141.52 125.19  75.    60.\n",
            "  34.02 164.65 250.    58.    76.    73.   112.    74.    55.   200.\n",
            "  80.    54.    66.    72.   152.41  39.46 220.    41.28 168.28 190.51\n",
            " 188.24  59.    70.    46.   265.   238.14 168.74 145.   190.    93.\n",
            " 159.66  78.    50.   185.07 104.   165.   183.7   33.57 161.93  68.\n",
            " 125.65 134.   130.    32.21 143.79  69.   179.17  63.   105.   210.92\n",
            "  65.    32.    30.84  62.   292.57 280.    85.   174.63  56.   128.37\n",
            "  87.    39.92  83.   169.64 156.04 121.   151.05  89.   146.96 146.06\n",
            "  98.   166.47 171.46 227.25  29.48 190.06 161.03  35.83 226.8  175.09\n",
            " 138.8  240.4  158.3  170.55  61.   137.44 141.07  52.   120.    57.\n",
            "  77.    27.22  36.74  25.4   96.   115.    41.   170.   150.59 272.16\n",
            "  45.    26.31  48.    39.01 236.    92.   197.31 156.    84.    94.\n",
            "  29.03  49.    79.   157.85 192.78 145.6  255.   108.   185.   222.26\n",
            " 229.97  81.    24.95  71.    26.   107.   101.   155.13 208.65 140.\n",
            " 111.   110.   141.97  22.68 136.53 210.   140.16 146.51  24.49  25.85\n",
            " 150.   102.    23.59 125.    38.   135.   176.45 152.86  91.   124.\n",
            " 192.32 186.88 118.   160.12 160.   201.85 144.7  184.16 142.43 169.\n",
            " 166.01  32.66 180.53 196.41  40.   171.91 195.95  33.11 153.31 159.21\n",
            " 164.2  219.99 182.34  30.   160.57  47.   173.27 213.19 276.24 199.58\n",
            " 175.99 215.46 217.72 200.03 230.88 185.52 103.   146.   185.97 178.72\n",
            " 150.14 157.4  163.75 191.42 174.18  28.58  97.   256.28 205.48 161.48\n",
            " 178.26 179.62  51.   205.02 154.68 201.4  234.96 177.81 200.49 231.79\n",
            " 227.7  273.52 189.15 167.38 211.83 223.62 228.61  30.39 197.77 250.38\n",
            " 183.25 181.89  31.3  290.3  285.   113.   242.67 231.33 180.08 202.76\n",
            " 180.   188.69 164.   156.94 114.   122.   240.   222.   137.    24.04\n",
            " 180.98 272.   172.82  34.93 234.51 199.13 244.94 203.21  23.13 265.35\n",
            " 173.73 198.22 263.08 216.82 154.   239.04 206.84 177.35 224.98 117.\n",
            "  37.   126.   273.06 203.66 238.59 194.59 187.33 221.35 162.   224.53\n",
            "  23.   254.01 187.79 212.73 184.61 152.   233.6  193.23 229.52 205.\n",
            " 229.06 230.   247.21  99.    28.12 230.42 175.54 235.87 171.    26.76\n",
            " 212.28 280.32 169.19  42.   258.55 215.   116.    28.   175.   123.\n",
            " 186.43 228.16 119.   219.09 278.96 182.8  217.27 246.3  210.47] \n",
            "\n",
            "BMI  -  [27.44 26.57 25.61 ... 13.51 28.39 48.63] \n",
            "\n",
            "AlcoholDrinkers  -  ['No' 'Yes'] \n",
            "\n",
            "HighRiskLastYear  -  ['No' 'Yes'] \n",
            "\n",
            "CovidPos  -  ['No' 'Yes'\n",
            " 'Tested positive using home test without a health professional'] \n",
            "\n"
          ]
        }
      ],
      "source": [
        "# Покажем все уникальные значения для наших очищенных данных\n",
        "for data_column in data.columns:\n",
        "  print(data_column, ' - ', data[data_column].unique(), '\\n')"
      ]
    },
    {
      "cell_type": "markdown",
      "metadata": {
        "id": "bWapEDXJj079"
      },
      "source": [
        "Определим бинарные данные"
      ]
    },
    {
      "cell_type": "code",
      "execution_count": 55,
      "metadata": {
        "id": "JXnhSA9bzov1"
      },
      "outputs": [],
      "source": [
        "binary_data = data[binary_columns];"
      ]
    },
    {
      "cell_type": "code",
      "execution_count": 28,
      "metadata": {
        "colab": {
          "base_uri": "https://localhost:8080/",
          "height": 443
        },
        "id": "rlArW_7r0Cc0",
        "outputId": "cc4a1c97-f3d1-4be9-da0d-cec4e0ccc4a6"
      },
      "outputs": [
        {
          "data": {
            "text/html": [
              "\n",
              "  <div id=\"df-79d2e838-efdb-4440-b2cc-38ef18a2b877\" class=\"colab-df-container\">\n",
              "    <div>\n",
              "<style scoped>\n",
              "    .dataframe tbody tr th:only-of-type {\n",
              "        vertical-align: middle;\n",
              "    }\n",
              "\n",
              "    .dataframe tbody tr th {\n",
              "        vertical-align: top;\n",
              "    }\n",
              "\n",
              "    .dataframe thead th {\n",
              "        text-align: right;\n",
              "    }\n",
              "</style>\n",
              "<table border=\"1\" class=\"dataframe\">\n",
              "  <thead>\n",
              "    <tr style=\"text-align: right;\">\n",
              "      <th></th>\n",
              "      <th>Sex</th>\n",
              "      <th>PhysicalActivities</th>\n",
              "      <th>HadHeartAttack</th>\n",
              "      <th>HadAngina</th>\n",
              "      <th>HadStroke</th>\n",
              "      <th>HadAsthma</th>\n",
              "      <th>HadSkinCancer</th>\n",
              "      <th>HadCOPD</th>\n",
              "      <th>HadDepressiveDisorder</th>\n",
              "      <th>HadKidneyDisease</th>\n",
              "      <th>HadArthritis</th>\n",
              "      <th>DeafOrHardOfHearing</th>\n",
              "      <th>BlindOrVisionDifficulty</th>\n",
              "      <th>DifficultyConcentrating</th>\n",
              "      <th>DifficultyWalking</th>\n",
              "      <th>DifficultyDressingBathing</th>\n",
              "      <th>DifficultyErrands</th>\n",
              "      <th>ChestScan</th>\n",
              "      <th>AlcoholDrinkers</th>\n",
              "      <th>HighRiskLastYear</th>\n",
              "    </tr>\n",
              "  </thead>\n",
              "  <tbody>\n",
              "    <tr>\n",
              "      <th>0</th>\n",
              "      <td>Female</td>\n",
              "      <td>No</td>\n",
              "      <td>No</td>\n",
              "      <td>No</td>\n",
              "      <td>No</td>\n",
              "      <td>No</td>\n",
              "      <td>No</td>\n",
              "      <td>No</td>\n",
              "      <td>No</td>\n",
              "      <td>No</td>\n",
              "      <td>No</td>\n",
              "      <td>No</td>\n",
              "      <td>No</td>\n",
              "      <td>No</td>\n",
              "      <td>No</td>\n",
              "      <td>No</td>\n",
              "      <td>No</td>\n",
              "      <td>No</td>\n",
              "      <td>No</td>\n",
              "      <td>No</td>\n",
              "    </tr>\n",
              "    <tr>\n",
              "      <th>1</th>\n",
              "      <td>Female</td>\n",
              "      <td>No</td>\n",
              "      <td>No</td>\n",
              "      <td>No</td>\n",
              "      <td>No</td>\n",
              "      <td>No</td>\n",
              "      <td>Yes</td>\n",
              "      <td>No</td>\n",
              "      <td>No</td>\n",
              "      <td>No</td>\n",
              "      <td>No</td>\n",
              "      <td>No</td>\n",
              "      <td>No</td>\n",
              "      <td>No</td>\n",
              "      <td>No</td>\n",
              "      <td>No</td>\n",
              "      <td>No</td>\n",
              "      <td>No</td>\n",
              "      <td>No</td>\n",
              "      <td>No</td>\n",
              "    </tr>\n",
              "    <tr>\n",
              "      <th>2</th>\n",
              "      <td>Female</td>\n",
              "      <td>Yes</td>\n",
              "      <td>No</td>\n",
              "      <td>No</td>\n",
              "      <td>No</td>\n",
              "      <td>No</td>\n",
              "      <td>Yes</td>\n",
              "      <td>No</td>\n",
              "      <td>No</td>\n",
              "      <td>No</td>\n",
              "      <td>No</td>\n",
              "      <td>No</td>\n",
              "      <td>No</td>\n",
              "      <td>No</td>\n",
              "      <td>No</td>\n",
              "      <td>No</td>\n",
              "      <td>No</td>\n",
              "      <td>No</td>\n",
              "      <td>No</td>\n",
              "      <td>No</td>\n",
              "    </tr>\n",
              "    <tr>\n",
              "      <th>4</th>\n",
              "      <td>Female</td>\n",
              "      <td>Yes</td>\n",
              "      <td>No</td>\n",
              "      <td>No</td>\n",
              "      <td>No</td>\n",
              "      <td>No</td>\n",
              "      <td>No</td>\n",
              "      <td>No</td>\n",
              "      <td>No</td>\n",
              "      <td>No</td>\n",
              "      <td>No</td>\n",
              "      <td>No</td>\n",
              "      <td>No</td>\n",
              "      <td>No</td>\n",
              "      <td>No</td>\n",
              "      <td>No</td>\n",
              "      <td>No</td>\n",
              "      <td>Yes</td>\n",
              "      <td>Yes</td>\n",
              "      <td>No</td>\n",
              "    </tr>\n",
              "    <tr>\n",
              "      <th>5</th>\n",
              "      <td>Male</td>\n",
              "      <td>No</td>\n",
              "      <td>Yes</td>\n",
              "      <td>No</td>\n",
              "      <td>Yes</td>\n",
              "      <td>No</td>\n",
              "      <td>No</td>\n",
              "      <td>No</td>\n",
              "      <td>No</td>\n",
              "      <td>No</td>\n",
              "      <td>No</td>\n",
              "      <td>No</td>\n",
              "      <td>No</td>\n",
              "      <td>No</td>\n",
              "      <td>No</td>\n",
              "      <td>No</td>\n",
              "      <td>No</td>\n",
              "      <td>No</td>\n",
              "      <td>No</td>\n",
              "      <td>No</td>\n",
              "    </tr>\n",
              "    <tr>\n",
              "      <th>...</th>\n",
              "      <td>...</td>\n",
              "      <td>...</td>\n",
              "      <td>...</td>\n",
              "      <td>...</td>\n",
              "      <td>...</td>\n",
              "      <td>...</td>\n",
              "      <td>...</td>\n",
              "      <td>...</td>\n",
              "      <td>...</td>\n",
              "      <td>...</td>\n",
              "      <td>...</td>\n",
              "      <td>...</td>\n",
              "      <td>...</td>\n",
              "      <td>...</td>\n",
              "      <td>...</td>\n",
              "      <td>...</td>\n",
              "      <td>...</td>\n",
              "      <td>...</td>\n",
              "      <td>...</td>\n",
              "      <td>...</td>\n",
              "    </tr>\n",
              "    <tr>\n",
              "      <th>445126</th>\n",
              "      <td>Male</td>\n",
              "      <td>Yes</td>\n",
              "      <td>No</td>\n",
              "      <td>No</td>\n",
              "      <td>No</td>\n",
              "      <td>No</td>\n",
              "      <td>No</td>\n",
              "      <td>No</td>\n",
              "      <td>No</td>\n",
              "      <td>No</td>\n",
              "      <td>No</td>\n",
              "      <td>No</td>\n",
              "      <td>No</td>\n",
              "      <td>No</td>\n",
              "      <td>No</td>\n",
              "      <td>No</td>\n",
              "      <td>No</td>\n",
              "      <td>No</td>\n",
              "      <td>Yes</td>\n",
              "      <td>No</td>\n",
              "    </tr>\n",
              "    <tr>\n",
              "      <th>445127</th>\n",
              "      <td>Female</td>\n",
              "      <td>Yes</td>\n",
              "      <td>No</td>\n",
              "      <td>No</td>\n",
              "      <td>No</td>\n",
              "      <td>Yes</td>\n",
              "      <td>No</td>\n",
              "      <td>No</td>\n",
              "      <td>Yes</td>\n",
              "      <td>No</td>\n",
              "      <td>No</td>\n",
              "      <td>No</td>\n",
              "      <td>No</td>\n",
              "      <td>No</td>\n",
              "      <td>No</td>\n",
              "      <td>No</td>\n",
              "      <td>No</td>\n",
              "      <td>Yes</td>\n",
              "      <td>Yes</td>\n",
              "      <td>No</td>\n",
              "    </tr>\n",
              "    <tr>\n",
              "      <th>445128</th>\n",
              "      <td>Female</td>\n",
              "      <td>Yes</td>\n",
              "      <td>No</td>\n",
              "      <td>No</td>\n",
              "      <td>No</td>\n",
              "      <td>No</td>\n",
              "      <td>No</td>\n",
              "      <td>No</td>\n",
              "      <td>No</td>\n",
              "      <td>No</td>\n",
              "      <td>No</td>\n",
              "      <td>No</td>\n",
              "      <td>No</td>\n",
              "      <td>No</td>\n",
              "      <td>No</td>\n",
              "      <td>No</td>\n",
              "      <td>No</td>\n",
              "      <td>No</td>\n",
              "      <td>No</td>\n",
              "      <td>No</td>\n",
              "    </tr>\n",
              "    <tr>\n",
              "      <th>445130</th>\n",
              "      <td>Male</td>\n",
              "      <td>No</td>\n",
              "      <td>Yes</td>\n",
              "      <td>No</td>\n",
              "      <td>No</td>\n",
              "      <td>Yes</td>\n",
              "      <td>No</td>\n",
              "      <td>No</td>\n",
              "      <td>No</td>\n",
              "      <td>No</td>\n",
              "      <td>No</td>\n",
              "      <td>No</td>\n",
              "      <td>No</td>\n",
              "      <td>No</td>\n",
              "      <td>No</td>\n",
              "      <td>No</td>\n",
              "      <td>No</td>\n",
              "      <td>Yes</td>\n",
              "      <td>No</td>\n",
              "      <td>No</td>\n",
              "    </tr>\n",
              "    <tr>\n",
              "      <th>445131</th>\n",
              "      <td>Male</td>\n",
              "      <td>Yes</td>\n",
              "      <td>No</td>\n",
              "      <td>No</td>\n",
              "      <td>No</td>\n",
              "      <td>No</td>\n",
              "      <td>No</td>\n",
              "      <td>No</td>\n",
              "      <td>No</td>\n",
              "      <td>No</td>\n",
              "      <td>No</td>\n",
              "      <td>No</td>\n",
              "      <td>No</td>\n",
              "      <td>Yes</td>\n",
              "      <td>Yes</td>\n",
              "      <td>No</td>\n",
              "      <td>No</td>\n",
              "      <td>Yes</td>\n",
              "      <td>Yes</td>\n",
              "      <td>No</td>\n",
              "    </tr>\n",
              "  </tbody>\n",
              "</table>\n",
              "<p>376000 rows × 20 columns</p>\n",
              "</div>\n",
              "    <div class=\"colab-df-buttons\">\n",
              "\n",
              "  <div class=\"colab-df-container\">\n",
              "    <button class=\"colab-df-convert\" onclick=\"convertToInteractive('df-79d2e838-efdb-4440-b2cc-38ef18a2b877')\"\n",
              "            title=\"Convert this dataframe to an interactive table.\"\n",
              "            style=\"display:none;\">\n",
              "\n",
              "  <svg xmlns=\"http://www.w3.org/2000/svg\" height=\"24px\" viewBox=\"0 -960 960 960\">\n",
              "    <path d=\"M120-120v-720h720v720H120Zm60-500h600v-160H180v160Zm220 220h160v-160H400v160Zm0 220h160v-160H400v160ZM180-400h160v-160H180v160Zm440 0h160v-160H620v160ZM180-180h160v-160H180v160Zm440 0h160v-160H620v160Z\"/>\n",
              "  </svg>\n",
              "    </button>\n",
              "\n",
              "  <style>\n",
              "    .colab-df-container {\n",
              "      display:flex;\n",
              "      gap: 12px;\n",
              "    }\n",
              "\n",
              "    .colab-df-convert {\n",
              "      background-color: #E8F0FE;\n",
              "      border: none;\n",
              "      border-radius: 50%;\n",
              "      cursor: pointer;\n",
              "      display: none;\n",
              "      fill: #1967D2;\n",
              "      height: 32px;\n",
              "      padding: 0 0 0 0;\n",
              "      width: 32px;\n",
              "    }\n",
              "\n",
              "    .colab-df-convert:hover {\n",
              "      background-color: #E2EBFA;\n",
              "      box-shadow: 0px 1px 2px rgba(60, 64, 67, 0.3), 0px 1px 3px 1px rgba(60, 64, 67, 0.15);\n",
              "      fill: #174EA6;\n",
              "    }\n",
              "\n",
              "    .colab-df-buttons div {\n",
              "      margin-bottom: 4px;\n",
              "    }\n",
              "\n",
              "    [theme=dark] .colab-df-convert {\n",
              "      background-color: #3B4455;\n",
              "      fill: #D2E3FC;\n",
              "    }\n",
              "\n",
              "    [theme=dark] .colab-df-convert:hover {\n",
              "      background-color: #434B5C;\n",
              "      box-shadow: 0px 1px 3px 1px rgba(0, 0, 0, 0.15);\n",
              "      filter: drop-shadow(0px 1px 2px rgba(0, 0, 0, 0.3));\n",
              "      fill: #FFFFFF;\n",
              "    }\n",
              "  </style>\n",
              "\n",
              "    <script>\n",
              "      const buttonEl =\n",
              "        document.querySelector('#df-79d2e838-efdb-4440-b2cc-38ef18a2b877 button.colab-df-convert');\n",
              "      buttonEl.style.display =\n",
              "        google.colab.kernel.accessAllowed ? 'block' : 'none';\n",
              "\n",
              "      async function convertToInteractive(key) {\n",
              "        const element = document.querySelector('#df-79d2e838-efdb-4440-b2cc-38ef18a2b877');\n",
              "        const dataTable =\n",
              "          await google.colab.kernel.invokeFunction('convertToInteractive',\n",
              "                                                    [key], {});\n",
              "        if (!dataTable) return;\n",
              "\n",
              "        const docLinkHtml = 'Like what you see? Visit the ' +\n",
              "          '<a target=\"_blank\" href=https://colab.research.google.com/notebooks/data_table.ipynb>data table notebook</a>'\n",
              "          + ' to learn more about interactive tables.';\n",
              "        element.innerHTML = '';\n",
              "        dataTable['output_type'] = 'display_data';\n",
              "        await google.colab.output.renderOutput(dataTable, element);\n",
              "        const docLink = document.createElement('div');\n",
              "        docLink.innerHTML = docLinkHtml;\n",
              "        element.appendChild(docLink);\n",
              "      }\n",
              "    </script>\n",
              "  </div>\n",
              "\n",
              "\n",
              "<div id=\"df-0f2eed8c-3ee3-4775-a93a-1df6c3749c7e\">\n",
              "  <button class=\"colab-df-quickchart\" onclick=\"quickchart('df-0f2eed8c-3ee3-4775-a93a-1df6c3749c7e')\"\n",
              "            title=\"Suggest charts\"\n",
              "            style=\"display:none;\">\n",
              "\n",
              "<svg xmlns=\"http://www.w3.org/2000/svg\" height=\"24px\"viewBox=\"0 0 24 24\"\n",
              "     width=\"24px\">\n",
              "    <g>\n",
              "        <path d=\"M19 3H5c-1.1 0-2 .9-2 2v14c0 1.1.9 2 2 2h14c1.1 0 2-.9 2-2V5c0-1.1-.9-2-2-2zM9 17H7v-7h2v7zm4 0h-2V7h2v10zm4 0h-2v-4h2v4z\"/>\n",
              "    </g>\n",
              "</svg>\n",
              "  </button>\n",
              "\n",
              "<style>\n",
              "  .colab-df-quickchart {\n",
              "      --bg-color: #E8F0FE;\n",
              "      --fill-color: #1967D2;\n",
              "      --hover-bg-color: #E2EBFA;\n",
              "      --hover-fill-color: #174EA6;\n",
              "      --disabled-fill-color: #AAA;\n",
              "      --disabled-bg-color: #DDD;\n",
              "  }\n",
              "\n",
              "  [theme=dark] .colab-df-quickchart {\n",
              "      --bg-color: #3B4455;\n",
              "      --fill-color: #D2E3FC;\n",
              "      --hover-bg-color: #434B5C;\n",
              "      --hover-fill-color: #FFFFFF;\n",
              "      --disabled-bg-color: #3B4455;\n",
              "      --disabled-fill-color: #666;\n",
              "  }\n",
              "\n",
              "  .colab-df-quickchart {\n",
              "    background-color: var(--bg-color);\n",
              "    border: none;\n",
              "    border-radius: 50%;\n",
              "    cursor: pointer;\n",
              "    display: none;\n",
              "    fill: var(--fill-color);\n",
              "    height: 32px;\n",
              "    padding: 0;\n",
              "    width: 32px;\n",
              "  }\n",
              "\n",
              "  .colab-df-quickchart:hover {\n",
              "    background-color: var(--hover-bg-color);\n",
              "    box-shadow: 0 1px 2px rgba(60, 64, 67, 0.3), 0 1px 3px 1px rgba(60, 64, 67, 0.15);\n",
              "    fill: var(--button-hover-fill-color);\n",
              "  }\n",
              "\n",
              "  .colab-df-quickchart-complete:disabled,\n",
              "  .colab-df-quickchart-complete:disabled:hover {\n",
              "    background-color: var(--disabled-bg-color);\n",
              "    fill: var(--disabled-fill-color);\n",
              "    box-shadow: none;\n",
              "  }\n",
              "\n",
              "  .colab-df-spinner {\n",
              "    border: 2px solid var(--fill-color);\n",
              "    border-color: transparent;\n",
              "    border-bottom-color: var(--fill-color);\n",
              "    animation:\n",
              "      spin 1s steps(1) infinite;\n",
              "  }\n",
              "\n",
              "  @keyframes spin {\n",
              "    0% {\n",
              "      border-color: transparent;\n",
              "      border-bottom-color: var(--fill-color);\n",
              "      border-left-color: var(--fill-color);\n",
              "    }\n",
              "    20% {\n",
              "      border-color: transparent;\n",
              "      border-left-color: var(--fill-color);\n",
              "      border-top-color: var(--fill-color);\n",
              "    }\n",
              "    30% {\n",
              "      border-color: transparent;\n",
              "      border-left-color: var(--fill-color);\n",
              "      border-top-color: var(--fill-color);\n",
              "      border-right-color: var(--fill-color);\n",
              "    }\n",
              "    40% {\n",
              "      border-color: transparent;\n",
              "      border-right-color: var(--fill-color);\n",
              "      border-top-color: var(--fill-color);\n",
              "    }\n",
              "    60% {\n",
              "      border-color: transparent;\n",
              "      border-right-color: var(--fill-color);\n",
              "    }\n",
              "    80% {\n",
              "      border-color: transparent;\n",
              "      border-right-color: var(--fill-color);\n",
              "      border-bottom-color: var(--fill-color);\n",
              "    }\n",
              "    90% {\n",
              "      border-color: transparent;\n",
              "      border-bottom-color: var(--fill-color);\n",
              "    }\n",
              "  }\n",
              "</style>\n",
              "\n",
              "  <script>\n",
              "    async function quickchart(key) {\n",
              "      const quickchartButtonEl =\n",
              "        document.querySelector('#' + key + ' button');\n",
              "      quickchartButtonEl.disabled = true;  // To prevent multiple clicks.\n",
              "      quickchartButtonEl.classList.add('colab-df-spinner');\n",
              "      try {\n",
              "        const charts = await google.colab.kernel.invokeFunction(\n",
              "            'suggestCharts', [key], {});\n",
              "      } catch (error) {\n",
              "        console.error('Error during call to suggestCharts:', error);\n",
              "      }\n",
              "      quickchartButtonEl.classList.remove('colab-df-spinner');\n",
              "      quickchartButtonEl.classList.add('colab-df-quickchart-complete');\n",
              "    }\n",
              "    (() => {\n",
              "      let quickchartButtonEl =\n",
              "        document.querySelector('#df-0f2eed8c-3ee3-4775-a93a-1df6c3749c7e button');\n",
              "      quickchartButtonEl.style.display =\n",
              "        google.colab.kernel.accessAllowed ? 'block' : 'none';\n",
              "    })();\n",
              "  </script>\n",
              "</div>\n",
              "    </div>\n",
              "  </div>\n"
            ],
            "text/plain": [
              "           Sex PhysicalActivities HadHeartAttack HadAngina HadStroke  \\\n",
              "0       Female                 No             No        No        No   \n",
              "1       Female                 No             No        No        No   \n",
              "2       Female                Yes             No        No        No   \n",
              "4       Female                Yes             No        No        No   \n",
              "5         Male                 No            Yes        No       Yes   \n",
              "...        ...                ...            ...       ...       ...   \n",
              "445126    Male                Yes             No        No        No   \n",
              "445127  Female                Yes             No        No        No   \n",
              "445128  Female                Yes             No        No        No   \n",
              "445130    Male                 No            Yes        No        No   \n",
              "445131    Male                Yes             No        No        No   \n",
              "\n",
              "       HadAsthma HadSkinCancer HadCOPD HadDepressiveDisorder HadKidneyDisease  \\\n",
              "0             No            No      No                    No               No   \n",
              "1             No           Yes      No                    No               No   \n",
              "2             No           Yes      No                    No               No   \n",
              "4             No            No      No                    No               No   \n",
              "5             No            No      No                    No               No   \n",
              "...          ...           ...     ...                   ...              ...   \n",
              "445126        No            No      No                    No               No   \n",
              "445127       Yes            No      No                   Yes               No   \n",
              "445128        No            No      No                    No               No   \n",
              "445130       Yes            No      No                    No               No   \n",
              "445131        No            No      No                    No               No   \n",
              "\n",
              "       HadArthritis DeafOrHardOfHearing BlindOrVisionDifficulty  \\\n",
              "0                No                  No                      No   \n",
              "1                No                  No                      No   \n",
              "2                No                  No                      No   \n",
              "4                No                  No                      No   \n",
              "5                No                  No                      No   \n",
              "...             ...                 ...                     ...   \n",
              "445126           No                  No                      No   \n",
              "445127           No                  No                      No   \n",
              "445128           No                  No                      No   \n",
              "445130           No                  No                      No   \n",
              "445131           No                  No                      No   \n",
              "\n",
              "       DifficultyConcentrating DifficultyWalking DifficultyDressingBathing  \\\n",
              "0                           No                No                        No   \n",
              "1                           No                No                        No   \n",
              "2                           No                No                        No   \n",
              "4                           No                No                        No   \n",
              "5                           No                No                        No   \n",
              "...                        ...               ...                       ...   \n",
              "445126                      No                No                        No   \n",
              "445127                      No                No                        No   \n",
              "445128                      No                No                        No   \n",
              "445130                      No                No                        No   \n",
              "445131                     Yes               Yes                        No   \n",
              "\n",
              "       DifficultyErrands ChestScan AlcoholDrinkers HighRiskLastYear  \n",
              "0                     No        No              No               No  \n",
              "1                     No        No              No               No  \n",
              "2                     No        No              No               No  \n",
              "4                     No       Yes             Yes               No  \n",
              "5                     No        No              No               No  \n",
              "...                  ...       ...             ...              ...  \n",
              "445126                No        No             Yes               No  \n",
              "445127                No       Yes             Yes               No  \n",
              "445128                No        No              No               No  \n",
              "445130                No       Yes              No               No  \n",
              "445131                No       Yes             Yes               No  \n",
              "\n",
              "[376000 rows x 20 columns]"
            ]
          },
          "execution_count": 28,
          "metadata": {},
          "output_type": "execute_result"
        }
      ],
      "source": [
        "binary_data"
      ]
    },
    {
      "cell_type": "code",
      "execution_count": 56,
      "metadata": {
        "colab": {
          "base_uri": "https://localhost:8080/"
        },
        "id": "HmAH2suY0Flj",
        "outputId": "da3e363a-1cee-40c3-f6e5-773759952d7c"
      },
      "outputs": [
        {
          "name": "stderr",
          "output_type": "stream",
          "text": [
            "C:\\Users\\Alef Computers\\AppData\\Local\\Temp\\ipykernel_20660\\2384527613.py:2: SettingWithCopyWarning: \n",
            "A value is trying to be set on a copy of a slice from a DataFrame.\n",
            "Try using .loc[row_indexer,col_indexer] = value instead\n",
            "\n",
            "See the caveats in the documentation: https://pandas.pydata.org/pandas-docs/stable/user_guide/indexing.html#returning-a-view-versus-a-copy\n",
            "  binary_data[column] = pd.factorize(binary_data[column])[0]\n",
            "C:\\Users\\Alef Computers\\AppData\\Local\\Temp\\ipykernel_20660\\2384527613.py:2: SettingWithCopyWarning: \n",
            "A value is trying to be set on a copy of a slice from a DataFrame.\n",
            "Try using .loc[row_indexer,col_indexer] = value instead\n",
            "\n",
            "See the caveats in the documentation: https://pandas.pydata.org/pandas-docs/stable/user_guide/indexing.html#returning-a-view-versus-a-copy\n",
            "  binary_data[column] = pd.factorize(binary_data[column])[0]\n",
            "C:\\Users\\Alef Computers\\AppData\\Local\\Temp\\ipykernel_20660\\2384527613.py:2: SettingWithCopyWarning: \n",
            "A value is trying to be set on a copy of a slice from a DataFrame.\n",
            "Try using .loc[row_indexer,col_indexer] = value instead\n",
            "\n",
            "See the caveats in the documentation: https://pandas.pydata.org/pandas-docs/stable/user_guide/indexing.html#returning-a-view-versus-a-copy\n",
            "  binary_data[column] = pd.factorize(binary_data[column])[0]\n",
            "C:\\Users\\Alef Computers\\AppData\\Local\\Temp\\ipykernel_20660\\2384527613.py:2: SettingWithCopyWarning: \n",
            "A value is trying to be set on a copy of a slice from a DataFrame.\n",
            "Try using .loc[row_indexer,col_indexer] = value instead\n",
            "\n",
            "See the caveats in the documentation: https://pandas.pydata.org/pandas-docs/stable/user_guide/indexing.html#returning-a-view-versus-a-copy\n",
            "  binary_data[column] = pd.factorize(binary_data[column])[0]\n",
            "C:\\Users\\Alef Computers\\AppData\\Local\\Temp\\ipykernel_20660\\2384527613.py:2: SettingWithCopyWarning: \n",
            "A value is trying to be set on a copy of a slice from a DataFrame.\n",
            "Try using .loc[row_indexer,col_indexer] = value instead\n",
            "\n",
            "See the caveats in the documentation: https://pandas.pydata.org/pandas-docs/stable/user_guide/indexing.html#returning-a-view-versus-a-copy\n",
            "  binary_data[column] = pd.factorize(binary_data[column])[0]\n",
            "C:\\Users\\Alef Computers\\AppData\\Local\\Temp\\ipykernel_20660\\2384527613.py:2: SettingWithCopyWarning: \n",
            "A value is trying to be set on a copy of a slice from a DataFrame.\n",
            "Try using .loc[row_indexer,col_indexer] = value instead\n",
            "\n",
            "See the caveats in the documentation: https://pandas.pydata.org/pandas-docs/stable/user_guide/indexing.html#returning-a-view-versus-a-copy\n",
            "  binary_data[column] = pd.factorize(binary_data[column])[0]\n",
            "C:\\Users\\Alef Computers\\AppData\\Local\\Temp\\ipykernel_20660\\2384527613.py:2: SettingWithCopyWarning: \n",
            "A value is trying to be set on a copy of a slice from a DataFrame.\n",
            "Try using .loc[row_indexer,col_indexer] = value instead\n",
            "\n",
            "See the caveats in the documentation: https://pandas.pydata.org/pandas-docs/stable/user_guide/indexing.html#returning-a-view-versus-a-copy\n",
            "  binary_data[column] = pd.factorize(binary_data[column])[0]\n",
            "C:\\Users\\Alef Computers\\AppData\\Local\\Temp\\ipykernel_20660\\2384527613.py:2: SettingWithCopyWarning: \n",
            "A value is trying to be set on a copy of a slice from a DataFrame.\n",
            "Try using .loc[row_indexer,col_indexer] = value instead\n",
            "\n",
            "See the caveats in the documentation: https://pandas.pydata.org/pandas-docs/stable/user_guide/indexing.html#returning-a-view-versus-a-copy\n",
            "  binary_data[column] = pd.factorize(binary_data[column])[0]\n",
            "C:\\Users\\Alef Computers\\AppData\\Local\\Temp\\ipykernel_20660\\2384527613.py:2: SettingWithCopyWarning: \n",
            "A value is trying to be set on a copy of a slice from a DataFrame.\n",
            "Try using .loc[row_indexer,col_indexer] = value instead\n",
            "\n",
            "See the caveats in the documentation: https://pandas.pydata.org/pandas-docs/stable/user_guide/indexing.html#returning-a-view-versus-a-copy\n",
            "  binary_data[column] = pd.factorize(binary_data[column])[0]\n",
            "C:\\Users\\Alef Computers\\AppData\\Local\\Temp\\ipykernel_20660\\2384527613.py:2: SettingWithCopyWarning: \n",
            "A value is trying to be set on a copy of a slice from a DataFrame.\n",
            "Try using .loc[row_indexer,col_indexer] = value instead\n",
            "\n",
            "See the caveats in the documentation: https://pandas.pydata.org/pandas-docs/stable/user_guide/indexing.html#returning-a-view-versus-a-copy\n",
            "  binary_data[column] = pd.factorize(binary_data[column])[0]\n",
            "C:\\Users\\Alef Computers\\AppData\\Local\\Temp\\ipykernel_20660\\2384527613.py:2: SettingWithCopyWarning: \n",
            "A value is trying to be set on a copy of a slice from a DataFrame.\n",
            "Try using .loc[row_indexer,col_indexer] = value instead\n",
            "\n",
            "See the caveats in the documentation: https://pandas.pydata.org/pandas-docs/stable/user_guide/indexing.html#returning-a-view-versus-a-copy\n",
            "  binary_data[column] = pd.factorize(binary_data[column])[0]\n",
            "C:\\Users\\Alef Computers\\AppData\\Local\\Temp\\ipykernel_20660\\2384527613.py:2: SettingWithCopyWarning: \n",
            "A value is trying to be set on a copy of a slice from a DataFrame.\n",
            "Try using .loc[row_indexer,col_indexer] = value instead\n",
            "\n",
            "See the caveats in the documentation: https://pandas.pydata.org/pandas-docs/stable/user_guide/indexing.html#returning-a-view-versus-a-copy\n",
            "  binary_data[column] = pd.factorize(binary_data[column])[0]\n",
            "C:\\Users\\Alef Computers\\AppData\\Local\\Temp\\ipykernel_20660\\2384527613.py:2: SettingWithCopyWarning: \n",
            "A value is trying to be set on a copy of a slice from a DataFrame.\n",
            "Try using .loc[row_indexer,col_indexer] = value instead\n",
            "\n",
            "See the caveats in the documentation: https://pandas.pydata.org/pandas-docs/stable/user_guide/indexing.html#returning-a-view-versus-a-copy\n",
            "  binary_data[column] = pd.factorize(binary_data[column])[0]\n",
            "C:\\Users\\Alef Computers\\AppData\\Local\\Temp\\ipykernel_20660\\2384527613.py:2: SettingWithCopyWarning: \n",
            "A value is trying to be set on a copy of a slice from a DataFrame.\n",
            "Try using .loc[row_indexer,col_indexer] = value instead\n",
            "\n",
            "See the caveats in the documentation: https://pandas.pydata.org/pandas-docs/stable/user_guide/indexing.html#returning-a-view-versus-a-copy\n",
            "  binary_data[column] = pd.factorize(binary_data[column])[0]\n",
            "C:\\Users\\Alef Computers\\AppData\\Local\\Temp\\ipykernel_20660\\2384527613.py:2: SettingWithCopyWarning: \n",
            "A value is trying to be set on a copy of a slice from a DataFrame.\n",
            "Try using .loc[row_indexer,col_indexer] = value instead\n",
            "\n",
            "See the caveats in the documentation: https://pandas.pydata.org/pandas-docs/stable/user_guide/indexing.html#returning-a-view-versus-a-copy\n",
            "  binary_data[column] = pd.factorize(binary_data[column])[0]\n",
            "C:\\Users\\Alef Computers\\AppData\\Local\\Temp\\ipykernel_20660\\2384527613.py:2: SettingWithCopyWarning: \n",
            "A value is trying to be set on a copy of a slice from a DataFrame.\n",
            "Try using .loc[row_indexer,col_indexer] = value instead\n",
            "\n",
            "See the caveats in the documentation: https://pandas.pydata.org/pandas-docs/stable/user_guide/indexing.html#returning-a-view-versus-a-copy\n",
            "  binary_data[column] = pd.factorize(binary_data[column])[0]\n",
            "C:\\Users\\Alef Computers\\AppData\\Local\\Temp\\ipykernel_20660\\2384527613.py:2: SettingWithCopyWarning: \n",
            "A value is trying to be set on a copy of a slice from a DataFrame.\n",
            "Try using .loc[row_indexer,col_indexer] = value instead\n",
            "\n",
            "See the caveats in the documentation: https://pandas.pydata.org/pandas-docs/stable/user_guide/indexing.html#returning-a-view-versus-a-copy\n",
            "  binary_data[column] = pd.factorize(binary_data[column])[0]\n",
            "C:\\Users\\Alef Computers\\AppData\\Local\\Temp\\ipykernel_20660\\2384527613.py:2: SettingWithCopyWarning: \n",
            "A value is trying to be set on a copy of a slice from a DataFrame.\n",
            "Try using .loc[row_indexer,col_indexer] = value instead\n",
            "\n",
            "See the caveats in the documentation: https://pandas.pydata.org/pandas-docs/stable/user_guide/indexing.html#returning-a-view-versus-a-copy\n",
            "  binary_data[column] = pd.factorize(binary_data[column])[0]\n",
            "C:\\Users\\Alef Computers\\AppData\\Local\\Temp\\ipykernel_20660\\2384527613.py:2: SettingWithCopyWarning: \n",
            "A value is trying to be set on a copy of a slice from a DataFrame.\n",
            "Try using .loc[row_indexer,col_indexer] = value instead\n",
            "\n",
            "See the caveats in the documentation: https://pandas.pydata.org/pandas-docs/stable/user_guide/indexing.html#returning-a-view-versus-a-copy\n",
            "  binary_data[column] = pd.factorize(binary_data[column])[0]\n",
            "C:\\Users\\Alef Computers\\AppData\\Local\\Temp\\ipykernel_20660\\2384527613.py:2: SettingWithCopyWarning: \n",
            "A value is trying to be set on a copy of a slice from a DataFrame.\n",
            "Try using .loc[row_indexer,col_indexer] = value instead\n",
            "\n",
            "See the caveats in the documentation: https://pandas.pydata.org/pandas-docs/stable/user_guide/indexing.html#returning-a-view-versus-a-copy\n",
            "  binary_data[column] = pd.factorize(binary_data[column])[0]\n"
          ]
        }
      ],
      "source": [
        "for column in binary_columns:\n",
        "  binary_data[column] = pd.factorize(binary_data[column])[0]"
      ]
    },
    {
      "cell_type": "code",
      "execution_count": 57,
      "metadata": {
        "colab": {
          "base_uri": "https://localhost:8080/",
          "height": 443
        },
        "id": "-UOaIiRT0X85",
        "outputId": "73965f86-9191-4bb4-aeb1-19216e62ca1e"
      },
      "outputs": [
        {
          "data": {
            "text/html": [
              "<div>\n",
              "<style scoped>\n",
              "    .dataframe tbody tr th:only-of-type {\n",
              "        vertical-align: middle;\n",
              "    }\n",
              "\n",
              "    .dataframe tbody tr th {\n",
              "        vertical-align: top;\n",
              "    }\n",
              "\n",
              "    .dataframe thead th {\n",
              "        text-align: right;\n",
              "    }\n",
              "</style>\n",
              "<table border=\"1\" class=\"dataframe\">\n",
              "  <thead>\n",
              "    <tr style=\"text-align: right;\">\n",
              "      <th></th>\n",
              "      <th>Sex</th>\n",
              "      <th>PhysicalActivities</th>\n",
              "      <th>HadHeartAttack</th>\n",
              "      <th>HadAngina</th>\n",
              "      <th>HadStroke</th>\n",
              "      <th>HadAsthma</th>\n",
              "      <th>HadSkinCancer</th>\n",
              "      <th>HadCOPD</th>\n",
              "      <th>HadDepressiveDisorder</th>\n",
              "      <th>HadKidneyDisease</th>\n",
              "      <th>HadArthritis</th>\n",
              "      <th>DeafOrHardOfHearing</th>\n",
              "      <th>BlindOrVisionDifficulty</th>\n",
              "      <th>DifficultyConcentrating</th>\n",
              "      <th>DifficultyWalking</th>\n",
              "      <th>DifficultyDressingBathing</th>\n",
              "      <th>DifficultyErrands</th>\n",
              "      <th>ChestScan</th>\n",
              "      <th>AlcoholDrinkers</th>\n",
              "      <th>HighRiskLastYear</th>\n",
              "    </tr>\n",
              "  </thead>\n",
              "  <tbody>\n",
              "    <tr>\n",
              "      <th>0</th>\n",
              "      <td>0</td>\n",
              "      <td>0</td>\n",
              "      <td>0</td>\n",
              "      <td>0</td>\n",
              "      <td>0</td>\n",
              "      <td>0</td>\n",
              "      <td>0</td>\n",
              "      <td>0</td>\n",
              "      <td>0</td>\n",
              "      <td>0</td>\n",
              "      <td>0</td>\n",
              "      <td>0</td>\n",
              "      <td>0</td>\n",
              "      <td>0</td>\n",
              "      <td>0</td>\n",
              "      <td>0</td>\n",
              "      <td>0</td>\n",
              "      <td>0</td>\n",
              "      <td>0</td>\n",
              "      <td>0</td>\n",
              "    </tr>\n",
              "    <tr>\n",
              "      <th>1</th>\n",
              "      <td>0</td>\n",
              "      <td>0</td>\n",
              "      <td>0</td>\n",
              "      <td>0</td>\n",
              "      <td>0</td>\n",
              "      <td>0</td>\n",
              "      <td>1</td>\n",
              "      <td>0</td>\n",
              "      <td>0</td>\n",
              "      <td>0</td>\n",
              "      <td>0</td>\n",
              "      <td>0</td>\n",
              "      <td>0</td>\n",
              "      <td>0</td>\n",
              "      <td>0</td>\n",
              "      <td>0</td>\n",
              "      <td>0</td>\n",
              "      <td>0</td>\n",
              "      <td>0</td>\n",
              "      <td>0</td>\n",
              "    </tr>\n",
              "    <tr>\n",
              "      <th>2</th>\n",
              "      <td>0</td>\n",
              "      <td>1</td>\n",
              "      <td>0</td>\n",
              "      <td>0</td>\n",
              "      <td>0</td>\n",
              "      <td>0</td>\n",
              "      <td>1</td>\n",
              "      <td>0</td>\n",
              "      <td>0</td>\n",
              "      <td>0</td>\n",
              "      <td>0</td>\n",
              "      <td>0</td>\n",
              "      <td>0</td>\n",
              "      <td>0</td>\n",
              "      <td>0</td>\n",
              "      <td>0</td>\n",
              "      <td>0</td>\n",
              "      <td>0</td>\n",
              "      <td>0</td>\n",
              "      <td>0</td>\n",
              "    </tr>\n",
              "    <tr>\n",
              "      <th>4</th>\n",
              "      <td>0</td>\n",
              "      <td>1</td>\n",
              "      <td>0</td>\n",
              "      <td>0</td>\n",
              "      <td>0</td>\n",
              "      <td>0</td>\n",
              "      <td>0</td>\n",
              "      <td>0</td>\n",
              "      <td>0</td>\n",
              "      <td>0</td>\n",
              "      <td>0</td>\n",
              "      <td>0</td>\n",
              "      <td>0</td>\n",
              "      <td>0</td>\n",
              "      <td>0</td>\n",
              "      <td>0</td>\n",
              "      <td>0</td>\n",
              "      <td>1</td>\n",
              "      <td>1</td>\n",
              "      <td>0</td>\n",
              "    </tr>\n",
              "    <tr>\n",
              "      <th>5</th>\n",
              "      <td>1</td>\n",
              "      <td>0</td>\n",
              "      <td>1</td>\n",
              "      <td>0</td>\n",
              "      <td>1</td>\n",
              "      <td>0</td>\n",
              "      <td>0</td>\n",
              "      <td>0</td>\n",
              "      <td>0</td>\n",
              "      <td>0</td>\n",
              "      <td>0</td>\n",
              "      <td>0</td>\n",
              "      <td>0</td>\n",
              "      <td>0</td>\n",
              "      <td>0</td>\n",
              "      <td>0</td>\n",
              "      <td>0</td>\n",
              "      <td>0</td>\n",
              "      <td>0</td>\n",
              "      <td>0</td>\n",
              "    </tr>\n",
              "    <tr>\n",
              "      <th>...</th>\n",
              "      <td>...</td>\n",
              "      <td>...</td>\n",
              "      <td>...</td>\n",
              "      <td>...</td>\n",
              "      <td>...</td>\n",
              "      <td>...</td>\n",
              "      <td>...</td>\n",
              "      <td>...</td>\n",
              "      <td>...</td>\n",
              "      <td>...</td>\n",
              "      <td>...</td>\n",
              "      <td>...</td>\n",
              "      <td>...</td>\n",
              "      <td>...</td>\n",
              "      <td>...</td>\n",
              "      <td>...</td>\n",
              "      <td>...</td>\n",
              "      <td>...</td>\n",
              "      <td>...</td>\n",
              "      <td>...</td>\n",
              "    </tr>\n",
              "    <tr>\n",
              "      <th>445126</th>\n",
              "      <td>1</td>\n",
              "      <td>1</td>\n",
              "      <td>0</td>\n",
              "      <td>0</td>\n",
              "      <td>0</td>\n",
              "      <td>0</td>\n",
              "      <td>0</td>\n",
              "      <td>0</td>\n",
              "      <td>0</td>\n",
              "      <td>0</td>\n",
              "      <td>0</td>\n",
              "      <td>0</td>\n",
              "      <td>0</td>\n",
              "      <td>0</td>\n",
              "      <td>0</td>\n",
              "      <td>0</td>\n",
              "      <td>0</td>\n",
              "      <td>0</td>\n",
              "      <td>1</td>\n",
              "      <td>0</td>\n",
              "    </tr>\n",
              "    <tr>\n",
              "      <th>445127</th>\n",
              "      <td>0</td>\n",
              "      <td>1</td>\n",
              "      <td>0</td>\n",
              "      <td>0</td>\n",
              "      <td>0</td>\n",
              "      <td>1</td>\n",
              "      <td>0</td>\n",
              "      <td>0</td>\n",
              "      <td>1</td>\n",
              "      <td>0</td>\n",
              "      <td>0</td>\n",
              "      <td>0</td>\n",
              "      <td>0</td>\n",
              "      <td>0</td>\n",
              "      <td>0</td>\n",
              "      <td>0</td>\n",
              "      <td>0</td>\n",
              "      <td>1</td>\n",
              "      <td>1</td>\n",
              "      <td>0</td>\n",
              "    </tr>\n",
              "    <tr>\n",
              "      <th>445128</th>\n",
              "      <td>0</td>\n",
              "      <td>1</td>\n",
              "      <td>0</td>\n",
              "      <td>0</td>\n",
              "      <td>0</td>\n",
              "      <td>0</td>\n",
              "      <td>0</td>\n",
              "      <td>0</td>\n",
              "      <td>0</td>\n",
              "      <td>0</td>\n",
              "      <td>0</td>\n",
              "      <td>0</td>\n",
              "      <td>0</td>\n",
              "      <td>0</td>\n",
              "      <td>0</td>\n",
              "      <td>0</td>\n",
              "      <td>0</td>\n",
              "      <td>0</td>\n",
              "      <td>0</td>\n",
              "      <td>0</td>\n",
              "    </tr>\n",
              "    <tr>\n",
              "      <th>445130</th>\n",
              "      <td>1</td>\n",
              "      <td>0</td>\n",
              "      <td>1</td>\n",
              "      <td>0</td>\n",
              "      <td>0</td>\n",
              "      <td>1</td>\n",
              "      <td>0</td>\n",
              "      <td>0</td>\n",
              "      <td>0</td>\n",
              "      <td>0</td>\n",
              "      <td>0</td>\n",
              "      <td>0</td>\n",
              "      <td>0</td>\n",
              "      <td>0</td>\n",
              "      <td>0</td>\n",
              "      <td>0</td>\n",
              "      <td>0</td>\n",
              "      <td>1</td>\n",
              "      <td>0</td>\n",
              "      <td>0</td>\n",
              "    </tr>\n",
              "    <tr>\n",
              "      <th>445131</th>\n",
              "      <td>1</td>\n",
              "      <td>1</td>\n",
              "      <td>0</td>\n",
              "      <td>0</td>\n",
              "      <td>0</td>\n",
              "      <td>0</td>\n",
              "      <td>0</td>\n",
              "      <td>0</td>\n",
              "      <td>0</td>\n",
              "      <td>0</td>\n",
              "      <td>0</td>\n",
              "      <td>0</td>\n",
              "      <td>0</td>\n",
              "      <td>1</td>\n",
              "      <td>1</td>\n",
              "      <td>0</td>\n",
              "      <td>0</td>\n",
              "      <td>1</td>\n",
              "      <td>1</td>\n",
              "      <td>0</td>\n",
              "    </tr>\n",
              "  </tbody>\n",
              "</table>\n",
              "<p>376000 rows × 20 columns</p>\n",
              "</div>"
            ],
            "text/plain": [
              "        Sex  PhysicalActivities  HadHeartAttack  HadAngina  HadStroke  \\\n",
              "0         0                   0               0          0          0   \n",
              "1         0                   0               0          0          0   \n",
              "2         0                   1               0          0          0   \n",
              "4         0                   1               0          0          0   \n",
              "5         1                   0               1          0          1   \n",
              "...     ...                 ...             ...        ...        ...   \n",
              "445126    1                   1               0          0          0   \n",
              "445127    0                   1               0          0          0   \n",
              "445128    0                   1               0          0          0   \n",
              "445130    1                   0               1          0          0   \n",
              "445131    1                   1               0          0          0   \n",
              "\n",
              "        HadAsthma  HadSkinCancer  HadCOPD  HadDepressiveDisorder  \\\n",
              "0               0              0        0                      0   \n",
              "1               0              1        0                      0   \n",
              "2               0              1        0                      0   \n",
              "4               0              0        0                      0   \n",
              "5               0              0        0                      0   \n",
              "...           ...            ...      ...                    ...   \n",
              "445126          0              0        0                      0   \n",
              "445127          1              0        0                      1   \n",
              "445128          0              0        0                      0   \n",
              "445130          1              0        0                      0   \n",
              "445131          0              0        0                      0   \n",
              "\n",
              "        HadKidneyDisease  HadArthritis  DeafOrHardOfHearing  \\\n",
              "0                      0             0                    0   \n",
              "1                      0             0                    0   \n",
              "2                      0             0                    0   \n",
              "4                      0             0                    0   \n",
              "5                      0             0                    0   \n",
              "...                  ...           ...                  ...   \n",
              "445126                 0             0                    0   \n",
              "445127                 0             0                    0   \n",
              "445128                 0             0                    0   \n",
              "445130                 0             0                    0   \n",
              "445131                 0             0                    0   \n",
              "\n",
              "        BlindOrVisionDifficulty  DifficultyConcentrating  DifficultyWalking  \\\n",
              "0                             0                        0                  0   \n",
              "1                             0                        0                  0   \n",
              "2                             0                        0                  0   \n",
              "4                             0                        0                  0   \n",
              "5                             0                        0                  0   \n",
              "...                         ...                      ...                ...   \n",
              "445126                        0                        0                  0   \n",
              "445127                        0                        0                  0   \n",
              "445128                        0                        0                  0   \n",
              "445130                        0                        0                  0   \n",
              "445131                        0                        1                  1   \n",
              "\n",
              "        DifficultyDressingBathing  DifficultyErrands  ChestScan  \\\n",
              "0                               0                  0          0   \n",
              "1                               0                  0          0   \n",
              "2                               0                  0          0   \n",
              "4                               0                  0          1   \n",
              "5                               0                  0          0   \n",
              "...                           ...                ...        ...   \n",
              "445126                          0                  0          0   \n",
              "445127                          0                  0          1   \n",
              "445128                          0                  0          0   \n",
              "445130                          0                  0          1   \n",
              "445131                          0                  0          1   \n",
              "\n",
              "        AlcoholDrinkers  HighRiskLastYear  \n",
              "0                     0                 0  \n",
              "1                     0                 0  \n",
              "2                     0                 0  \n",
              "4                     1                 0  \n",
              "5                     0                 0  \n",
              "...                 ...               ...  \n",
              "445126                1                 0  \n",
              "445127                1                 0  \n",
              "445128                0                 0  \n",
              "445130                0                 0  \n",
              "445131                1                 0  \n",
              "\n",
              "[376000 rows x 20 columns]"
            ]
          },
          "execution_count": 57,
          "metadata": {},
          "output_type": "execute_result"
        }
      ],
      "source": [
        "binary_data"
      ]
    },
    {
      "cell_type": "markdown",
      "metadata": {
        "id": "lGthIgYgkXtB"
      },
      "source": [
        "Данные для небинарных категориальных признаков (происходит их векторизация)"
      ]
    },
    {
      "cell_type": "code",
      "execution_count": 58,
      "metadata": {
        "colab": {
          "base_uri": "https://localhost:8080/",
          "height": 1000
        },
        "id": "wcfOOSbAy8PS",
        "outputId": "10a2947f-e17d-4dd2-c9a4-21271905b7a6"
      },
      "outputs": [
        {
          "name": "stdout",
          "output_type": "stream",
          "text": [
            "Index(['State_Alabama', 'State_Alaska', 'State_Arizona', 'State_Arkansas',\n",
            "       'State_California', 'State_Colorado', 'State_Connecticut',\n",
            "       'State_Delaware', 'State_District of Columbia', 'State_Florida',\n",
            "       'State_Georgia', 'State_Guam', 'State_Hawaii', 'State_Idaho',\n",
            "       'State_Illinois', 'State_Indiana', 'State_Iowa', 'State_Kansas',\n",
            "       'State_Kentucky', 'State_Louisiana', 'State_Maine', 'State_Maryland',\n",
            "       'State_Massachusetts', 'State_Michigan', 'State_Minnesota',\n",
            "       'State_Mississippi', 'State_Missouri', 'State_Montana',\n",
            "       'State_Nebraska', 'State_Nevada', 'State_New Hampshire',\n",
            "       'State_New Jersey', 'State_New Mexico', 'State_New York',\n",
            "       'State_North Carolina', 'State_North Dakota', 'State_Ohio',\n",
            "       'State_Oklahoma', 'State_Oregon', 'State_Pennsylvania',\n",
            "       'State_Puerto Rico', 'State_Rhode Island', 'State_South Carolina',\n",
            "       'State_South Dakota', 'State_Tennessee', 'State_Texas', 'State_Utah',\n",
            "       'State_Vermont', 'State_Virgin Islands', 'State_Virginia',\n",
            "       'State_Washington', 'State_West Virginia', 'State_Wisconsin',\n",
            "       'State_Wyoming', 'GeneralHealth_Excellent', 'GeneralHealth_Fair',\n",
            "       'GeneralHealth_Good', 'GeneralHealth_Poor', 'GeneralHealth_Very good',\n",
            "       'LastCheckupTime_5 or more years ago',\n",
            "       'LastCheckupTime_Within past 2 years (1 year but less than 2 years ago)',\n",
            "       'LastCheckupTime_Within past 5 years (2 years but less than 5 years ago)',\n",
            "       'LastCheckupTime_Within past year (anytime less than 12 months ago)',\n",
            "       'HadDiabetes_No', 'HadDiabetes_No, pre-diabetes or borderline diabetes',\n",
            "       'HadDiabetes_Yes',\n",
            "       'HadDiabetes_Yes, but only during pregnancy (female)',\n",
            "       'SmokerStatus_Current smoker - now smokes every day',\n",
            "       'SmokerStatus_Current smoker - now smokes some days',\n",
            "       'SmokerStatus_Former smoker', 'SmokerStatus_Never smoked',\n",
            "       'ECigaretteUsage_Never used e-cigarettes in my entire life',\n",
            "       'ECigaretteUsage_Not at all (right now)',\n",
            "       'ECigaretteUsage_Use them every day',\n",
            "       'ECigaretteUsage_Use them some days',\n",
            "       'RaceEthnicityCategory_Black only, Non-Hispanic',\n",
            "       'RaceEthnicityCategory_Hispanic',\n",
            "       'RaceEthnicityCategory_Multiracial, Non-Hispanic',\n",
            "       'RaceEthnicityCategory_Other race only, Non-Hispanic',\n",
            "       'RaceEthnicityCategory_White only, Non-Hispanic',\n",
            "       'AgeCategory_Age 18 to 24', 'AgeCategory_Age 25 to 29',\n",
            "       'AgeCategory_Age 30 to 34', 'AgeCategory_Age 35 to 39',\n",
            "       'AgeCategory_Age 40 to 44', 'AgeCategory_Age 45 to 49',\n",
            "       'AgeCategory_Age 50 to 54', 'AgeCategory_Age 55 to 59',\n",
            "       'AgeCategory_Age 60 to 64', 'AgeCategory_Age 65 to 69',\n",
            "       'AgeCategory_Age 70 to 74', 'AgeCategory_Age 75 to 79',\n",
            "       'AgeCategory_Age 80 or older', 'CovidPos_No',\n",
            "       'CovidPos_Tested positive using home test without a health professional',\n",
            "       'CovidPos_Yes'],\n",
            "      dtype='object')\n"
          ]
        },
        {
          "data": {
            "text/html": [
              "<div>\n",
              "<style scoped>\n",
              "    .dataframe tbody tr th:only-of-type {\n",
              "        vertical-align: middle;\n",
              "    }\n",
              "\n",
              "    .dataframe tbody tr th {\n",
              "        vertical-align: top;\n",
              "    }\n",
              "\n",
              "    .dataframe thead th {\n",
              "        text-align: right;\n",
              "    }\n",
              "</style>\n",
              "<table border=\"1\" class=\"dataframe\">\n",
              "  <thead>\n",
              "    <tr style=\"text-align: right;\">\n",
              "      <th></th>\n",
              "      <th>State_Alabama</th>\n",
              "      <th>State_Alaska</th>\n",
              "      <th>State_Arizona</th>\n",
              "      <th>State_Arkansas</th>\n",
              "      <th>State_California</th>\n",
              "      <th>State_Colorado</th>\n",
              "      <th>State_Connecticut</th>\n",
              "      <th>State_Delaware</th>\n",
              "      <th>State_District of Columbia</th>\n",
              "      <th>State_Florida</th>\n",
              "      <th>...</th>\n",
              "      <th>AgeCategory_Age 50 to 54</th>\n",
              "      <th>AgeCategory_Age 55 to 59</th>\n",
              "      <th>AgeCategory_Age 60 to 64</th>\n",
              "      <th>AgeCategory_Age 65 to 69</th>\n",
              "      <th>AgeCategory_Age 70 to 74</th>\n",
              "      <th>AgeCategory_Age 75 to 79</th>\n",
              "      <th>AgeCategory_Age 80 or older</th>\n",
              "      <th>CovidPos_No</th>\n",
              "      <th>CovidPos_Tested positive using home test without a health professional</th>\n",
              "      <th>CovidPos_Yes</th>\n",
              "    </tr>\n",
              "  </thead>\n",
              "  <tbody>\n",
              "    <tr>\n",
              "      <th>0</th>\n",
              "      <td>True</td>\n",
              "      <td>False</td>\n",
              "      <td>False</td>\n",
              "      <td>False</td>\n",
              "      <td>False</td>\n",
              "      <td>False</td>\n",
              "      <td>False</td>\n",
              "      <td>False</td>\n",
              "      <td>False</td>\n",
              "      <td>False</td>\n",
              "      <td>...</td>\n",
              "      <td>False</td>\n",
              "      <td>False</td>\n",
              "      <td>False</td>\n",
              "      <td>False</td>\n",
              "      <td>False</td>\n",
              "      <td>False</td>\n",
              "      <td>True</td>\n",
              "      <td>True</td>\n",
              "      <td>False</td>\n",
              "      <td>False</td>\n",
              "    </tr>\n",
              "    <tr>\n",
              "      <th>1</th>\n",
              "      <td>True</td>\n",
              "      <td>False</td>\n",
              "      <td>False</td>\n",
              "      <td>False</td>\n",
              "      <td>False</td>\n",
              "      <td>False</td>\n",
              "      <td>False</td>\n",
              "      <td>False</td>\n",
              "      <td>False</td>\n",
              "      <td>False</td>\n",
              "      <td>...</td>\n",
              "      <td>False</td>\n",
              "      <td>False</td>\n",
              "      <td>False</td>\n",
              "      <td>False</td>\n",
              "      <td>False</td>\n",
              "      <td>False</td>\n",
              "      <td>True</td>\n",
              "      <td>True</td>\n",
              "      <td>False</td>\n",
              "      <td>False</td>\n",
              "    </tr>\n",
              "    <tr>\n",
              "      <th>2</th>\n",
              "      <td>True</td>\n",
              "      <td>False</td>\n",
              "      <td>False</td>\n",
              "      <td>False</td>\n",
              "      <td>False</td>\n",
              "      <td>False</td>\n",
              "      <td>False</td>\n",
              "      <td>False</td>\n",
              "      <td>False</td>\n",
              "      <td>False</td>\n",
              "      <td>...</td>\n",
              "      <td>False</td>\n",
              "      <td>True</td>\n",
              "      <td>False</td>\n",
              "      <td>False</td>\n",
              "      <td>False</td>\n",
              "      <td>False</td>\n",
              "      <td>False</td>\n",
              "      <td>False</td>\n",
              "      <td>False</td>\n",
              "      <td>True</td>\n",
              "    </tr>\n",
              "    <tr>\n",
              "      <th>4</th>\n",
              "      <td>True</td>\n",
              "      <td>False</td>\n",
              "      <td>False</td>\n",
              "      <td>False</td>\n",
              "      <td>False</td>\n",
              "      <td>False</td>\n",
              "      <td>False</td>\n",
              "      <td>False</td>\n",
              "      <td>False</td>\n",
              "      <td>False</td>\n",
              "      <td>...</td>\n",
              "      <td>False</td>\n",
              "      <td>False</td>\n",
              "      <td>False</td>\n",
              "      <td>False</td>\n",
              "      <td>False</td>\n",
              "      <td>False</td>\n",
              "      <td>False</td>\n",
              "      <td>True</td>\n",
              "      <td>False</td>\n",
              "      <td>False</td>\n",
              "    </tr>\n",
              "    <tr>\n",
              "      <th>5</th>\n",
              "      <td>True</td>\n",
              "      <td>False</td>\n",
              "      <td>False</td>\n",
              "      <td>False</td>\n",
              "      <td>False</td>\n",
              "      <td>False</td>\n",
              "      <td>False</td>\n",
              "      <td>False</td>\n",
              "      <td>False</td>\n",
              "      <td>False</td>\n",
              "      <td>...</td>\n",
              "      <td>False</td>\n",
              "      <td>False</td>\n",
              "      <td>False</td>\n",
              "      <td>False</td>\n",
              "      <td>False</td>\n",
              "      <td>False</td>\n",
              "      <td>True</td>\n",
              "      <td>True</td>\n",
              "      <td>False</td>\n",
              "      <td>False</td>\n",
              "    </tr>\n",
              "    <tr>\n",
              "      <th>...</th>\n",
              "      <td>...</td>\n",
              "      <td>...</td>\n",
              "      <td>...</td>\n",
              "      <td>...</td>\n",
              "      <td>...</td>\n",
              "      <td>...</td>\n",
              "      <td>...</td>\n",
              "      <td>...</td>\n",
              "      <td>...</td>\n",
              "      <td>...</td>\n",
              "      <td>...</td>\n",
              "      <td>...</td>\n",
              "      <td>...</td>\n",
              "      <td>...</td>\n",
              "      <td>...</td>\n",
              "      <td>...</td>\n",
              "      <td>...</td>\n",
              "      <td>...</td>\n",
              "      <td>...</td>\n",
              "      <td>...</td>\n",
              "      <td>...</td>\n",
              "    </tr>\n",
              "    <tr>\n",
              "      <th>445126</th>\n",
              "      <td>False</td>\n",
              "      <td>False</td>\n",
              "      <td>False</td>\n",
              "      <td>False</td>\n",
              "      <td>False</td>\n",
              "      <td>False</td>\n",
              "      <td>False</td>\n",
              "      <td>False</td>\n",
              "      <td>False</td>\n",
              "      <td>False</td>\n",
              "      <td>...</td>\n",
              "      <td>False</td>\n",
              "      <td>False</td>\n",
              "      <td>False</td>\n",
              "      <td>False</td>\n",
              "      <td>False</td>\n",
              "      <td>False</td>\n",
              "      <td>False</td>\n",
              "      <td>False</td>\n",
              "      <td>False</td>\n",
              "      <td>True</td>\n",
              "    </tr>\n",
              "    <tr>\n",
              "      <th>445127</th>\n",
              "      <td>False</td>\n",
              "      <td>False</td>\n",
              "      <td>False</td>\n",
              "      <td>False</td>\n",
              "      <td>False</td>\n",
              "      <td>False</td>\n",
              "      <td>False</td>\n",
              "      <td>False</td>\n",
              "      <td>False</td>\n",
              "      <td>False</td>\n",
              "      <td>...</td>\n",
              "      <td>False</td>\n",
              "      <td>False</td>\n",
              "      <td>False</td>\n",
              "      <td>False</td>\n",
              "      <td>False</td>\n",
              "      <td>False</td>\n",
              "      <td>False</td>\n",
              "      <td>False</td>\n",
              "      <td>False</td>\n",
              "      <td>True</td>\n",
              "    </tr>\n",
              "    <tr>\n",
              "      <th>445128</th>\n",
              "      <td>False</td>\n",
              "      <td>False</td>\n",
              "      <td>False</td>\n",
              "      <td>False</td>\n",
              "      <td>False</td>\n",
              "      <td>False</td>\n",
              "      <td>False</td>\n",
              "      <td>False</td>\n",
              "      <td>False</td>\n",
              "      <td>False</td>\n",
              "      <td>...</td>\n",
              "      <td>True</td>\n",
              "      <td>False</td>\n",
              "      <td>False</td>\n",
              "      <td>False</td>\n",
              "      <td>False</td>\n",
              "      <td>False</td>\n",
              "      <td>False</td>\n",
              "      <td>True</td>\n",
              "      <td>False</td>\n",
              "      <td>False</td>\n",
              "    </tr>\n",
              "    <tr>\n",
              "      <th>445130</th>\n",
              "      <td>False</td>\n",
              "      <td>False</td>\n",
              "      <td>False</td>\n",
              "      <td>False</td>\n",
              "      <td>False</td>\n",
              "      <td>False</td>\n",
              "      <td>False</td>\n",
              "      <td>False</td>\n",
              "      <td>False</td>\n",
              "      <td>False</td>\n",
              "      <td>...</td>\n",
              "      <td>False</td>\n",
              "      <td>False</td>\n",
              "      <td>False</td>\n",
              "      <td>False</td>\n",
              "      <td>True</td>\n",
              "      <td>False</td>\n",
              "      <td>False</td>\n",
              "      <td>False</td>\n",
              "      <td>False</td>\n",
              "      <td>True</td>\n",
              "    </tr>\n",
              "    <tr>\n",
              "      <th>445131</th>\n",
              "      <td>False</td>\n",
              "      <td>False</td>\n",
              "      <td>False</td>\n",
              "      <td>False</td>\n",
              "      <td>False</td>\n",
              "      <td>False</td>\n",
              "      <td>False</td>\n",
              "      <td>False</td>\n",
              "      <td>False</td>\n",
              "      <td>False</td>\n",
              "      <td>...</td>\n",
              "      <td>False</td>\n",
              "      <td>False</td>\n",
              "      <td>False</td>\n",
              "      <td>False</td>\n",
              "      <td>False</td>\n",
              "      <td>False</td>\n",
              "      <td>False</td>\n",
              "      <td>True</td>\n",
              "      <td>False</td>\n",
              "      <td>False</td>\n",
              "    </tr>\n",
              "  </tbody>\n",
              "</table>\n",
              "<p>376000 rows × 96 columns</p>\n",
              "</div>"
            ],
            "text/plain": [
              "        State_Alabama  State_Alaska  State_Arizona  State_Arkansas  \\\n",
              "0                True         False          False           False   \n",
              "1                True         False          False           False   \n",
              "2                True         False          False           False   \n",
              "4                True         False          False           False   \n",
              "5                True         False          False           False   \n",
              "...               ...           ...            ...             ...   \n",
              "445126          False         False          False           False   \n",
              "445127          False         False          False           False   \n",
              "445128          False         False          False           False   \n",
              "445130          False         False          False           False   \n",
              "445131          False         False          False           False   \n",
              "\n",
              "        State_California  State_Colorado  State_Connecticut  State_Delaware  \\\n",
              "0                  False           False              False           False   \n",
              "1                  False           False              False           False   \n",
              "2                  False           False              False           False   \n",
              "4                  False           False              False           False   \n",
              "5                  False           False              False           False   \n",
              "...                  ...             ...                ...             ...   \n",
              "445126             False           False              False           False   \n",
              "445127             False           False              False           False   \n",
              "445128             False           False              False           False   \n",
              "445130             False           False              False           False   \n",
              "445131             False           False              False           False   \n",
              "\n",
              "        State_District of Columbia  State_Florida  ...  \\\n",
              "0                            False          False  ...   \n",
              "1                            False          False  ...   \n",
              "2                            False          False  ...   \n",
              "4                            False          False  ...   \n",
              "5                            False          False  ...   \n",
              "...                            ...            ...  ...   \n",
              "445126                       False          False  ...   \n",
              "445127                       False          False  ...   \n",
              "445128                       False          False  ...   \n",
              "445130                       False          False  ...   \n",
              "445131                       False          False  ...   \n",
              "\n",
              "        AgeCategory_Age 50 to 54  AgeCategory_Age 55 to 59  \\\n",
              "0                          False                     False   \n",
              "1                          False                     False   \n",
              "2                          False                      True   \n",
              "4                          False                     False   \n",
              "5                          False                     False   \n",
              "...                          ...                       ...   \n",
              "445126                     False                     False   \n",
              "445127                     False                     False   \n",
              "445128                      True                     False   \n",
              "445130                     False                     False   \n",
              "445131                     False                     False   \n",
              "\n",
              "        AgeCategory_Age 60 to 64  AgeCategory_Age 65 to 69  \\\n",
              "0                          False                     False   \n",
              "1                          False                     False   \n",
              "2                          False                     False   \n",
              "4                          False                     False   \n",
              "5                          False                     False   \n",
              "...                          ...                       ...   \n",
              "445126                     False                     False   \n",
              "445127                     False                     False   \n",
              "445128                     False                     False   \n",
              "445130                     False                     False   \n",
              "445131                     False                     False   \n",
              "\n",
              "        AgeCategory_Age 70 to 74  AgeCategory_Age 75 to 79  \\\n",
              "0                          False                     False   \n",
              "1                          False                     False   \n",
              "2                          False                     False   \n",
              "4                          False                     False   \n",
              "5                          False                     False   \n",
              "...                          ...                       ...   \n",
              "445126                     False                     False   \n",
              "445127                     False                     False   \n",
              "445128                     False                     False   \n",
              "445130                      True                     False   \n",
              "445131                     False                     False   \n",
              "\n",
              "        AgeCategory_Age 80 or older  CovidPos_No  \\\n",
              "0                              True         True   \n",
              "1                              True         True   \n",
              "2                             False        False   \n",
              "4                             False         True   \n",
              "5                              True         True   \n",
              "...                             ...          ...   \n",
              "445126                        False        False   \n",
              "445127                        False        False   \n",
              "445128                        False         True   \n",
              "445130                        False        False   \n",
              "445131                        False         True   \n",
              "\n",
              "        CovidPos_Tested positive using home test without a health professional  \\\n",
              "0                                                   False                        \n",
              "1                                                   False                        \n",
              "2                                                   False                        \n",
              "4                                                   False                        \n",
              "5                                                   False                        \n",
              "...                                                   ...                        \n",
              "445126                                              False                        \n",
              "445127                                              False                        \n",
              "445128                                              False                        \n",
              "445130                                              False                        \n",
              "445131                                              False                        \n",
              "\n",
              "        CovidPos_Yes  \n",
              "0              False  \n",
              "1              False  \n",
              "2               True  \n",
              "4              False  \n",
              "5              False  \n",
              "...              ...  \n",
              "445126          True  \n",
              "445127          True  \n",
              "445128         False  \n",
              "445130          True  \n",
              "445131         False  \n",
              "\n",
              "[376000 rows x 96 columns]"
            ]
          },
          "execution_count": 58,
          "metadata": {},
          "output_type": "execute_result"
        }
      ],
      "source": [
        "data_nonbinary = pd.get_dummies(data[nonbinary_columns])\n",
        "print(data_nonbinary.columns)\n",
        "data_nonbinary"
      ]
    },
    {
      "cell_type": "code",
      "execution_count": 59,
      "metadata": {
        "colab": {
          "base_uri": "https://localhost:8080/",
          "height": 300
        },
        "id": "PMN9agv5zEoH",
        "outputId": "2db558dc-ae7e-4801-d138-e1765ad55f60"
      },
      "outputs": [
        {
          "data": {
            "text/html": [
              "<div>\n",
              "<style scoped>\n",
              "    .dataframe tbody tr th:only-of-type {\n",
              "        vertical-align: middle;\n",
              "    }\n",
              "\n",
              "    .dataframe tbody tr th {\n",
              "        vertical-align: top;\n",
              "    }\n",
              "\n",
              "    .dataframe thead th {\n",
              "        text-align: right;\n",
              "    }\n",
              "</style>\n",
              "<table border=\"1\" class=\"dataframe\">\n",
              "  <thead>\n",
              "    <tr style=\"text-align: right;\">\n",
              "      <th></th>\n",
              "      <th>PhysicalHealthDays</th>\n",
              "      <th>MentalHealthDays</th>\n",
              "      <th>SleepHours</th>\n",
              "      <th>HeightInMeters</th>\n",
              "      <th>WeightInKilograms</th>\n",
              "      <th>BMI</th>\n",
              "    </tr>\n",
              "  </thead>\n",
              "  <tbody>\n",
              "    <tr>\n",
              "      <th>count</th>\n",
              "      <td>376000.000000</td>\n",
              "      <td>376000.000000</td>\n",
              "      <td>376000.000000</td>\n",
              "      <td>376000.000000</td>\n",
              "      <td>376000.000000</td>\n",
              "      <td>376000.000000</td>\n",
              "    </tr>\n",
              "    <tr>\n",
              "      <th>mean</th>\n",
              "      <td>4.247553</td>\n",
              "      <td>4.318896</td>\n",
              "      <td>7.026899</td>\n",
              "      <td>1.702550</td>\n",
              "      <td>83.117375</td>\n",
              "      <td>28.516036</td>\n",
              "    </tr>\n",
              "    <tr>\n",
              "      <th>std</th>\n",
              "      <td>8.586380</td>\n",
              "      <td>8.296829</td>\n",
              "      <td>1.464856</td>\n",
              "      <td>0.105962</td>\n",
              "      <td>20.947913</td>\n",
              "      <td>6.368334</td>\n",
              "    </tr>\n",
              "    <tr>\n",
              "      <th>min</th>\n",
              "      <td>0.000000</td>\n",
              "      <td>0.000000</td>\n",
              "      <td>1.000000</td>\n",
              "      <td>0.910000</td>\n",
              "      <td>22.680000</td>\n",
              "      <td>12.020000</td>\n",
              "    </tr>\n",
              "    <tr>\n",
              "      <th>25%</th>\n",
              "      <td>0.000000</td>\n",
              "      <td>0.000000</td>\n",
              "      <td>6.000000</td>\n",
              "      <td>1.630000</td>\n",
              "      <td>68.040000</td>\n",
              "      <td>24.370000</td>\n",
              "    </tr>\n",
              "    <tr>\n",
              "      <th>50%</th>\n",
              "      <td>0.000000</td>\n",
              "      <td>0.000000</td>\n",
              "      <td>7.000000</td>\n",
              "      <td>1.700000</td>\n",
              "      <td>81.190000</td>\n",
              "      <td>27.440000</td>\n",
              "    </tr>\n",
              "    <tr>\n",
              "      <th>75%</th>\n",
              "      <td>3.000000</td>\n",
              "      <td>4.000000</td>\n",
              "      <td>8.000000</td>\n",
              "      <td>1.780000</td>\n",
              "      <td>92.990000</td>\n",
              "      <td>31.380000</td>\n",
              "    </tr>\n",
              "    <tr>\n",
              "      <th>max</th>\n",
              "      <td>30.000000</td>\n",
              "      <td>30.000000</td>\n",
              "      <td>24.000000</td>\n",
              "      <td>2.410000</td>\n",
              "      <td>292.570000</td>\n",
              "      <td>99.640000</td>\n",
              "    </tr>\n",
              "  </tbody>\n",
              "</table>\n",
              "</div>"
            ],
            "text/plain": [
              "       PhysicalHealthDays  MentalHealthDays     SleepHours  HeightInMeters  \\\n",
              "count       376000.000000     376000.000000  376000.000000   376000.000000   \n",
              "mean             4.247553          4.318896       7.026899        1.702550   \n",
              "std              8.586380          8.296829       1.464856        0.105962   \n",
              "min              0.000000          0.000000       1.000000        0.910000   \n",
              "25%              0.000000          0.000000       6.000000        1.630000   \n",
              "50%              0.000000          0.000000       7.000000        1.700000   \n",
              "75%              3.000000          4.000000       8.000000        1.780000   \n",
              "max             30.000000         30.000000      24.000000        2.410000   \n",
              "\n",
              "       WeightInKilograms            BMI  \n",
              "count      376000.000000  376000.000000  \n",
              "mean           83.117375      28.516036  \n",
              "std            20.947913       6.368334  \n",
              "min            22.680000      12.020000  \n",
              "25%            68.040000      24.370000  \n",
              "50%            81.190000      27.440000  \n",
              "75%            92.990000      31.380000  \n",
              "max           292.570000      99.640000  "
            ]
          },
          "execution_count": 59,
          "metadata": {},
          "output_type": "execute_result"
        }
      ],
      "source": [
        "data_numerical = data[numerical_columns]\n",
        "data_numerical.describe()"
      ]
    },
    {
      "cell_type": "markdown",
      "metadata": {
        "id": "IWWaSQIaP_YR"
      },
      "source": [
        "## Нормализация колличественных признаков\n",
        "Поскольку многие алгоритмы машинного обучения чувствительны к масштабированию данных, колличественные признаки полезно нормализовать (если один признак принимает значения от 0 до 1, а другой от 0 до 1000, то у последнего будет преимщество, поэтому нормализуем данные).\n",
        "\n",
        "Стандартизация всех признаков:"
      ]
    },
    {
      "cell_type": "code",
      "execution_count": 60,
      "metadata": {
        "colab": {
          "base_uri": "https://localhost:8080/",
          "height": 300
        },
        "id": "sg_vilmqzI_y",
        "outputId": "d8328182-f19a-4979-a59d-084d8031aa8e"
      },
      "outputs": [
        {
          "data": {
            "text/html": [
              "<div>\n",
              "<style scoped>\n",
              "    .dataframe tbody tr th:only-of-type {\n",
              "        vertical-align: middle;\n",
              "    }\n",
              "\n",
              "    .dataframe tbody tr th {\n",
              "        vertical-align: top;\n",
              "    }\n",
              "\n",
              "    .dataframe thead th {\n",
              "        text-align: right;\n",
              "    }\n",
              "</style>\n",
              "<table border=\"1\" class=\"dataframe\">\n",
              "  <thead>\n",
              "    <tr style=\"text-align: right;\">\n",
              "      <th></th>\n",
              "      <th>PhysicalHealthDays</th>\n",
              "      <th>MentalHealthDays</th>\n",
              "      <th>SleepHours</th>\n",
              "      <th>HeightInMeters</th>\n",
              "      <th>WeightInKilograms</th>\n",
              "      <th>BMI</th>\n",
              "    </tr>\n",
              "  </thead>\n",
              "  <tbody>\n",
              "    <tr>\n",
              "      <th>count</th>\n",
              "      <td>3.760000e+05</td>\n",
              "      <td>3.760000e+05</td>\n",
              "      <td>3.760000e+05</td>\n",
              "      <td>3.760000e+05</td>\n",
              "      <td>3.760000e+05</td>\n",
              "      <td>3.760000e+05</td>\n",
              "    </tr>\n",
              "    <tr>\n",
              "      <th>mean</th>\n",
              "      <td>-8.435805e-17</td>\n",
              "      <td>-2.358397e-17</td>\n",
              "      <td>1.623666e-16</td>\n",
              "      <td>-3.267892e-15</td>\n",
              "      <td>-2.310020e-16</td>\n",
              "      <td>1.617921e-15</td>\n",
              "    </tr>\n",
              "    <tr>\n",
              "      <th>std</th>\n",
              "      <td>1.000000e+00</td>\n",
              "      <td>1.000000e+00</td>\n",
              "      <td>1.000000e+00</td>\n",
              "      <td>1.000000e+00</td>\n",
              "      <td>1.000000e+00</td>\n",
              "      <td>1.000000e+00</td>\n",
              "    </tr>\n",
              "    <tr>\n",
              "      <th>min</th>\n",
              "      <td>-4.946850e-01</td>\n",
              "      <td>-5.205479e-01</td>\n",
              "      <td>-4.114328e+00</td>\n",
              "      <td>-7.479562e+00</td>\n",
              "      <td>-2.885126e+00</td>\n",
              "      <td>-2.590322e+00</td>\n",
              "    </tr>\n",
              "    <tr>\n",
              "      <th>25%</th>\n",
              "      <td>-4.946850e-01</td>\n",
              "      <td>-5.205479e-01</td>\n",
              "      <td>-7.010238e-01</td>\n",
              "      <td>-6.846809e-01</td>\n",
              "      <td>-7.197555e-01</td>\n",
              "      <td>-6.510393e-01</td>\n",
              "    </tr>\n",
              "    <tr>\n",
              "      <th>50%</th>\n",
              "      <td>-4.946850e-01</td>\n",
              "      <td>-5.205479e-01</td>\n",
              "      <td>-1.836285e-02</td>\n",
              "      <td>-2.406746e-02</td>\n",
              "      <td>-9.200796e-02</td>\n",
              "      <td>-1.689666e-01</td>\n",
              "    </tr>\n",
              "    <tr>\n",
              "      <th>75%</th>\n",
              "      <td>-1.452944e-01</td>\n",
              "      <td>-3.843592e-02</td>\n",
              "      <td>6.642981e-01</td>\n",
              "      <td>7.309193e-01</td>\n",
              "      <td>4.712940e-01</td>\n",
              "      <td>4.497195e-01</td>\n",
              "    </tr>\n",
              "    <tr>\n",
              "      <th>max</th>\n",
              "      <td>2.999220e+00</td>\n",
              "      <td>3.095292e+00</td>\n",
              "      <td>1.158687e+01</td>\n",
              "      <td>6.676440e+00</td>\n",
              "      <td>9.998735e+00</td>\n",
              "      <td>1.116838e+01</td>\n",
              "    </tr>\n",
              "  </tbody>\n",
              "</table>\n",
              "</div>"
            ],
            "text/plain": [
              "       PhysicalHealthDays  MentalHealthDays    SleepHours  HeightInMeters  \\\n",
              "count        3.760000e+05      3.760000e+05  3.760000e+05    3.760000e+05   \n",
              "mean        -8.435805e-17     -2.358397e-17  1.623666e-16   -3.267892e-15   \n",
              "std          1.000000e+00      1.000000e+00  1.000000e+00    1.000000e+00   \n",
              "min         -4.946850e-01     -5.205479e-01 -4.114328e+00   -7.479562e+00   \n",
              "25%         -4.946850e-01     -5.205479e-01 -7.010238e-01   -6.846809e-01   \n",
              "50%         -4.946850e-01     -5.205479e-01 -1.836285e-02   -2.406746e-02   \n",
              "75%         -1.452944e-01     -3.843592e-02  6.642981e-01    7.309193e-01   \n",
              "max          2.999220e+00      3.095292e+00  1.158687e+01    6.676440e+00   \n",
              "\n",
              "       WeightInKilograms           BMI  \n",
              "count       3.760000e+05  3.760000e+05  \n",
              "mean       -2.310020e-16  1.617921e-15  \n",
              "std         1.000000e+00  1.000000e+00  \n",
              "min        -2.885126e+00 -2.590322e+00  \n",
              "25%        -7.197555e-01 -6.510393e-01  \n",
              "50%        -9.200796e-02 -1.689666e-01  \n",
              "75%         4.712940e-01  4.497195e-01  \n",
              "max         9.998735e+00  1.116838e+01  "
            ]
          },
          "execution_count": 60,
          "metadata": {},
          "output_type": "execute_result"
        }
      ],
      "source": [
        "data_numerical = (data_numerical - data_numerical.mean(axis = 0))/data_numerical.std(axis = 0)\n",
        "data_numerical.describe()"
      ]
    },
    {
      "cell_type": "code",
      "execution_count": 61,
      "metadata": {
        "colab": {
          "base_uri": "https://localhost:8080/"
        },
        "id": "RIx5YouE0f2O",
        "outputId": "384f7c6b-7f1f-47e1-8def-cfa9cc82a8a2"
      },
      "outputs": [
        {
          "name": "stdout",
          "output_type": "stream",
          "text": [
            "(376000, 35)\n"
          ]
        }
      ],
      "source": [
        "final_data = pd.concat((data_numerical, data_nonbinary, binary_data), axis = 1)\n",
        "print(data.shape)"
      ]
    },
    {
      "cell_type": "code",
      "execution_count": 62,
      "metadata": {
        "colab": {
          "base_uri": "https://localhost:8080/",
          "height": 443
        },
        "id": "AwcXgVkY0h33",
        "outputId": "d92b373e-e159-4bc9-ec33-666349187c87"
      },
      "outputs": [
        {
          "data": {
            "text/html": [
              "<div>\n",
              "<style scoped>\n",
              "    .dataframe tbody tr th:only-of-type {\n",
              "        vertical-align: middle;\n",
              "    }\n",
              "\n",
              "    .dataframe tbody tr th {\n",
              "        vertical-align: top;\n",
              "    }\n",
              "\n",
              "    .dataframe thead th {\n",
              "        text-align: right;\n",
              "    }\n",
              "</style>\n",
              "<table border=\"1\" class=\"dataframe\">\n",
              "  <thead>\n",
              "    <tr style=\"text-align: right;\">\n",
              "      <th></th>\n",
              "      <th>PhysicalHealthDays</th>\n",
              "      <th>MentalHealthDays</th>\n",
              "      <th>SleepHours</th>\n",
              "      <th>HeightInMeters</th>\n",
              "      <th>WeightInKilograms</th>\n",
              "      <th>BMI</th>\n",
              "      <th>State_Alabama</th>\n",
              "      <th>State_Alaska</th>\n",
              "      <th>State_Arizona</th>\n",
              "      <th>State_Arkansas</th>\n",
              "      <th>...</th>\n",
              "      <th>HadArthritis</th>\n",
              "      <th>DeafOrHardOfHearing</th>\n",
              "      <th>BlindOrVisionDifficulty</th>\n",
              "      <th>DifficultyConcentrating</th>\n",
              "      <th>DifficultyWalking</th>\n",
              "      <th>DifficultyDressingBathing</th>\n",
              "      <th>DifficultyErrands</th>\n",
              "      <th>ChestScan</th>\n",
              "      <th>AlcoholDrinkers</th>\n",
              "      <th>HighRiskLastYear</th>\n",
              "    </tr>\n",
              "  </thead>\n",
              "  <tbody>\n",
              "    <tr>\n",
              "      <th>0</th>\n",
              "      <td>-0.494685</td>\n",
              "      <td>-0.520548</td>\n",
              "      <td>0.664298</td>\n",
              "      <td>-0.024067</td>\n",
              "      <td>-0.092008</td>\n",
              "      <td>-0.168967</td>\n",
              "      <td>True</td>\n",
              "      <td>False</td>\n",
              "      <td>False</td>\n",
              "      <td>False</td>\n",
              "      <td>...</td>\n",
              "      <td>0</td>\n",
              "      <td>0</td>\n",
              "      <td>0</td>\n",
              "      <td>0</td>\n",
              "      <td>0</td>\n",
              "      <td>0</td>\n",
              "      <td>0</td>\n",
              "      <td>0</td>\n",
              "      <td>0</td>\n",
              "      <td>0</td>\n",
              "    </tr>\n",
              "    <tr>\n",
              "      <th>1</th>\n",
              "      <td>-0.494685</td>\n",
              "      <td>-0.520548</td>\n",
              "      <td>-0.701024</td>\n",
              "      <td>-0.967801</td>\n",
              "      <td>-0.719755</td>\n",
              "      <td>-0.305580</td>\n",
              "      <td>True</td>\n",
              "      <td>False</td>\n",
              "      <td>False</td>\n",
              "      <td>False</td>\n",
              "      <td>...</td>\n",
              "      <td>0</td>\n",
              "      <td>0</td>\n",
              "      <td>0</td>\n",
              "      <td>0</td>\n",
              "      <td>0</td>\n",
              "      <td>0</td>\n",
              "      <td>0</td>\n",
              "      <td>0</td>\n",
              "      <td>0</td>\n",
              "      <td>0</td>\n",
              "    </tr>\n",
              "    <tr>\n",
              "      <th>2</th>\n",
              "      <td>-0.261758</td>\n",
              "      <td>-0.158964</td>\n",
              "      <td>-1.383685</td>\n",
              "      <td>-1.250921</td>\n",
              "      <td>-0.936483</td>\n",
              "      <td>-0.456326</td>\n",
              "      <td>True</td>\n",
              "      <td>False</td>\n",
              "      <td>False</td>\n",
              "      <td>False</td>\n",
              "      <td>...</td>\n",
              "      <td>0</td>\n",
              "      <td>0</td>\n",
              "      <td>0</td>\n",
              "      <td>0</td>\n",
              "      <td>0</td>\n",
              "      <td>0</td>\n",
              "      <td>0</td>\n",
              "      <td>0</td>\n",
              "      <td>0</td>\n",
              "      <td>0</td>\n",
              "    </tr>\n",
              "    <tr>\n",
              "      <th>4</th>\n",
              "      <td>-0.261758</td>\n",
              "      <td>-0.520548</td>\n",
              "      <td>1.346959</td>\n",
              "      <td>-1.250921</td>\n",
              "      <td>-1.390944</td>\n",
              "      <td>-1.059309</td>\n",
              "      <td>True</td>\n",
              "      <td>False</td>\n",
              "      <td>False</td>\n",
              "      <td>False</td>\n",
              "      <td>...</td>\n",
              "      <td>0</td>\n",
              "      <td>0</td>\n",
              "      <td>0</td>\n",
              "      <td>0</td>\n",
              "      <td>0</td>\n",
              "      <td>0</td>\n",
              "      <td>0</td>\n",
              "      <td>1</td>\n",
              "      <td>1</td>\n",
              "      <td>0</td>\n",
              "    </tr>\n",
              "    <tr>\n",
              "      <th>5</th>\n",
              "      <td>-0.378221</td>\n",
              "      <td>-0.520548</td>\n",
              "      <td>-0.018363</td>\n",
              "      <td>0.919666</td>\n",
              "      <td>0.081279</td>\n",
              "      <td>-0.382523</td>\n",
              "      <td>True</td>\n",
              "      <td>False</td>\n",
              "      <td>False</td>\n",
              "      <td>False</td>\n",
              "      <td>...</td>\n",
              "      <td>0</td>\n",
              "      <td>0</td>\n",
              "      <td>0</td>\n",
              "      <td>0</td>\n",
              "      <td>0</td>\n",
              "      <td>0</td>\n",
              "      <td>0</td>\n",
              "      <td>0</td>\n",
              "      <td>0</td>\n",
              "      <td>0</td>\n",
              "    </tr>\n",
              "    <tr>\n",
              "      <th>...</th>\n",
              "      <td>...</td>\n",
              "      <td>...</td>\n",
              "      <td>...</td>\n",
              "      <td>...</td>\n",
              "      <td>...</td>\n",
              "      <td>...</td>\n",
              "      <td>...</td>\n",
              "      <td>...</td>\n",
              "      <td>...</td>\n",
              "      <td>...</td>\n",
              "      <td>...</td>\n",
              "      <td>...</td>\n",
              "      <td>...</td>\n",
              "      <td>...</td>\n",
              "      <td>...</td>\n",
              "      <td>...</td>\n",
              "      <td>...</td>\n",
              "      <td>...</td>\n",
              "      <td>...</td>\n",
              "      <td>...</td>\n",
              "      <td>...</td>\n",
              "    </tr>\n",
              "    <tr>\n",
              "      <th>445126</th>\n",
              "      <td>-0.494685</td>\n",
              "      <td>-0.520548</td>\n",
              "      <td>0.664298</td>\n",
              "      <td>1.202786</td>\n",
              "      <td>1.012637</td>\n",
              "      <td>0.419884</td>\n",
              "      <td>False</td>\n",
              "      <td>False</td>\n",
              "      <td>False</td>\n",
              "      <td>False</td>\n",
              "      <td>...</td>\n",
              "      <td>0</td>\n",
              "      <td>0</td>\n",
              "      <td>0</td>\n",
              "      <td>0</td>\n",
              "      <td>0</td>\n",
              "      <td>0</td>\n",
              "      <td>0</td>\n",
              "      <td>0</td>\n",
              "      <td>1</td>\n",
              "      <td>0</td>\n",
              "    </tr>\n",
              "    <tr>\n",
              "      <th>445127</th>\n",
              "      <td>-0.494685</td>\n",
              "      <td>-0.158964</td>\n",
              "      <td>-0.701024</td>\n",
              "      <td>-0.495934</td>\n",
              "      <td>-0.633351</td>\n",
              "      <td>-0.453185</td>\n",
              "      <td>False</td>\n",
              "      <td>False</td>\n",
              "      <td>False</td>\n",
              "      <td>False</td>\n",
              "      <td>...</td>\n",
              "      <td>0</td>\n",
              "      <td>0</td>\n",
              "      <td>0</td>\n",
              "      <td>0</td>\n",
              "      <td>0</td>\n",
              "      <td>0</td>\n",
              "      <td>0</td>\n",
              "      <td>1</td>\n",
              "      <td>1</td>\n",
              "      <td>0</td>\n",
              "    </tr>\n",
              "    <tr>\n",
              "      <th>445128</th>\n",
              "      <td>-0.261758</td>\n",
              "      <td>-0.279492</td>\n",
              "      <td>-0.018363</td>\n",
              "      <td>-0.024067</td>\n",
              "      <td>-0.005126</td>\n",
              "      <td>0.022606</td>\n",
              "      <td>False</td>\n",
              "      <td>False</td>\n",
              "      <td>False</td>\n",
              "      <td>False</td>\n",
              "      <td>...</td>\n",
              "      <td>0</td>\n",
              "      <td>0</td>\n",
              "      <td>0</td>\n",
              "      <td>0</td>\n",
              "      <td>0</td>\n",
              "      <td>0</td>\n",
              "      <td>0</td>\n",
              "      <td>0</td>\n",
              "      <td>0</td>\n",
              "      <td>0</td>\n",
              "    </tr>\n",
              "    <tr>\n",
              "      <th>445130</th>\n",
              "      <td>-0.494685</td>\n",
              "      <td>-0.520548</td>\n",
              "      <td>-1.383685</td>\n",
              "      <td>1.202786</td>\n",
              "      <td>1.228887</td>\n",
              "      <td>0.633441</td>\n",
              "      <td>False</td>\n",
              "      <td>False</td>\n",
              "      <td>False</td>\n",
              "      <td>False</td>\n",
              "      <td>...</td>\n",
              "      <td>0</td>\n",
              "      <td>0</td>\n",
              "      <td>0</td>\n",
              "      <td>0</td>\n",
              "      <td>0</td>\n",
              "      <td>0</td>\n",
              "      <td>0</td>\n",
              "      <td>1</td>\n",
              "      <td>0</td>\n",
              "      <td>0</td>\n",
              "    </tr>\n",
              "    <tr>\n",
              "      <th>445131</th>\n",
              "      <td>-0.494685</td>\n",
              "      <td>-0.400020</td>\n",
              "      <td>-1.383685</td>\n",
              "      <td>-0.212814</td>\n",
              "      <td>-0.936483</td>\n",
              "      <td>-0.928977</td>\n",
              "      <td>False</td>\n",
              "      <td>False</td>\n",
              "      <td>False</td>\n",
              "      <td>False</td>\n",
              "      <td>...</td>\n",
              "      <td>0</td>\n",
              "      <td>0</td>\n",
              "      <td>0</td>\n",
              "      <td>1</td>\n",
              "      <td>1</td>\n",
              "      <td>0</td>\n",
              "      <td>0</td>\n",
              "      <td>1</td>\n",
              "      <td>1</td>\n",
              "      <td>0</td>\n",
              "    </tr>\n",
              "  </tbody>\n",
              "</table>\n",
              "<p>376000 rows × 122 columns</p>\n",
              "</div>"
            ],
            "text/plain": [
              "        PhysicalHealthDays  MentalHealthDays  SleepHours  HeightInMeters  \\\n",
              "0                -0.494685         -0.520548    0.664298       -0.024067   \n",
              "1                -0.494685         -0.520548   -0.701024       -0.967801   \n",
              "2                -0.261758         -0.158964   -1.383685       -1.250921   \n",
              "4                -0.261758         -0.520548    1.346959       -1.250921   \n",
              "5                -0.378221         -0.520548   -0.018363        0.919666   \n",
              "...                    ...               ...         ...             ...   \n",
              "445126           -0.494685         -0.520548    0.664298        1.202786   \n",
              "445127           -0.494685         -0.158964   -0.701024       -0.495934   \n",
              "445128           -0.261758         -0.279492   -0.018363       -0.024067   \n",
              "445130           -0.494685         -0.520548   -1.383685        1.202786   \n",
              "445131           -0.494685         -0.400020   -1.383685       -0.212814   \n",
              "\n",
              "        WeightInKilograms       BMI  State_Alabama  State_Alaska  \\\n",
              "0               -0.092008 -0.168967           True         False   \n",
              "1               -0.719755 -0.305580           True         False   \n",
              "2               -0.936483 -0.456326           True         False   \n",
              "4               -1.390944 -1.059309           True         False   \n",
              "5                0.081279 -0.382523           True         False   \n",
              "...                   ...       ...            ...           ...   \n",
              "445126           1.012637  0.419884          False         False   \n",
              "445127          -0.633351 -0.453185          False         False   \n",
              "445128          -0.005126  0.022606          False         False   \n",
              "445130           1.228887  0.633441          False         False   \n",
              "445131          -0.936483 -0.928977          False         False   \n",
              "\n",
              "        State_Arizona  State_Arkansas  ...  HadArthritis  DeafOrHardOfHearing  \\\n",
              "0               False           False  ...             0                    0   \n",
              "1               False           False  ...             0                    0   \n",
              "2               False           False  ...             0                    0   \n",
              "4               False           False  ...             0                    0   \n",
              "5               False           False  ...             0                    0   \n",
              "...               ...             ...  ...           ...                  ...   \n",
              "445126          False           False  ...             0                    0   \n",
              "445127          False           False  ...             0                    0   \n",
              "445128          False           False  ...             0                    0   \n",
              "445130          False           False  ...             0                    0   \n",
              "445131          False           False  ...             0                    0   \n",
              "\n",
              "        BlindOrVisionDifficulty  DifficultyConcentrating  DifficultyWalking  \\\n",
              "0                             0                        0                  0   \n",
              "1                             0                        0                  0   \n",
              "2                             0                        0                  0   \n",
              "4                             0                        0                  0   \n",
              "5                             0                        0                  0   \n",
              "...                         ...                      ...                ...   \n",
              "445126                        0                        0                  0   \n",
              "445127                        0                        0                  0   \n",
              "445128                        0                        0                  0   \n",
              "445130                        0                        0                  0   \n",
              "445131                        0                        1                  1   \n",
              "\n",
              "        DifficultyDressingBathing  DifficultyErrands  ChestScan  \\\n",
              "0                               0                  0          0   \n",
              "1                               0                  0          0   \n",
              "2                               0                  0          0   \n",
              "4                               0                  0          1   \n",
              "5                               0                  0          0   \n",
              "...                           ...                ...        ...   \n",
              "445126                          0                  0          0   \n",
              "445127                          0                  0          1   \n",
              "445128                          0                  0          0   \n",
              "445130                          0                  0          1   \n",
              "445131                          0                  0          1   \n",
              "\n",
              "        AlcoholDrinkers  HighRiskLastYear  \n",
              "0                     0                 0  \n",
              "1                     0                 0  \n",
              "2                     0                 0  \n",
              "4                     1                 0  \n",
              "5                     0                 0  \n",
              "...                 ...               ...  \n",
              "445126                1                 0  \n",
              "445127                1                 0  \n",
              "445128                0                 0  \n",
              "445130                0                 0  \n",
              "445131                1                 0  \n",
              "\n",
              "[376000 rows x 122 columns]"
            ]
          },
          "execution_count": 62,
          "metadata": {},
          "output_type": "execute_result"
        }
      ],
      "source": [
        "final_data"
      ]
    },
    {
      "cell_type": "markdown",
      "metadata": {
        "id": "lNwKG5hFQO7i"
      },
      "source": [
        "## Разбиение данных на обучающую и тестовую выборки"
      ]
    },
    {
      "cell_type": "code",
      "execution_count": 63,
      "metadata": {
        "id": "mx4ei_ZoeYHk"
      },
      "outputs": [],
      "source": [
        "X = final_data.drop('HadHeartAttack', axis = 1)\n",
        "y = final_data['HadHeartAttack']"
      ]
    },
    {
      "cell_type": "code",
      "execution_count": 64,
      "metadata": {
        "colab": {
          "base_uri": "https://localhost:8080/"
        },
        "id": "jImTDzuxEfyf",
        "outputId": "3271748b-1cf2-4dc5-ab1f-fb6e7847fcb8"
      },
      "outputs": [
        {
          "data": {
            "text/plain": [
              "(376000, 122)"
            ]
          },
          "execution_count": 64,
          "metadata": {},
          "output_type": "execute_result"
        }
      ],
      "source": [
        "# Итоговые размеры данных\n",
        "final_data.shape"
      ]
    },
    {
      "cell_type": "markdown",
      "metadata": {
        "id": "DyTNMN24E0_q"
      },
      "source": [
        "Разобьем данные на обучающую и тестовую выборки в пропорции 3:1 (75% - обучающая выборка, 25% - тестовая):"
      ]
    },
    {
      "cell_type": "code",
      "execution_count": 65,
      "metadata": {
        "id": "AmtgSOwlE4RG"
      },
      "outputs": [],
      "source": [
        "from sklearn.model_selection import train_test_split\n",
        "X_train, X_test, y_train, y_test = train_test_split(X, y, test_size = 0.25, random_state = 42)"
      ]
    },
    {
      "cell_type": "markdown",
      "metadata": {
        "id": "yKM-QGXQQjWr"
      },
      "source": [
        "## Метод k ближайших соседей и оценка результатов"
      ]
    },
    {
      "cell_type": "code",
      "execution_count": 66,
      "metadata": {
        "id": "azxJiS5FeYBw"
      },
      "outputs": [],
      "source": [
        "from sklearn.neighbors import KNeighborsClassifier\n",
        "from sklearn.metrics import accuracy_score, mean_squared_error\n",
        "from sklearn.neighbors import KNeighborsClassifier"
      ]
    },
    {
      "cell_type": "markdown",
      "metadata": {
        "id": "kS8uZMS7FH6P"
      },
      "source": [
        "**Для 10 соседей:**"
      ]
    },
    {
      "cell_type": "code",
      "execution_count": 67,
      "metadata": {
        "id": "nDXhrBWxE-i_"
      },
      "outputs": [],
      "source": [
        "knn = KNeighborsClassifier(n_neighbors = 10)\n",
        "knn.fit(X_train, y_train)\n",
        "y_train_predict = knn.predict(X_train)\n",
        "y_test_predict = knn.predict(X_test)"
      ]
    },
    {
      "cell_type": "markdown",
      "metadata": {
        "id": "m2xFpIlgFbr5"
      },
      "source": [
        "Точность на обучающей выборке:"
      ]
    },
    {
      "cell_type": "code",
      "execution_count": 68,
      "metadata": {
        "colab": {
          "base_uri": "https://localhost:8080/"
        },
        "id": "Ux0QGK9pFcey",
        "outputId": "45299ca7-289e-450b-ec7a-c1cafb0d9757"
      },
      "outputs": [
        {
          "data": {
            "text/plain": [
              "0.9446560283687944"
            ]
          },
          "execution_count": 68,
          "metadata": {},
          "output_type": "execute_result"
        }
      ],
      "source": [
        "accuracy_score(y_train, y_train_predict)"
      ]
    },
    {
      "cell_type": "markdown",
      "metadata": {
        "id": "bpH2ZKxFFcvM"
      },
      "source": [
        "Точность на тренировочной выборке:"
      ]
    },
    {
      "cell_type": "code",
      "execution_count": 69,
      "metadata": {
        "colab": {
          "base_uri": "https://localhost:8080/"
        },
        "id": "p_dw8F0LFeh7",
        "outputId": "baf31d6c-5ba9-4bde-c7b2-cc05e892d18a"
      },
      "outputs": [
        {
          "data": {
            "text/plain": [
              "0.9439893617021277"
            ]
          },
          "execution_count": 69,
          "metadata": {},
          "output_type": "execute_result"
        }
      ],
      "source": [
        "accuracy_score(y_test, y_test_predict)"
      ]
    },
    {
      "cell_type": "markdown",
      "metadata": {
        "id": "pvVsAsOxFezr"
      },
      "source": [
        "Среднеквадратичная ошибка на обучающей выборке:"
      ]
    },
    {
      "cell_type": "code",
      "execution_count": 70,
      "metadata": {
        "colab": {
          "base_uri": "https://localhost:8080/"
        },
        "id": "t297L8WcFfbJ",
        "outputId": "544fbf09-5c6a-4e3d-bef8-2bbd4f026721"
      },
      "outputs": [
        {
          "data": {
            "text/plain": [
              "0.05534397163120568"
            ]
          },
          "execution_count": 70,
          "metadata": {},
          "output_type": "execute_result"
        }
      ],
      "source": [
        "mean_squared_error(y_train, y_train_predict)"
      ]
    },
    {
      "cell_type": "markdown",
      "metadata": {
        "id": "DnwjTcOoFf4L"
      },
      "source": [
        "Среднеквадратичная ошибка на тренировочной выборке:"
      ]
    },
    {
      "cell_type": "code",
      "execution_count": 71,
      "metadata": {
        "colab": {
          "base_uri": "https://localhost:8080/"
        },
        "id": "ajdnTyO7FgX1",
        "outputId": "67492ad3-4528-4b59-8ffe-cf28dbdb86fe"
      },
      "outputs": [
        {
          "data": {
            "text/plain": [
              "0.05601063829787234"
            ]
          },
          "execution_count": 71,
          "metadata": {},
          "output_type": "execute_result"
        }
      ],
      "source": [
        "mean_squared_error(y_test, y_test_predict)"
      ]
    },
    {
      "cell_type": "markdown",
      "metadata": {
        "id": "h3CyOxiIFNl7"
      },
      "source": [
        "**Для 5 соседей:**"
      ]
    },
    {
      "cell_type": "code",
      "execution_count": 72,
      "metadata": {
        "id": "9E2Z64hKF1ES"
      },
      "outputs": [],
      "source": [
        "knn = KNeighborsClassifier(n_neighbors = 5)\n",
        "knn.fit(X_train, y_train)\n",
        "y_train_predict = knn.predict(X_train)\n",
        "y_test_predict = knn.predict(X_test)"
      ]
    },
    {
      "cell_type": "markdown",
      "metadata": {
        "id": "Bpp5tDXrF1ET"
      },
      "source": [
        "Точность на обучающей выборке:"
      ]
    },
    {
      "cell_type": "code",
      "execution_count": 73,
      "metadata": {
        "colab": {
          "base_uri": "https://localhost:8080/"
        },
        "id": "6uwa22gCF1ET",
        "outputId": "8e84c0b4-52a8-45fd-ad29-8900434667d4"
      },
      "outputs": [
        {
          "data": {
            "text/plain": [
              "0.9494787234042553"
            ]
          },
          "execution_count": 73,
          "metadata": {},
          "output_type": "execute_result"
        }
      ],
      "source": [
        "accuracy_score(y_train, y_train_predict)"
      ]
    },
    {
      "cell_type": "markdown",
      "metadata": {
        "id": "WUajMn9jF1ET"
      },
      "source": [
        "Точность на тренировочной выборке:"
      ]
    },
    {
      "cell_type": "code",
      "execution_count": 74,
      "metadata": {
        "colab": {
          "base_uri": "https://localhost:8080/"
        },
        "id": "g2WD0XRCF1ET",
        "outputId": "de3bac71-1d22-48f5-a96d-0bd6918e13b0"
      },
      "outputs": [
        {
          "data": {
            "text/plain": [
              "0.9425"
            ]
          },
          "execution_count": 74,
          "metadata": {},
          "output_type": "execute_result"
        }
      ],
      "source": [
        "accuracy_score(y_test, y_test_predict)"
      ]
    },
    {
      "cell_type": "markdown",
      "metadata": {
        "id": "VMWSBi8gF1ET"
      },
      "source": [
        "Среднеквадратичная ошибка на обучающей выборке:"
      ]
    },
    {
      "cell_type": "code",
      "execution_count": 75,
      "metadata": {
        "colab": {
          "base_uri": "https://localhost:8080/"
        },
        "id": "hqlGZZ1oF1ET",
        "outputId": "fe390a87-51b9-4c8a-8b2e-0386f8c3594d"
      },
      "outputs": [
        {
          "data": {
            "text/plain": [
              "0.05052127659574468"
            ]
          },
          "execution_count": 75,
          "metadata": {},
          "output_type": "execute_result"
        }
      ],
      "source": [
        "mean_squared_error(y_train, y_train_predict)"
      ]
    },
    {
      "cell_type": "markdown",
      "metadata": {
        "id": "-OotdAgpF1ET"
      },
      "source": [
        "Среднеквадратичная ошибка на тренировочной выборке:"
      ]
    },
    {
      "cell_type": "code",
      "execution_count": 76,
      "metadata": {
        "colab": {
          "base_uri": "https://localhost:8080/"
        },
        "id": "aqpiY-S9F1EU",
        "outputId": "9a3f4b1d-7556-4f2d-bfdf-be89f651c47e"
      },
      "outputs": [
        {
          "data": {
            "text/plain": [
              "0.0575"
            ]
          },
          "execution_count": 76,
          "metadata": {},
          "output_type": "execute_result"
        }
      ],
      "source": [
        "mean_squared_error(y_test, y_test_predict)"
      ]
    },
    {
      "cell_type": "markdown",
      "metadata": {
        "id": "_fxWpHqMQs4r"
      },
      "source": [
        "## Общие выводы\n",
        "\n",
        "В данной работе реализовано обучение модели машинного обучения посредством метода k ближайших соседей, предсказывающей наличие сердечных заболеваний у человека.\n",
        "\n",
        "Лучше всего себя показал knn(n=10), так как имеет наименьшую ошибку на тесте. У knn(n=5) ошибка больше, но различия в тысячные (десятые доли процента)\n",
        "\n",
        "Такое небольшое значение ошибки можно обосновать тем, что признаки из датасета хорошо подобраны: с помощью них довольно неплохо получается предсказать наличие сердечных заболеваний.\n",
        "\n",
        "\n",
        "\n",
        "\n",
        "\n"
      ]
    },
    {
      "cell_type": "markdown",
      "metadata": {
        "id": "leBrwPG8wrHq"
      },
      "source": [
        "## RandomForest"
      ]
    },
    {
      "cell_type": "code",
      "execution_count": 77,
      "metadata": {
        "id": "rYuq4EZ_AU8U"
      },
      "outputs": [],
      "source": [
        "from sklearn import ensemble"
      ]
    },
    {
      "cell_type": "markdown",
      "metadata": {
        "id": "T4IPWonvMw0L"
      },
      "source": [
        "**Модель машинного обучения (100 решающих деревьев)**"
      ]
    },
    {
      "cell_type": "code",
      "execution_count": 78,
      "metadata": {
        "colab": {
          "base_uri": "https://localhost:8080/",
          "height": 51
        },
        "id": "NXZyDQTJMw0L",
        "outputId": "eb257833-dfd5-4394-cdbe-3c4bd230d2f6"
      },
      "outputs": [
        {
          "data": {
            "text/html": [
              "<style>#sk-container-id-1 {color: black;}#sk-container-id-1 pre{padding: 0;}#sk-container-id-1 div.sk-toggleable {background-color: white;}#sk-container-id-1 label.sk-toggleable__label {cursor: pointer;display: block;width: 100%;margin-bottom: 0;padding: 0.3em;box-sizing: border-box;text-align: center;}#sk-container-id-1 label.sk-toggleable__label-arrow:before {content: \"▸\";float: left;margin-right: 0.25em;color: #696969;}#sk-container-id-1 label.sk-toggleable__label-arrow:hover:before {color: black;}#sk-container-id-1 div.sk-estimator:hover label.sk-toggleable__label-arrow:before {color: black;}#sk-container-id-1 div.sk-toggleable__content {max-height: 0;max-width: 0;overflow: hidden;text-align: left;background-color: #f0f8ff;}#sk-container-id-1 div.sk-toggleable__content pre {margin: 0.2em;color: black;border-radius: 0.25em;background-color: #f0f8ff;}#sk-container-id-1 input.sk-toggleable__control:checked~div.sk-toggleable__content {max-height: 200px;max-width: 100%;overflow: auto;}#sk-container-id-1 input.sk-toggleable__control:checked~label.sk-toggleable__label-arrow:before {content: \"▾\";}#sk-container-id-1 div.sk-estimator input.sk-toggleable__control:checked~label.sk-toggleable__label {background-color: #d4ebff;}#sk-container-id-1 div.sk-label input.sk-toggleable__control:checked~label.sk-toggleable__label {background-color: #d4ebff;}#sk-container-id-1 input.sk-hidden--visually {border: 0;clip: rect(1px 1px 1px 1px);clip: rect(1px, 1px, 1px, 1px);height: 1px;margin: -1px;overflow: hidden;padding: 0;position: absolute;width: 1px;}#sk-container-id-1 div.sk-estimator {font-family: monospace;background-color: #f0f8ff;border: 1px dotted black;border-radius: 0.25em;box-sizing: border-box;margin-bottom: 0.5em;}#sk-container-id-1 div.sk-estimator:hover {background-color: #d4ebff;}#sk-container-id-1 div.sk-parallel-item::after {content: \"\";width: 100%;border-bottom: 1px solid gray;flex-grow: 1;}#sk-container-id-1 div.sk-label:hover label.sk-toggleable__label {background-color: #d4ebff;}#sk-container-id-1 div.sk-serial::before {content: \"\";position: absolute;border-left: 1px solid gray;box-sizing: border-box;top: 0;bottom: 0;left: 50%;z-index: 0;}#sk-container-id-1 div.sk-serial {display: flex;flex-direction: column;align-items: center;background-color: white;padding-right: 0.2em;padding-left: 0.2em;position: relative;}#sk-container-id-1 div.sk-item {position: relative;z-index: 1;}#sk-container-id-1 div.sk-parallel {display: flex;align-items: stretch;justify-content: center;background-color: white;position: relative;}#sk-container-id-1 div.sk-item::before, #sk-container-id-1 div.sk-parallel-item::before {content: \"\";position: absolute;border-left: 1px solid gray;box-sizing: border-box;top: 0;bottom: 0;left: 50%;z-index: -1;}#sk-container-id-1 div.sk-parallel-item {display: flex;flex-direction: column;z-index: 1;position: relative;background-color: white;}#sk-container-id-1 div.sk-parallel-item:first-child::after {align-self: flex-end;width: 50%;}#sk-container-id-1 div.sk-parallel-item:last-child::after {align-self: flex-start;width: 50%;}#sk-container-id-1 div.sk-parallel-item:only-child::after {width: 0;}#sk-container-id-1 div.sk-dashed-wrapped {border: 1px dashed gray;margin: 0 0.4em 0.5em 0.4em;box-sizing: border-box;padding-bottom: 0.4em;background-color: white;}#sk-container-id-1 div.sk-label label {font-family: monospace;font-weight: bold;display: inline-block;line-height: 1.2em;}#sk-container-id-1 div.sk-label-container {text-align: center;}#sk-container-id-1 div.sk-container {/* jupyter's `normalize.less` sets `[hidden] { display: none; }` but bootstrap.min.css set `[hidden] { display: none !important; }` so we also need the `!important` here to be able to override the default hidden behavior on the sphinx rendered scikit-learn.org. See: https://github.com/scikit-learn/scikit-learn/issues/21755 */display: inline-block !important;position: relative;}#sk-container-id-1 div.sk-text-repr-fallback {display: none;}</style><div id=\"sk-container-id-1\" class=\"sk-top-container\"><div class=\"sk-text-repr-fallback\"><pre>RandomForestClassifier(n_jobs=-1)</pre><b>In a Jupyter environment, please rerun this cell to show the HTML representation or trust the notebook. <br />On GitHub, the HTML representation is unable to render, please try loading this page with nbviewer.org.</b></div><div class=\"sk-container\" hidden><div class=\"sk-item\"><div class=\"sk-estimator sk-toggleable\"><input class=\"sk-toggleable__control sk-hidden--visually\" id=\"sk-estimator-id-1\" type=\"checkbox\" checked><label for=\"sk-estimator-id-1\" class=\"sk-toggleable__label sk-toggleable__label-arrow\">RandomForestClassifier</label><div class=\"sk-toggleable__content\"><pre>RandomForestClassifier(n_jobs=-1)</pre></div></div></div></div></div>"
            ],
            "text/plain": [
              "RandomForestClassifier(n_jobs=-1)"
            ]
          },
          "execution_count": 78,
          "metadata": {},
          "output_type": "execute_result"
        }
      ],
      "source": [
        "rf = ensemble.RandomForestClassifier(n_estimators = 100, n_jobs=-1)\n",
        "rf.fit(X_train, y_train)"
      ]
    },
    {
      "cell_type": "markdown",
      "metadata": {
        "id": "0tmz5WTDMw0M"
      },
      "source": [
        "**Ошибки на обучающей и тестовой выборках**"
      ]
    },
    {
      "cell_type": "code",
      "execution_count": 79,
      "metadata": {
        "colab": {
          "base_uri": "https://localhost:8080/"
        },
        "id": "M3R4ywqZMw0M",
        "outputId": "f5d1ff5a-ab00-43c9-ed1f-fc65dd5b2862"
      },
      "outputs": [
        {
          "name": "stdout",
          "output_type": "stream",
          "text": [
            "3.1914893617021275e-05 0.05377659574468085\n"
          ]
        }
      ],
      "source": [
        "err_train = np.mean(y_train != rf.predict(X_train))\n",
        "err_test  = np.mean(y_test  != rf.predict(X_test))\n",
        "\n",
        "print(err_train, err_test)"
      ]
    },
    {
      "cell_type": "code",
      "execution_count": 80,
      "metadata": {
        "colab": {
          "base_uri": "https://localhost:8080/"
        },
        "id": "wva2t9L0Mw0M",
        "outputId": "5441a21c-ab58-4eb8-c5fa-edbe759fa629"
      },
      "outputs": [
        {
          "data": {
            "text/plain": [
              "0.9462234042553191"
            ]
          },
          "execution_count": 80,
          "metadata": {},
          "output_type": "execute_result"
        }
      ],
      "source": [
        "accuracy_score(y_test, rf.predict(X_test))"
      ]
    },
    {
      "cell_type": "markdown",
      "metadata": {
        "id": "DUfRrusMMw0M"
      },
      "source": [
        "**Матрица рассогласования**"
      ]
    },
    {
      "cell_type": "code",
      "execution_count": 81,
      "metadata": {
        "colab": {
          "base_uri": "https://localhost:8080/"
        },
        "id": "UcjR2HX5Mw0M",
        "outputId": "c1f0280b-dfe8-4d02-ccc2-6aa4054d6ace"
      },
      "outputs": [
        {
          "name": "stdout",
          "output_type": "stream",
          "text": [
            "[[88243   474]\n",
            " [ 4581   702]]\n"
          ]
        }
      ],
      "source": [
        "from sklearn.metrics import confusion_matrix\n",
        "print(confusion_matrix(y_test, rf.predict(X_test)))"
      ]
    },
    {
      "cell_type": "markdown",
      "metadata": {
        "id": "MziCMKlxF5ZS"
      },
      "source": [
        "**Модель машинного обучения (1000 решающих деревьев)**"
      ]
    },
    {
      "cell_type": "code",
      "execution_count": 82,
      "metadata": {
        "colab": {
          "base_uri": "https://localhost:8080/",
          "height": 74
        },
        "id": "XMXp9jjnFQkI",
        "outputId": "6be62035-3203-45dd-ab30-a22bd95d183b"
      },
      "outputs": [
        {
          "data": {
            "text/html": [
              "<style>#sk-container-id-2 {color: black;}#sk-container-id-2 pre{padding: 0;}#sk-container-id-2 div.sk-toggleable {background-color: white;}#sk-container-id-2 label.sk-toggleable__label {cursor: pointer;display: block;width: 100%;margin-bottom: 0;padding: 0.3em;box-sizing: border-box;text-align: center;}#sk-container-id-2 label.sk-toggleable__label-arrow:before {content: \"▸\";float: left;margin-right: 0.25em;color: #696969;}#sk-container-id-2 label.sk-toggleable__label-arrow:hover:before {color: black;}#sk-container-id-2 div.sk-estimator:hover label.sk-toggleable__label-arrow:before {color: black;}#sk-container-id-2 div.sk-toggleable__content {max-height: 0;max-width: 0;overflow: hidden;text-align: left;background-color: #f0f8ff;}#sk-container-id-2 div.sk-toggleable__content pre {margin: 0.2em;color: black;border-radius: 0.25em;background-color: #f0f8ff;}#sk-container-id-2 input.sk-toggleable__control:checked~div.sk-toggleable__content {max-height: 200px;max-width: 100%;overflow: auto;}#sk-container-id-2 input.sk-toggleable__control:checked~label.sk-toggleable__label-arrow:before {content: \"▾\";}#sk-container-id-2 div.sk-estimator input.sk-toggleable__control:checked~label.sk-toggleable__label {background-color: #d4ebff;}#sk-container-id-2 div.sk-label input.sk-toggleable__control:checked~label.sk-toggleable__label {background-color: #d4ebff;}#sk-container-id-2 input.sk-hidden--visually {border: 0;clip: rect(1px 1px 1px 1px);clip: rect(1px, 1px, 1px, 1px);height: 1px;margin: -1px;overflow: hidden;padding: 0;position: absolute;width: 1px;}#sk-container-id-2 div.sk-estimator {font-family: monospace;background-color: #f0f8ff;border: 1px dotted black;border-radius: 0.25em;box-sizing: border-box;margin-bottom: 0.5em;}#sk-container-id-2 div.sk-estimator:hover {background-color: #d4ebff;}#sk-container-id-2 div.sk-parallel-item::after {content: \"\";width: 100%;border-bottom: 1px solid gray;flex-grow: 1;}#sk-container-id-2 div.sk-label:hover label.sk-toggleable__label {background-color: #d4ebff;}#sk-container-id-2 div.sk-serial::before {content: \"\";position: absolute;border-left: 1px solid gray;box-sizing: border-box;top: 0;bottom: 0;left: 50%;z-index: 0;}#sk-container-id-2 div.sk-serial {display: flex;flex-direction: column;align-items: center;background-color: white;padding-right: 0.2em;padding-left: 0.2em;position: relative;}#sk-container-id-2 div.sk-item {position: relative;z-index: 1;}#sk-container-id-2 div.sk-parallel {display: flex;align-items: stretch;justify-content: center;background-color: white;position: relative;}#sk-container-id-2 div.sk-item::before, #sk-container-id-2 div.sk-parallel-item::before {content: \"\";position: absolute;border-left: 1px solid gray;box-sizing: border-box;top: 0;bottom: 0;left: 50%;z-index: -1;}#sk-container-id-2 div.sk-parallel-item {display: flex;flex-direction: column;z-index: 1;position: relative;background-color: white;}#sk-container-id-2 div.sk-parallel-item:first-child::after {align-self: flex-end;width: 50%;}#sk-container-id-2 div.sk-parallel-item:last-child::after {align-self: flex-start;width: 50%;}#sk-container-id-2 div.sk-parallel-item:only-child::after {width: 0;}#sk-container-id-2 div.sk-dashed-wrapped {border: 1px dashed gray;margin: 0 0.4em 0.5em 0.4em;box-sizing: border-box;padding-bottom: 0.4em;background-color: white;}#sk-container-id-2 div.sk-label label {font-family: monospace;font-weight: bold;display: inline-block;line-height: 1.2em;}#sk-container-id-2 div.sk-label-container {text-align: center;}#sk-container-id-2 div.sk-container {/* jupyter's `normalize.less` sets `[hidden] { display: none; }` but bootstrap.min.css set `[hidden] { display: none !important; }` so we also need the `!important` here to be able to override the default hidden behavior on the sphinx rendered scikit-learn.org. See: https://github.com/scikit-learn/scikit-learn/issues/21755 */display: inline-block !important;position: relative;}#sk-container-id-2 div.sk-text-repr-fallback {display: none;}</style><div id=\"sk-container-id-2\" class=\"sk-top-container\"><div class=\"sk-text-repr-fallback\"><pre>RandomForestClassifier(n_estimators=1000, n_jobs=-1)</pre><b>In a Jupyter environment, please rerun this cell to show the HTML representation or trust the notebook. <br />On GitHub, the HTML representation is unable to render, please try loading this page with nbviewer.org.</b></div><div class=\"sk-container\" hidden><div class=\"sk-item\"><div class=\"sk-estimator sk-toggleable\"><input class=\"sk-toggleable__control sk-hidden--visually\" id=\"sk-estimator-id-2\" type=\"checkbox\" checked><label for=\"sk-estimator-id-2\" class=\"sk-toggleable__label sk-toggleable__label-arrow\">RandomForestClassifier</label><div class=\"sk-toggleable__content\"><pre>RandomForestClassifier(n_estimators=1000, n_jobs=-1)</pre></div></div></div></div></div>"
            ],
            "text/plain": [
              "RandomForestClassifier(n_estimators=1000, n_jobs=-1)"
            ]
          },
          "execution_count": 82,
          "metadata": {},
          "output_type": "execute_result"
        }
      ],
      "source": [
        "rf = ensemble.RandomForestClassifier(n_estimators = 1000, n_jobs=-1)\n",
        "rf.fit(X_train, y_train)"
      ]
    },
    {
      "cell_type": "markdown",
      "metadata": {
        "id": "G9MdOOEmF9bf"
      },
      "source": [
        "**Ошибки на обучающей и тестовой выборках**"
      ]
    },
    {
      "cell_type": "code",
      "execution_count": 83,
      "metadata": {
        "colab": {
          "base_uri": "https://localhost:8080/"
        },
        "id": "PXp6Qo0zAZJv",
        "outputId": "e71784c3-8075-41be-cbc7-5bc7acf7170c"
      },
      "outputs": [
        {
          "name": "stdout",
          "output_type": "stream",
          "text": [
            "3.546099290780142e-06 0.0534468085106383\n"
          ]
        }
      ],
      "source": [
        "err_train = np.mean(y_train != rf.predict(X_train))\n",
        "err_test  = np.mean(y_test  != rf.predict(X_test))\n",
        "\n",
        "print(err_train, err_test)"
      ]
    },
    {
      "cell_type": "code",
      "execution_count": 84,
      "metadata": {
        "colab": {
          "base_uri": "https://localhost:8080/"
        },
        "id": "0VAPxlfRK36U",
        "outputId": "9a4c4529-5c6a-412e-8707-4dc886a1eb0b"
      },
      "outputs": [
        {
          "data": {
            "text/plain": [
              "0.9465531914893617"
            ]
          },
          "execution_count": 84,
          "metadata": {},
          "output_type": "execute_result"
        }
      ],
      "source": [
        "accuracy_score(y_test, rf.predict(X_test))"
      ]
    },
    {
      "cell_type": "markdown",
      "metadata": {
        "id": "8T4LE_SaGiWL"
      },
      "source": [
        "**Матрица рассогласования**"
      ]
    },
    {
      "cell_type": "code",
      "execution_count": 85,
      "metadata": {
        "colab": {
          "base_uri": "https://localhost:8080/"
        },
        "id": "B-FpShqnHBdI",
        "outputId": "6ea0eb6e-d8b2-45a7-a122-cb1fd8c2096c"
      },
      "outputs": [
        {
          "name": "stdout",
          "output_type": "stream",
          "text": [
            "[[88278   439]\n",
            " [ 4585   698]]\n"
          ]
        }
      ],
      "source": [
        "from sklearn.metrics import confusion_matrix\n",
        "print(confusion_matrix(y_test, rf.predict(X_test)))"
      ]
    },
    {
      "cell_type": "markdown",
      "metadata": {
        "id": "AHc6bSh1w78l"
      },
      "source": [
        "## Логистическая регрессия"
      ]
    },
    {
      "cell_type": "code",
      "execution_count": 86,
      "metadata": {
        "id": "l6xPDKrEIXqJ"
      },
      "outputs": [],
      "source": [
        "from sklearn.linear_model import LogisticRegression"
      ]
    },
    {
      "cell_type": "markdown",
      "metadata": {
        "id": "_TaClamRrzG8"
      },
      "source": [
        "**Выбор оптимального значения гиперпараметра C**\n",
        "\n"
      ]
    },
    {
      "cell_type": "code",
      "execution_count": 87,
      "metadata": {
        "id": "N1gE5C64sEat"
      },
      "outputs": [],
      "source": [
        "param_c_array = np.logspace(-3,3,10)"
      ]
    },
    {
      "cell_type": "code",
      "execution_count": 88,
      "metadata": {
        "id": "NsYJPjf6saHI"
      },
      "outputs": [],
      "source": [
        "logistic_model = LogisticRegression()\n",
        "\n",
        "params = {\n",
        "    'C': param_c_array\n",
        "}"
      ]
    },
    {
      "cell_type": "code",
      "execution_count": 89,
      "metadata": {
        "colab": {
          "base_uri": "https://localhost:8080/",
          "height": 116
        },
        "id": "O6wvC2CwscAf",
        "outputId": "2c204e24-e346-42df-bf08-c40636c64ef9"
      },
      "outputs": [
        {
          "data": {
            "text/html": [
              "<style>#sk-container-id-3 {color: black;}#sk-container-id-3 pre{padding: 0;}#sk-container-id-3 div.sk-toggleable {background-color: white;}#sk-container-id-3 label.sk-toggleable__label {cursor: pointer;display: block;width: 100%;margin-bottom: 0;padding: 0.3em;box-sizing: border-box;text-align: center;}#sk-container-id-3 label.sk-toggleable__label-arrow:before {content: \"▸\";float: left;margin-right: 0.25em;color: #696969;}#sk-container-id-3 label.sk-toggleable__label-arrow:hover:before {color: black;}#sk-container-id-3 div.sk-estimator:hover label.sk-toggleable__label-arrow:before {color: black;}#sk-container-id-3 div.sk-toggleable__content {max-height: 0;max-width: 0;overflow: hidden;text-align: left;background-color: #f0f8ff;}#sk-container-id-3 div.sk-toggleable__content pre {margin: 0.2em;color: black;border-radius: 0.25em;background-color: #f0f8ff;}#sk-container-id-3 input.sk-toggleable__control:checked~div.sk-toggleable__content {max-height: 200px;max-width: 100%;overflow: auto;}#sk-container-id-3 input.sk-toggleable__control:checked~label.sk-toggleable__label-arrow:before {content: \"▾\";}#sk-container-id-3 div.sk-estimator input.sk-toggleable__control:checked~label.sk-toggleable__label {background-color: #d4ebff;}#sk-container-id-3 div.sk-label input.sk-toggleable__control:checked~label.sk-toggleable__label {background-color: #d4ebff;}#sk-container-id-3 input.sk-hidden--visually {border: 0;clip: rect(1px 1px 1px 1px);clip: rect(1px, 1px, 1px, 1px);height: 1px;margin: -1px;overflow: hidden;padding: 0;position: absolute;width: 1px;}#sk-container-id-3 div.sk-estimator {font-family: monospace;background-color: #f0f8ff;border: 1px dotted black;border-radius: 0.25em;box-sizing: border-box;margin-bottom: 0.5em;}#sk-container-id-3 div.sk-estimator:hover {background-color: #d4ebff;}#sk-container-id-3 div.sk-parallel-item::after {content: \"\";width: 100%;border-bottom: 1px solid gray;flex-grow: 1;}#sk-container-id-3 div.sk-label:hover label.sk-toggleable__label {background-color: #d4ebff;}#sk-container-id-3 div.sk-serial::before {content: \"\";position: absolute;border-left: 1px solid gray;box-sizing: border-box;top: 0;bottom: 0;left: 50%;z-index: 0;}#sk-container-id-3 div.sk-serial {display: flex;flex-direction: column;align-items: center;background-color: white;padding-right: 0.2em;padding-left: 0.2em;position: relative;}#sk-container-id-3 div.sk-item {position: relative;z-index: 1;}#sk-container-id-3 div.sk-parallel {display: flex;align-items: stretch;justify-content: center;background-color: white;position: relative;}#sk-container-id-3 div.sk-item::before, #sk-container-id-3 div.sk-parallel-item::before {content: \"\";position: absolute;border-left: 1px solid gray;box-sizing: border-box;top: 0;bottom: 0;left: 50%;z-index: -1;}#sk-container-id-3 div.sk-parallel-item {display: flex;flex-direction: column;z-index: 1;position: relative;background-color: white;}#sk-container-id-3 div.sk-parallel-item:first-child::after {align-self: flex-end;width: 50%;}#sk-container-id-3 div.sk-parallel-item:last-child::after {align-self: flex-start;width: 50%;}#sk-container-id-3 div.sk-parallel-item:only-child::after {width: 0;}#sk-container-id-3 div.sk-dashed-wrapped {border: 1px dashed gray;margin: 0 0.4em 0.5em 0.4em;box-sizing: border-box;padding-bottom: 0.4em;background-color: white;}#sk-container-id-3 div.sk-label label {font-family: monospace;font-weight: bold;display: inline-block;line-height: 1.2em;}#sk-container-id-3 div.sk-label-container {text-align: center;}#sk-container-id-3 div.sk-container {/* jupyter's `normalize.less` sets `[hidden] { display: none; }` but bootstrap.min.css set `[hidden] { display: none !important; }` so we also need the `!important` here to be able to override the default hidden behavior on the sphinx rendered scikit-learn.org. See: https://github.com/scikit-learn/scikit-learn/issues/21755 */display: inline-block !important;position: relative;}#sk-container-id-3 div.sk-text-repr-fallback {display: none;}</style><div id=\"sk-container-id-3\" class=\"sk-top-container\"><div class=\"sk-text-repr-fallback\"><pre>GridSearchCV(estimator=LogisticRegression(), n_jobs=-1,\n",
              "             param_grid={&#x27;C&#x27;: array([1.00000000e-03, 4.64158883e-03, 2.15443469e-02, 1.00000000e-01,\n",
              "       4.64158883e-01, 2.15443469e+00, 1.00000000e+01, 4.64158883e+01,\n",
              "       2.15443469e+02, 1.00000000e+03])})</pre><b>In a Jupyter environment, please rerun this cell to show the HTML representation or trust the notebook. <br />On GitHub, the HTML representation is unable to render, please try loading this page with nbviewer.org.</b></div><div class=\"sk-container\" hidden><div class=\"sk-item sk-dashed-wrapped\"><div class=\"sk-label-container\"><div class=\"sk-label sk-toggleable\"><input class=\"sk-toggleable__control sk-hidden--visually\" id=\"sk-estimator-id-3\" type=\"checkbox\" ><label for=\"sk-estimator-id-3\" class=\"sk-toggleable__label sk-toggleable__label-arrow\">GridSearchCV</label><div class=\"sk-toggleable__content\"><pre>GridSearchCV(estimator=LogisticRegression(), n_jobs=-1,\n",
              "             param_grid={&#x27;C&#x27;: array([1.00000000e-03, 4.64158883e-03, 2.15443469e-02, 1.00000000e-01,\n",
              "       4.64158883e-01, 2.15443469e+00, 1.00000000e+01, 4.64158883e+01,\n",
              "       2.15443469e+02, 1.00000000e+03])})</pre></div></div></div><div class=\"sk-parallel\"><div class=\"sk-parallel-item\"><div class=\"sk-item\"><div class=\"sk-label-container\"><div class=\"sk-label sk-toggleable\"><input class=\"sk-toggleable__control sk-hidden--visually\" id=\"sk-estimator-id-4\" type=\"checkbox\" ><label for=\"sk-estimator-id-4\" class=\"sk-toggleable__label sk-toggleable__label-arrow\">estimator: LogisticRegression</label><div class=\"sk-toggleable__content\"><pre>LogisticRegression()</pre></div></div></div><div class=\"sk-serial\"><div class=\"sk-item\"><div class=\"sk-estimator sk-toggleable\"><input class=\"sk-toggleable__control sk-hidden--visually\" id=\"sk-estimator-id-5\" type=\"checkbox\" ><label for=\"sk-estimator-id-5\" class=\"sk-toggleable__label sk-toggleable__label-arrow\">LogisticRegression</label><div class=\"sk-toggleable__content\"><pre>LogisticRegression()</pre></div></div></div></div></div></div></div></div></div></div>"
            ],
            "text/plain": [
              "GridSearchCV(estimator=LogisticRegression(), n_jobs=-1,\n",
              "             param_grid={'C': array([1.00000000e-03, 4.64158883e-03, 2.15443469e-02, 1.00000000e-01,\n",
              "       4.64158883e-01, 2.15443469e+00, 1.00000000e+01, 4.64158883e+01,\n",
              "       2.15443469e+02, 1.00000000e+03])})"
            ]
          },
          "execution_count": 89,
          "metadata": {},
          "output_type": "execute_result"
        }
      ],
      "source": [
        "from sklearn.model_selection import GridSearchCV\n",
        "gs = GridSearchCV(logistic_model,\n",
        "                  params,\n",
        "                  n_jobs=-1\n",
        "                  )\n",
        "gs.fit(X_train, y_train)"
      ]
    },
    {
      "cell_type": "code",
      "execution_count": 90,
      "metadata": {
        "colab": {
          "base_uri": "https://localhost:8080/"
        },
        "id": "GeBPxMRuugzd",
        "outputId": "6ebbbd7c-8528-4293-e5d6-14f3a802d7b7"
      },
      "outputs": [
        {
          "data": {
            "text/plain": [
              "{'C': 0.004641588833612777}"
            ]
          },
          "execution_count": 90,
          "metadata": {},
          "output_type": "execute_result"
        }
      ],
      "source": [
        "gs.best_params_"
      ]
    },
    {
      "cell_type": "markdown",
      "metadata": {
        "id": "wr8zxCGWw1Xf"
      },
      "source": [
        "**Обучение модели с оптимальным значением гиперпараметра**"
      ]
    },
    {
      "cell_type": "code",
      "execution_count": 91,
      "metadata": {
        "colab": {
          "base_uri": "https://localhost:8080/",
          "height": 74
        },
        "id": "C9BU9oYhI1fH",
        "outputId": "5ab550ed-f032-42d4-ecec-90a889855aab"
      },
      "outputs": [
        {
          "data": {
            "text/html": [
              "<style>#sk-container-id-4 {color: black;}#sk-container-id-4 pre{padding: 0;}#sk-container-id-4 div.sk-toggleable {background-color: white;}#sk-container-id-4 label.sk-toggleable__label {cursor: pointer;display: block;width: 100%;margin-bottom: 0;padding: 0.3em;box-sizing: border-box;text-align: center;}#sk-container-id-4 label.sk-toggleable__label-arrow:before {content: \"▸\";float: left;margin-right: 0.25em;color: #696969;}#sk-container-id-4 label.sk-toggleable__label-arrow:hover:before {color: black;}#sk-container-id-4 div.sk-estimator:hover label.sk-toggleable__label-arrow:before {color: black;}#sk-container-id-4 div.sk-toggleable__content {max-height: 0;max-width: 0;overflow: hidden;text-align: left;background-color: #f0f8ff;}#sk-container-id-4 div.sk-toggleable__content pre {margin: 0.2em;color: black;border-radius: 0.25em;background-color: #f0f8ff;}#sk-container-id-4 input.sk-toggleable__control:checked~div.sk-toggleable__content {max-height: 200px;max-width: 100%;overflow: auto;}#sk-container-id-4 input.sk-toggleable__control:checked~label.sk-toggleable__label-arrow:before {content: \"▾\";}#sk-container-id-4 div.sk-estimator input.sk-toggleable__control:checked~label.sk-toggleable__label {background-color: #d4ebff;}#sk-container-id-4 div.sk-label input.sk-toggleable__control:checked~label.sk-toggleable__label {background-color: #d4ebff;}#sk-container-id-4 input.sk-hidden--visually {border: 0;clip: rect(1px 1px 1px 1px);clip: rect(1px, 1px, 1px, 1px);height: 1px;margin: -1px;overflow: hidden;padding: 0;position: absolute;width: 1px;}#sk-container-id-4 div.sk-estimator {font-family: monospace;background-color: #f0f8ff;border: 1px dotted black;border-radius: 0.25em;box-sizing: border-box;margin-bottom: 0.5em;}#sk-container-id-4 div.sk-estimator:hover {background-color: #d4ebff;}#sk-container-id-4 div.sk-parallel-item::after {content: \"\";width: 100%;border-bottom: 1px solid gray;flex-grow: 1;}#sk-container-id-4 div.sk-label:hover label.sk-toggleable__label {background-color: #d4ebff;}#sk-container-id-4 div.sk-serial::before {content: \"\";position: absolute;border-left: 1px solid gray;box-sizing: border-box;top: 0;bottom: 0;left: 50%;z-index: 0;}#sk-container-id-4 div.sk-serial {display: flex;flex-direction: column;align-items: center;background-color: white;padding-right: 0.2em;padding-left: 0.2em;position: relative;}#sk-container-id-4 div.sk-item {position: relative;z-index: 1;}#sk-container-id-4 div.sk-parallel {display: flex;align-items: stretch;justify-content: center;background-color: white;position: relative;}#sk-container-id-4 div.sk-item::before, #sk-container-id-4 div.sk-parallel-item::before {content: \"\";position: absolute;border-left: 1px solid gray;box-sizing: border-box;top: 0;bottom: 0;left: 50%;z-index: -1;}#sk-container-id-4 div.sk-parallel-item {display: flex;flex-direction: column;z-index: 1;position: relative;background-color: white;}#sk-container-id-4 div.sk-parallel-item:first-child::after {align-self: flex-end;width: 50%;}#sk-container-id-4 div.sk-parallel-item:last-child::after {align-self: flex-start;width: 50%;}#sk-container-id-4 div.sk-parallel-item:only-child::after {width: 0;}#sk-container-id-4 div.sk-dashed-wrapped {border: 1px dashed gray;margin: 0 0.4em 0.5em 0.4em;box-sizing: border-box;padding-bottom: 0.4em;background-color: white;}#sk-container-id-4 div.sk-label label {font-family: monospace;font-weight: bold;display: inline-block;line-height: 1.2em;}#sk-container-id-4 div.sk-label-container {text-align: center;}#sk-container-id-4 div.sk-container {/* jupyter's `normalize.less` sets `[hidden] { display: none; }` but bootstrap.min.css set `[hidden] { display: none !important; }` so we also need the `!important` here to be able to override the default hidden behavior on the sphinx rendered scikit-learn.org. See: https://github.com/scikit-learn/scikit-learn/issues/21755 */display: inline-block !important;position: relative;}#sk-container-id-4 div.sk-text-repr-fallback {display: none;}</style><div id=\"sk-container-id-4\" class=\"sk-top-container\"><div class=\"sk-text-repr-fallback\"><pre>LogisticRegression(C=0.004641588833612777)</pre><b>In a Jupyter environment, please rerun this cell to show the HTML representation or trust the notebook. <br />On GitHub, the HTML representation is unable to render, please try loading this page with nbviewer.org.</b></div><div class=\"sk-container\" hidden><div class=\"sk-item\"><div class=\"sk-estimator sk-toggleable\"><input class=\"sk-toggleable__control sk-hidden--visually\" id=\"sk-estimator-id-6\" type=\"checkbox\" checked><label for=\"sk-estimator-id-6\" class=\"sk-toggleable__label sk-toggleable__label-arrow\">LogisticRegression</label><div class=\"sk-toggleable__content\"><pre>LogisticRegression(C=0.004641588833612777)</pre></div></div></div></div></div>"
            ],
            "text/plain": [
              "LogisticRegression(C=0.004641588833612777)"
            ]
          },
          "execution_count": 91,
          "metadata": {},
          "output_type": "execute_result"
        }
      ],
      "source": [
        "logistic_model = LogisticRegression(C=gs.best_params_['C'])\n",
        "logistic_model.fit(X_train, y_train)"
      ]
    },
    {
      "cell_type": "markdown",
      "metadata": {
        "id": "NTxVTTsww-lP"
      },
      "source": [
        "**Ошибки на обучающей и тестовой выборках**"
      ]
    },
    {
      "cell_type": "code",
      "execution_count": 92,
      "metadata": {
        "colab": {
          "base_uri": "https://localhost:8080/"
        },
        "id": "ZJMIi09ZJP-w",
        "outputId": "9706288c-af31-44f1-8683-50686aac949b"
      },
      "outputs": [
        {
          "name": "stdout",
          "output_type": "stream",
          "text": [
            "3.546099290780142e-06 0.0534468085106383\n"
          ]
        }
      ],
      "source": [
        "err_train_logistic = np.mean(y_train != logistic_model.predict(X_train))\n",
        "err_test_logistic  = np.mean(y_test  != logistic_model.predict(X_test))\n",
        "\n",
        "print(err_train, err_test)"
      ]
    },
    {
      "cell_type": "markdown",
      "metadata": {
        "id": "j724rnskxE9v"
      },
      "source": [
        "**Матрица рассогласования**"
      ]
    },
    {
      "cell_type": "code",
      "execution_count": 93,
      "metadata": {
        "colab": {
          "base_uri": "https://localhost:8080/"
        },
        "id": "Lp-E9fPHJtEb",
        "outputId": "dffca832-4bb2-4bda-c682-5a80f7be168f"
      },
      "outputs": [
        {
          "name": "stdout",
          "output_type": "stream",
          "text": [
            "[[87931   786]\n",
            " [ 4163  1120]]\n"
          ]
        }
      ],
      "source": [
        "from sklearn.metrics import confusion_matrix\n",
        "print(confusion_matrix(y_test, logistic_model.predict(X_test)))"
      ]
    },
    {
      "cell_type": "markdown",
      "metadata": {
        "id": "2y1JgoXMvW3S"
      },
      "source": [
        "**График ошибки в зависимости от гиперпараметра C**"
      ]
    },
    {
      "cell_type": "code",
      "execution_count": 94,
      "metadata": {
        "colab": {
          "base_uri": "https://localhost:8080/"
        },
        "id": "hQKHCtgBvdd6",
        "outputId": "fbcc07af-3b44-42c4-c3b7-989acc88ca18"
      },
      "outputs": [
        {
          "name": "stderr",
          "output_type": "stream",
          "text": [
            "c:\\Python311\\Lib\\site-packages\\sklearn\\linear_model\\_logistic.py:460: ConvergenceWarning: lbfgs failed to converge (status=1):\n",
            "STOP: TOTAL NO. of ITERATIONS REACHED LIMIT.\n",
            "\n",
            "Increase the number of iterations (max_iter) or scale the data as shown in:\n",
            "    https://scikit-learn.org/stable/modules/preprocessing.html\n",
            "Please also refer to the documentation for alternative solver options:\n",
            "    https://scikit-learn.org/stable/modules/linear_model.html#logistic-regression\n",
            "  n_iter_i = _check_optimize_result(\n",
            "c:\\Python311\\Lib\\site-packages\\sklearn\\linear_model\\_logistic.py:460: ConvergenceWarning: lbfgs failed to converge (status=1):\n",
            "STOP: TOTAL NO. of ITERATIONS REACHED LIMIT.\n",
            "\n",
            "Increase the number of iterations (max_iter) or scale the data as shown in:\n",
            "    https://scikit-learn.org/stable/modules/preprocessing.html\n",
            "Please also refer to the documentation for alternative solver options:\n",
            "    https://scikit-learn.org/stable/modules/linear_model.html#logistic-regression\n",
            "  n_iter_i = _check_optimize_result(\n",
            "c:\\Python311\\Lib\\site-packages\\sklearn\\linear_model\\_logistic.py:460: ConvergenceWarning: lbfgs failed to converge (status=1):\n",
            "STOP: TOTAL NO. of ITERATIONS REACHED LIMIT.\n",
            "\n",
            "Increase the number of iterations (max_iter) or scale the data as shown in:\n",
            "    https://scikit-learn.org/stable/modules/preprocessing.html\n",
            "Please also refer to the documentation for alternative solver options:\n",
            "    https://scikit-learn.org/stable/modules/linear_model.html#logistic-regression\n",
            "  n_iter_i = _check_optimize_result(\n",
            "c:\\Python311\\Lib\\site-packages\\sklearn\\linear_model\\_logistic.py:460: ConvergenceWarning: lbfgs failed to converge (status=1):\n",
            "STOP: TOTAL NO. of ITERATIONS REACHED LIMIT.\n",
            "\n",
            "Increase the number of iterations (max_iter) or scale the data as shown in:\n",
            "    https://scikit-learn.org/stable/modules/preprocessing.html\n",
            "Please also refer to the documentation for alternative solver options:\n",
            "    https://scikit-learn.org/stable/modules/linear_model.html#logistic-regression\n",
            "  n_iter_i = _check_optimize_result(\n",
            "c:\\Python311\\Lib\\site-packages\\sklearn\\linear_model\\_logistic.py:460: ConvergenceWarning: lbfgs failed to converge (status=1):\n",
            "STOP: TOTAL NO. of ITERATIONS REACHED LIMIT.\n",
            "\n",
            "Increase the number of iterations (max_iter) or scale the data as shown in:\n",
            "    https://scikit-learn.org/stable/modules/preprocessing.html\n",
            "Please also refer to the documentation for alternative solver options:\n",
            "    https://scikit-learn.org/stable/modules/linear_model.html#logistic-regression\n",
            "  n_iter_i = _check_optimize_result(\n",
            "c:\\Python311\\Lib\\site-packages\\sklearn\\linear_model\\_logistic.py:460: ConvergenceWarning: lbfgs failed to converge (status=1):\n",
            "STOP: TOTAL NO. of ITERATIONS REACHED LIMIT.\n",
            "\n",
            "Increase the number of iterations (max_iter) or scale the data as shown in:\n",
            "    https://scikit-learn.org/stable/modules/preprocessing.html\n",
            "Please also refer to the documentation for alternative solver options:\n",
            "    https://scikit-learn.org/stable/modules/linear_model.html#logistic-regression\n",
            "  n_iter_i = _check_optimize_result(\n",
            "c:\\Python311\\Lib\\site-packages\\sklearn\\linear_model\\_logistic.py:460: ConvergenceWarning: lbfgs failed to converge (status=1):\n",
            "STOP: TOTAL NO. of ITERATIONS REACHED LIMIT.\n",
            "\n",
            "Increase the number of iterations (max_iter) or scale the data as shown in:\n",
            "    https://scikit-learn.org/stable/modules/preprocessing.html\n",
            "Please also refer to the documentation for alternative solver options:\n",
            "    https://scikit-learn.org/stable/modules/linear_model.html#logistic-regression\n",
            "  n_iter_i = _check_optimize_result(\n",
            "c:\\Python311\\Lib\\site-packages\\sklearn\\linear_model\\_logistic.py:460: ConvergenceWarning: lbfgs failed to converge (status=1):\n",
            "STOP: TOTAL NO. of ITERATIONS REACHED LIMIT.\n",
            "\n",
            "Increase the number of iterations (max_iter) or scale the data as shown in:\n",
            "    https://scikit-learn.org/stable/modules/preprocessing.html\n",
            "Please also refer to the documentation for alternative solver options:\n",
            "    https://scikit-learn.org/stable/modules/linear_model.html#logistic-regression\n",
            "  n_iter_i = _check_optimize_result(\n"
          ]
        }
      ],
      "source": [
        "error_array = []\n",
        "for param_c in param_c_array:\n",
        "  model = LogisticRegression(C = param_c)\n",
        "  model.fit(X_train, y_train)\n",
        "  predict = model.predict(X_test)\n",
        "  current_error  = np.mean(y_test  != predict)\n",
        "  error_array.append(current_error)"
      ]
    },
    {
      "cell_type": "code",
      "execution_count": 95,
      "metadata": {
        "colab": {
          "base_uri": "https://localhost:8080/",
          "height": 743
        },
        "id": "p2HTrH0hv5fB",
        "outputId": "f86b7c5c-f485-4e62-9a86-dcd152f1b4f5"
      },
      "outputs": [
        {
          "data": {
            "text/plain": [
              "[]"
            ]
          },
          "execution_count": 95,
          "metadata": {},
          "output_type": "execute_result"
        },
        {
          "data": {
            "image/png": "[encoded data removed]",
            "text/plain": [
              "<Figure size 1500x827 with 1 Axes>"
            ]
          },
          "metadata": {},
          "output_type": "display_data"
        }
      ],
      "source": [
        "plt.xlim([np.min(error_array), np.max(error_array)])\n",
        "plt.plot(param_c_array, error_array)\n",
        "plt.ylabel('Error on test')\n",
        "plt.xlabel('Hypoparam C')\n",
        "plt.plot()"
      ]
    },
    {
      "cell_type": "markdown",
      "metadata": {
        "id": "mUpoOARQwjbs"
      },
      "source": [
        "## Общие выводы\n",
        "\n",
        "Были обучены разные модели машинного обучения и проделан процесс выбора оптимального гиперпараметра. Также для моделей были построены матрицы рассогласования.\n",
        "\n",
        "Cитуация, при которой результат на выборке для обучения лучше других, наблюдается для Логистической регрессии. Это может говорить о переобучении.\n",
        "\n",
        "Наименьшую ошибку показала модель машинного обучения - RandomForest при количестве деревьев (гиперпараметр) = 1000"
      ]
    }
  ],
  "metadata": {
    "colab": {
      "provenance": []
    },
    "kernelspec": {
      "display_name": "Python 3",
      "name": "python3"
    },
    "language_info": {
      "codemirror_mode": {
        "name": "ipython",
        "version": 3
      },
      "file_extension": ".py",
      "mimetype": "text/x-python",
      "name": "python",
      "nbconvert_exporter": "python",
      "pygments_lexer": "ipython3",
      "version": "3.11.2"
    }
  },
  "nbformat": 4,
  "nbformat_minor": 0
}
